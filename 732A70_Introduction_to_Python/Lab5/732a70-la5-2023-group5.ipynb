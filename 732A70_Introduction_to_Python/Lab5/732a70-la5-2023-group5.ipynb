{
 "cells": [
  {
   "cell_type": "markdown",
   "metadata": {},
   "source": [
    "# Lab 5: Simple OOP and numpy\n"
   ]
  },
  {
   "cell_type": "markdown",
   "metadata": {},
   "source": [
    "__Student:__ lepzh903\n",
    "\n",
    "__Student:__ xuawa284"
   ]
  },
  {
   "cell_type": "markdown",
   "metadata": {},
   "source": [
    "# 2. Introduction"
   ]
  },
  {
   "cell_type": "markdown",
   "metadata": {},
   "source": [
    "## Object-oriented Programming"
   ]
  },
  {
   "cell_type": "markdown",
   "metadata": {},
   "source": [
    "The point of Object-oriented Programming is to support encapsulation and the DRY (Don't Repeat Yourself) principle without things getting out of hand. Often, software architects (those high-level programmers who are responsible for how large systems are designed on a technical level) talk about Object-oriented design or Object-oriented analysis. The point of this is to identify the necessary _objects_ in a system. An object in this sense is not exactly the same as a Python object but rather a somewhat higher level logical unit which can reasonably be thought of as an independent component within the system. These high level objects might then be further subdivided into smaller and smaller objects and at a some level the responsibility shifts from the system architect to the team or individual developer working on a specific component. Thus, Object-oriented thinking is necessary for anyone developing code which will be integrated with a larger system, for instance a data scientist implementing analytics tools."
   ]
  },
  {
   "cell_type": "markdown",
   "metadata": {},
   "source": [
    "## OOP in Python"
   ]
  },
  {
   "cell_type": "markdown",
   "metadata": {},
   "source": [
    "Python implements the Object-oriented paradigm to a somewhat larger degree than the Functional paradigm. However, there are features considered necessary for _strict_ object-oriented programming missing from Python. Mainly, we are talking about data protection. Not in a software security sense, but in the sense of encapsulation. There is no simple way to strictly control access to member variables in Python. This does not affect this lab in any way but is worth remembering if one has worked in a language such as Java previously."
   ]
  },
  {
   "cell_type": "markdown",
   "metadata": {},
   "source": [
    "# 3. Simple instance tests in Python"
   ]
  },
  {
   "cell_type": "markdown",
   "metadata": {},
   "source": [
    "Note: some of these questions will be extremely simple, and some might prove trickier. Don't expect that the answer needs to be hard."
   ]
  },
  {
   "cell_type": "code",
   "execution_count": 2,
   "metadata": {},
   "outputs": [],
   "source": [
    "class Person:\n",
    "    def __init__(self, name):\n",
    "        self.name = name\n",
    "        self.age = 0            # Age should be non-negative.\n",
    "        \n",
    "    def get_age(self):\n",
    "        \"\"\"Return the Person's age, a non-negative number.\"\"\"\n",
    "        return self.age\n",
    "    \n",
    "    def return_five(self):\n",
    "        \"\"\"Return 5. Dummy function.\"\"\"\n",
    "        return 5\n",
    "\n",
    "Jackal = Person \n",
    "\n",
    "president = Person(\"Jeb\")\n",
    "psec = Jackal(\"CJ Cregg\")"
   ]
  },
  {
   "cell_type": "markdown",
   "metadata": {},
   "source": [
    "a) Change the age of the `president` to 65 (`psec` should be unaffected)."
   ]
  },
  {
   "cell_type": "code",
   "execution_count": 3,
   "metadata": {},
   "outputs": [],
   "source": [
    "president.age = 65"
   ]
  },
  {
   "cell_type": "markdown",
   "metadata": {},
   "source": [
    "[Note: This mode of operation is sometimes considered poor OOP. We will remedy this later.]"
   ]
  },
  {
   "cell_type": "markdown",
   "metadata": {},
   "source": [
    "b) How many `Person` instances are there? One, two or three?"
   ]
  },
  {
   "cell_type": "code",
   "execution_count": 4,
   "metadata": {},
   "outputs": [],
   "source": [
    "# 2"
   ]
  },
  {
   "cell_type": "markdown",
   "metadata": {},
   "source": [
    "c) Consider the following code snippets. What do you think that they will return, and why? Discuss amongst yourselves. After that, run the code and explain the output. You only need to write down your explanation of the output."
   ]
  },
  {
   "cell_type": "code",
   "execution_count": 5,
   "metadata": {},
   "outputs": [
    {
     "name": "stderr",
     "output_type": "stream",
     "text": [
      "<>:1: SyntaxWarning: \"is\" with a literal. Did you mean \"==\"?\n",
      "<>:1: SyntaxWarning: \"is\" with a literal. Did you mean \"==\"?\n",
      "<ipython-input-5-9717c936c88c>:1: SyntaxWarning: \"is\" with a literal. Did you mean \"==\"?\n",
      "  \"Jeb\" is Person\n"
     ]
    },
    {
     "data": {
      "text/plain": [
       "False"
      ]
     },
     "execution_count": 5,
     "metadata": {},
     "output_type": "execute_result"
    }
   ],
   "source": [
    "\"Jeb\" is Person"
   ]
  },
  {
   "cell_type": "code",
   "execution_count": 6,
   "metadata": {
    "scrolled": true
   },
   "outputs": [
    {
     "data": {
      "text/plain": [
       "False"
      ]
     },
     "execution_count": 6,
     "metadata": {},
     "output_type": "execute_result"
    }
   ],
   "source": [
    "president is Person"
   ]
  },
  {
   "cell_type": "code",
   "execution_count": 7,
   "metadata": {},
   "outputs": [],
   "source": [
    "# 'is' checks whether two objects refer to the same location in memory,\n",
    "# in other words, whether they are the exact same object.   .\n",
    "# These three objects are not the same object.\n",
    "# 'Jeb' is a string, president is an instance, and Person is a class.\n",
    "# So both return false."
   ]
  },
  {
   "cell_type": "markdown",
   "metadata": {},
   "source": [
    "d) How would you go about checking whether or not the value bound to the name `president` is-a `Person`?"
   ]
  },
  {
   "cell_type": "code",
   "execution_count": 8,
   "metadata": {},
   "outputs": [
    {
     "data": {
      "text/plain": [
       "True"
      ]
     },
     "execution_count": 8,
     "metadata": {},
     "output_type": "execute_result"
    }
   ],
   "source": [
    "isinstance(president, Person)"
   ]
  },
  {
   "cell_type": "markdown",
   "metadata": {},
   "source": [
    "# 4. Subclasses"
   ]
  },
  {
   "cell_type": "markdown",
   "metadata": {},
   "source": [
    "a) Create class `Employee`, a subclass of `Person` with data attributes (fields) \n",
    "* `__work_days_accrued`\n",
    "* `__daily_salary`. \n",
    "\n",
    "These should be *the only* data attributes which you write in your class definition. In particular, you may not duplicate `name` and `age`.\n",
    "\n",
    "There should be methods\n",
    "* `work` which increments the number of work days accrued.\n",
    "* `expected_payout` which just returns the expected payout for the employee based on the accrued work days and daily salary (but without doing any resets).\n",
    "* `payout` which returns the accrued salary and resets the number of work days accrued. The `payout` function may not perform any calculations itself."
   ]
  },
  {
   "cell_type": "code",
   "execution_count": 9,
   "metadata": {},
   "outputs": [
    {
     "name": "stdout",
     "output_type": "stream",
     "text": [
      "--- Setting up test cases.\n",
      "--- Testing payout and expected_payout properties.\n",
      "OK\n",
      "--- Testing non-data-accessing calls to superclass methods.\n",
      "OK\n",
      "--- Testing data that should be set up by initialiser call.\n",
      "OK\n"
     ]
    }
   ],
   "source": [
    "# Your code goes here.\n",
    "class Employee(Person):\n",
    "    def __init__(self, name, daily_salary = 15):\n",
    "        super().__init__(name)\n",
    "        self.__work_days_accrued = 0\n",
    "        self.__daily_salary = daily_salary\n",
    "        \n",
    "    def work(self):\n",
    "        self.__work_days_accrued += 1\n",
    "        \n",
    "    def expected_payout(self):\n",
    "        return self.__work_days_accrued * self.__daily_salary\n",
    "    \n",
    "    def payout(self):\n",
    "        a = self.expected_payout()\n",
    "        self.__work_days_accrued = 0\n",
    "        return a\n",
    "\n",
    "# Ready-made tests.\n",
    "print(\"--- Setting up test cases.\")\n",
    "cleaner = Employee(name = \"Scruffy\")  # Should have daily_salary 15.\n",
    "josh = Employee(name = \"Josh\", daily_salary = 1000)\n",
    "toby = Employee(name = \"Toby\", daily_salary = 9999)\n",
    "\n",
    "josh.work()\n",
    "josh.work()\n",
    "toby.work()\n",
    "toby.work()\n",
    "toby.work()\n",
    "cleaner.work()\n",
    "\n",
    "print(\"--- Testing payout and expected_payout properties.\")\n",
    "assert cleaner.expected_payout() == 15, \"default salary should be 15\"\n",
    "assert josh.expected_payout() == 1000*2\n",
    "assert josh.payout() == 1000*2\n",
    "assert josh.expected_payout() == 0, \"salary should be reset afterwards\"\n",
    "assert toby.payout() == 9999*3, \"toby and josh instances should be independent.\"\n",
    "print(\"OK\")\n",
    "\n",
    "print(\"--- Testing non-data-accessing calls to superclass methods.\")\n",
    "assert josh.return_five() == 5, \"Person.return_five should be accessible\"\n",
    "print(\"OK\")\n",
    "\n",
    "print(\"--- Testing data that should be set up by initialiser call.\")\n",
    "assert josh.get_age() == 0, \"superclass method should be callable, values should not be missing.\"\n",
    "josh.age = 9\n",
    "assert josh.get_age() == 9, \"superclass method should be callable\"\n",
    "print(\"OK\")"
   ]
  },
  {
   "cell_type": "markdown",
   "metadata": {},
   "source": [
    "b) Which public data attributes (fields) does an `Employee` have? Can you access the age of an employee directly (without some transformation of the name)? The daily salary?"
   ]
  },
  {
   "cell_type": "code",
   "execution_count": 10,
   "metadata": {},
   "outputs": [
    {
     "data": {
      "text/plain": [
       "9"
      ]
     },
     "execution_count": 10,
     "metadata": {},
     "output_type": "execute_result"
    }
   ],
   "source": [
    "# The Employee class has name as a public attribute inherited from Person.\n",
    "# I can access the age directly, but not the daily salary. \n",
    "josh.get_age()"
   ]
  },
  {
   "cell_type": "markdown",
   "metadata": {},
   "source": [
    "# 5. Introductory numpy"
   ]
  },
  {
   "cell_type": "markdown",
   "metadata": {},
   "source": [
    "A lot of computations will likely end up using data stored `numpy` arrays. Therefore, it is a good idea to have a feeling for how they are used and manipulated. The following steps will provide some introduction, so that we can build upon this in future labs.\n",
    "\n",
    "You may want to refer to the [official numpy.org absolute beginners guide to numpy](https://numpy.org/devdocs/user/absolute_beginners.html)."
   ]
  },
  {
   "cell_type": "markdown",
   "metadata": {},
   "source": [
    "a) Import the module `numpy`, giving it the shorthand `np`."
   ]
  },
  {
   "cell_type": "code",
   "execution_count": 1,
   "metadata": {},
   "outputs": [],
   "source": [
    "import numpy as np"
   ]
  },
  {
   "cell_type": "markdown",
   "metadata": {},
   "source": [
    "b) Create the $2 \\times 3$ matrix $A = \\begin{bmatrix}1 & 2 & 3 \\\\ 0 & 0 & 1\\end{bmatrix}$"
   ]
  },
  {
   "cell_type": "code",
   "execution_count": 23,
   "metadata": {},
   "outputs": [
    {
     "data": {
      "text/plain": [
       "array([[1, 0],\n",
       "       [2, 0],\n",
       "       [3, 1]])"
      ]
     },
     "execution_count": 23,
     "metadata": {},
     "output_type": "execute_result"
    }
   ],
   "source": [
    "A = np.array([[1, 2, 3], [0, 0, 1]])\n",
    "A.T"
   ]
  },
  {
   "cell_type": "markdown",
   "metadata": {},
   "source": [
    "c) Create the vector $b = \\begin{bmatrix}1\\\\ 2 \\\\ 3 \\end{bmatrix}$"
   ]
  },
  {
   "cell_type": "code",
   "execution_count": 10,
   "metadata": {},
   "outputs": [
    {
     "data": {
      "text/plain": [
       "array([1, 2, 3])"
      ]
     },
     "execution_count": 10,
     "metadata": {},
     "output_type": "execute_result"
    }
   ],
   "source": [
    "b = np.array([1, 2, 3])\n",
    "b"
   ]
  },
  {
   "cell_type": "markdown",
   "metadata": {},
   "source": [
    "d) Perform the multiplication $Ab$. What is the result?"
   ]
  },
  {
   "cell_type": "code",
   "execution_count": 4,
   "metadata": {},
   "outputs": [
    {
     "data": {
      "text/plain": [
       "array([14,  3])"
      ]
     },
     "execution_count": 4,
     "metadata": {},
     "output_type": "execute_result"
    }
   ],
   "source": [
    "result = np.dot(A, b)\n",
    "result"
   ]
  },
  {
   "cell_type": "markdown",
   "metadata": {},
   "source": [
    "e) Mathematically, what should the dimensions of $b^Tb$ be? What should the dimensions of $bb^T$ be?"
   ]
  },
  {
   "cell_type": "code",
   "execution_count": 11,
   "metadata": {},
   "outputs": [
    {
     "data": {
      "text/plain": [
       "\"\\nThe vector 𝑏 is a column vector of dimension 3 x 1.\\n\\nWhen performing the multiplication 𝑏𝑇𝑏 (transpose of 𝑏 times 𝑏), it's essentially doing a dot product of the vector with itself. \\nThis results in a scalar value, so the dimensions of 𝑏𝑇𝑏 would be 1 x 1.\\n\\nWhen performing the multiplication 𝑏𝑏𝑇 (𝑏 times the transpose of 𝑏), it's creating a square matrix where each element is the product of elements of 𝑏. \\nThis results in a matrix of dimensions 3 x 3.\\n\\nSo, 𝑏𝑇𝑏 is a scalar (dimension 1 x 1), and 𝑏𝑏𝑇 is a square matrix (dimension 3 x 3).\\n\""
      ]
     },
     "execution_count": 11,
     "metadata": {},
     "output_type": "execute_result"
    }
   ],
   "source": [
    "\"\"\"\n",
    "The vector 𝑏 is a column vector of dimension 3 x 1.\n",
    "\n",
    "When performing the multiplication 𝑏𝑇𝑏 (transpose of 𝑏 times 𝑏), it's essentially doing a dot product of the vector with itself. \n",
    "This results in a scalar value, so the dimensions of 𝑏𝑇𝑏 would be 1 x 1.\n",
    "\n",
    "When performing the multiplication 𝑏𝑏𝑇 (𝑏 times the transpose of 𝑏), it's creating a square matrix where each element is the product of elements of 𝑏. \n",
    "This results in a matrix of dimensions 3 x 3.\n",
    "\n",
    "So, 𝑏𝑇𝑏 is a scalar (dimension 1 x 1), and 𝑏𝑏𝑇 is a square matrix (dimension 3 x 3).\n",
    "\"\"\""
   ]
  },
  {
   "cell_type": "markdown",
   "metadata": {},
   "source": [
    "f) Compute ```b.T @ b```? ```b @ b.T``` in numpy. How would you go about calculating $bb^T$ (if you wanted to actually store it as a matrix, which is rarely the most space- or time-efficient idea)?"
   ]
  },
  {
   "cell_type": "code",
   "execution_count": 17,
   "metadata": {},
   "outputs": [
    {
     "name": "stdout",
     "output_type": "stream",
     "text": [
      "14\n",
      "[[1 2 3]\n",
      " [2 4 6]\n",
      " [3 6 9]]\n"
     ]
    }
   ],
   "source": [
    "#res1 = b.T.dot(b)\n",
    "res1 = b.T @ b\n",
    "print(res1)\n",
    "#res2 = b @ b.T\n",
    "res2 = np.outer(b, b.T)\n",
    "print(res2)"
   ]
  },
  {
   "cell_type": "markdown",
   "metadata": {},
   "source": [
    "Note: as `a @ b` is read `a.dot(b)` this should perhaps not be entirely surprising. But it is non-obvious."
   ]
  },
  {
   "cell_type": "markdown",
   "metadata": {},
   "source": [
    "d) Try to solve the equation $Ax = b$ using the `solve` method. Does this make mathematical sense? What does numpy say? Read the error message."
   ]
  },
  {
   "cell_type": "code",
   "execution_count": 18,
   "metadata": {},
   "outputs": [
    {
     "name": "stdout",
     "output_type": "stream",
     "text": [
      "An error occurred: Last 2 dimensions of the array must be square\n"
     ]
    }
   ],
   "source": [
    "try:\n",
    "    x = np.linalg.solve(A, b)\n",
    "except Exception as e:\n",
    "    print(\"An error occurred:\", e)"
   ]
  },
  {
   "cell_type": "code",
   "execution_count": null,
   "metadata": {},
   "outputs": [],
   "source": [
    "\"\"\"\n",
    "A is a 2x3 matrix and b is a 3-element vector, so A and b are not aligned for the multiplication Ax. \n",
    "Furthermore, the solve function requires the coefficient matrix A to be square and of full-rank.\n",
    "And the np.linalg.solve() function requires the input matrix to be square \n",
    "(i.e., the number of rows equals the number of columns)\n",
    "Therefore, trying to solve this equation with np.linalg.solve() \n",
    "will raise a LinAlgError with the message “Last 2 dimensions of the array must be square”.\n",
    "\"\"\""
   ]
  },
  {
   "cell_type": "markdown",
   "metadata": {},
   "source": [
    "e) Try to solve the equation $A^Tx = b$ using numpy. Does this make mathematical sense? What does numpy say?"
   ]
  },
  {
   "cell_type": "code",
   "execution_count": 19,
   "metadata": {},
   "outputs": [
    {
     "name": "stdout",
     "output_type": "stream",
     "text": [
      "An error occurred: Last 2 dimensions of the array must be square\n"
     ]
    }
   ],
   "source": [
    "# Transpose A\n",
    "A_T = A.T\n",
    "\n",
    "try:\n",
    "    x = np.linalg.solve(A_T, b)\n",
    "except Exception as e:\n",
    "    print(\"An error occurred:\", e)"
   ]
  },
  {
   "cell_type": "code",
   "execution_count": null,
   "metadata": {},
   "outputs": [],
   "source": [
    "\"\"\"\n",
    "The transposed matrix A_T is not a square matrix (it’s a 3x2 matrix),\n",
    "and the np.linalg.solve() function requires the input matrix to be square \n",
    "(i.e., the number of rows equals the number of columns). \n",
    "Therefore, trying to solve this equation with np.linalg.solve() \n",
    "will raise a LinAlgError with the message “Last 2 dimensions of the array must be square”\n",
    "\"\"\""
   ]
  },
  {
   "cell_type": "markdown",
   "metadata": {},
   "source": [
    "f) One of the two tasks above make sense from a mathematical point of view. Find a best solution $x$ in the least squares sense."
   ]
  },
  {
   "cell_type": "code",
   "execution_count": 24,
   "metadata": {},
   "outputs": [
    {
     "name": "stdout",
     "output_type": "stream",
     "text": [
      "The least squares solution x is:\n",
      "[ 1.00000000e+00 -1.77635684e-15]\n"
     ]
    }
   ],
   "source": [
    "#x, residuals, rank, s = np.linalg.lstsq(A, b, rcond=None)\n",
    "#The equation that makes mathematical sense is A^T x = b. Here, A^T is a 3x2 matrix, x is a 2x1 vector, and b is a 3x1 vector. \n",
    "#However, since A^T is not a square matrix, we cannot use the standard solve method to solve this equations.\n",
    "#Instead, we can find the best solution in the least squares sense. The least squares solution minimizes the sum of the squares of the residuals, \n",
    "#which are the differences between the observed and predicted values.\n",
    "\n",
    "# Compute the transpose of A\n",
    "AT = A.T\n",
    "\n",
    "# Compute the pseudo-inverse of AT\n",
    "AT_pinv = np.linalg.pinv(AT)\n",
    "\n",
    "# Compute the least squares solution\n",
    "x = np.dot(AT_pinv, b)\n",
    "print(\"The least squares solution x is:\")\n",
    "print(x)"
   ]
  },
  {
   "cell_type": "markdown",
   "metadata": {},
   "source": [
    "g) Is the resulting $Ax$ or $A^Tx$ (depending on your choice above) close to $b$? What is the norm-2-distance between the vectors?"
   ]
  },
  {
   "cell_type": "code",
   "execution_count": 25,
   "metadata": {},
   "outputs": [
    {
     "name": "stdout",
     "output_type": "stream",
     "text": [
      "The resulting vector is:\n",
      "[1. 2. 3.]\n",
      "The norm-2 distance between the resulting vector and b is:\n",
      "2.710399819191012e-15\n"
     ]
    }
   ],
   "source": [
    "# Compute the resulting vector\n",
    "result = np.dot(AT, x)\n",
    "\n",
    "# Compute the norm-2 distance between the resulting vector and b\n",
    "distance = np.linalg.norm(result - b)\n",
    "\n",
    "print(\"The resulting vector is:\")\n",
    "print(result)\n",
    "\n",
    "print(\"The norm-2 distance between the resulting vector and b is:\")\n",
    "print(distance)"
   ]
  },
  {
   "cell_type": "markdown",
   "metadata": {},
   "source": [
    "Just to get some practice, run the following to get some test data:"
   ]
  },
  {
   "cell_type": "code",
   "execution_count": 27,
   "metadata": {},
   "outputs": [],
   "source": [
    "import sklearn\n",
    "import sklearn.datasets as ds\n",
    "houses = ds.fetch_california_housing()"
   ]
  },
  {
   "cell_type": "markdown",
   "metadata": {},
   "source": [
    "h) How many rows does the dataset have? Columns? Find out using numpy. (First check what `houses` actually is)"
   ]
  },
  {
   "cell_type": "code",
   "execution_count": 34,
   "metadata": {},
   "outputs": [
    {
     "name": "stdout",
     "output_type": "stream",
     "text": [
      "['DESCR', 'data', 'feature_names', 'frame', 'target', 'target_names']\n",
      "Type of houses: <class 'sklearn.utils.Bunch'>\n",
      "Type of houses.data: <class 'numpy.ndarray'>\n",
      "Type of houses.target: <class 'numpy.ndarray'>\n",
      "The dataset has 20640 rows and 8 columns.\n"
     ]
    }
   ],
   "source": [
    "print(dir(houses))\n",
    "\n",
    "# houses is a dictionary-like object with 6 attributes\n",
    "# Check the type of houses\n",
    "print(f\"Type of houses: {type(houses)}\")\n",
    "\n",
    "# Check the type of data and target attributes\n",
    "print(f\"Type of houses.data: {type(houses.data)}\")\n",
    "print(f\"Type of houses.target: {type(houses.target)}\")\n",
    "\n",
    "# Get the number of rows and columns\n",
    "rows, cols = np.shape(houses.data)\n",
    "\n",
    "print(f\"The dataset has {rows} rows and {cols} columns.\")"
   ]
  },
  {
   "cell_type": "markdown",
   "metadata": {},
   "source": [
    "i) Get the third column (remember: indexing starts at zero, so column number 2) of the dataset by indexing/slicing."
   ]
  },
  {
   "cell_type": "code",
   "execution_count": 35,
   "metadata": {},
   "outputs": [
    {
     "name": "stdout",
     "output_type": "stream",
     "text": [
      "[6.98412698 6.23813708 8.28813559 ... 5.20554273 5.32951289 5.25471698]\n"
     ]
    }
   ],
   "source": [
    "third_column = houses.data[:, 2]\n",
    "\n",
    "print(third_column)"
   ]
  },
  {
   "cell_type": "markdown",
   "metadata": {},
   "source": [
    "j) Get the values of the third, fourth and hundredrth rows (that is, index 2, 3, 99)."
   ]
  },
  {
   "cell_type": "code",
   "execution_count": 36,
   "metadata": {},
   "outputs": [
    {
     "name": "stdout",
     "output_type": "stream",
     "text": [
      "[[ 7.25740000e+00  5.20000000e+01  8.28813559e+00  1.07344633e+00\n",
      "   4.96000000e+02  2.80225989e+00  3.78500000e+01 -1.22240000e+02]\n",
      " [ 5.64310000e+00  5.20000000e+01  5.81735160e+00  1.07305936e+00\n",
      "   5.58000000e+02  2.54794521e+00  3.78500000e+01 -1.22250000e+02]\n",
      " [ 2.61040000e+00  3.70000000e+01  3.70714286e+00  1.10714286e+00\n",
      "   1.83800000e+03  1.87551020e+00  3.78200000e+01 -1.22260000e+02]]\n"
     ]
    }
   ],
   "source": [
    "rows = houses.data[[2, 3, 99], :]\n",
    "\n",
    "print(rows)"
   ]
  },
  {
   "cell_type": "markdown",
   "metadata": {},
   "source": [
    "k) Mathematical sanity check: without actually computing the rank of ```houses.data```, can you provide a bound? Could it have $10^{15}$ linearly independent rows? 2000? Etc. Write down the tightest bound you can find, and explain why briefly."
   ]
  },
  {
   "cell_type": "code",
   "execution_count": 45,
   "metadata": {},
   "outputs": [
    {
     "name": "stdout",
     "output_type": "stream",
     "text": [
      "Shape: (20640, 8)\n",
      "Number of dimensions: 2\n",
      "Size: 165120\n",
      "Data type: float64\n",
      "Is square: False\n"
     ]
    }
   ],
   "source": [
    "# You may want to look at some properties of the matrix here.\n",
    "\n",
    "# Shape of the matrix\n",
    "print(f\"Shape: {houses.data.shape}\")\n",
    "\n",
    "# Number of dimensions\n",
    "print(f\"Number of dimensions: {houses.data.ndim}\")\n",
    "\n",
    "# Size of the matrix\n",
    "print(f\"Size: {houses.data.size}\")\n",
    "\n",
    "# Data type of the matrix elements\n",
    "print(f\"Data type: {houses.data.dtype}\")\n",
    "\n",
    "# Check if the matrix is square\n",
    "print(f\"Is square: {houses.data.shape[0] == houses.data.shape[1]}\")\n",
    "\n",
    "# Compute the determinant of the matrix (only for square matrices)\n",
    "if houses.data.shape[0] == houses.data.shape[1]:\n",
    "    det = linalg.det(houses.data)\n",
    "    print(f\"Determinant: {det}\")\n",
    "\n",
    "#The rank of a matrix is the maximum number of linearly independent rows (or columns). \n",
    "#In the case of houses.data, we know that it has 20640 rows and 8 columns.\n",
    "\n",
    "#Therefore, the rank of houses.data can be at most 8, because the rank of a matrix cannot exceed the number of its columns. \n",
    "#This is because a set of vectors (in this case, the rows of the matrix) can only be linearly independent if there are at least as many dimensions (in this case, columns) as there are vectors.\n",
    "\n",
    "#So, it’s impossible for houses.data to have 10^15 or 2000 linearly independent rows. The maximum number of linearly independent rows it could have is 8."
   ]
  },
  {
   "cell_type": "markdown",
   "metadata": {},
   "source": [
    "l) Find out the actual rank of the matrix using numpy. "
   ]
  },
  {
   "cell_type": "code",
   "execution_count": 39,
   "metadata": {},
   "outputs": [
    {
     "name": "stdout",
     "output_type": "stream",
     "text": [
      "Rank: 8\n"
     ]
    }
   ],
   "source": [
    "# Compute the rank of the matrix\n",
    "rank = np.linalg.matrix_rank(houses.data)\n",
    "\n",
    "print(f\"Rank: {rank}\")"
   ]
  },
  {
   "cell_type": "markdown",
   "metadata": {},
   "source": [
    "# 6. A simple classifier"
   ]
  },
  {
   "cell_type": "markdown",
   "metadata": {},
   "source": [
    "Our goal in this section is to build a naïve subspace-projection based classifier which takes a numerical vector and produces a label. We will build this from the ground up (there are many libraries that perform this automatically, but may not use them in this case).\n",
    "\n",
    "We will first practice our numpy (and linear algebra) skills to build the algorithm, and then encapsulate data and methods in a class. We will be taking a slightly different route than more general SVD methods for finding principal components, simply because this is not our task. This is worth remembering if you find material on the subject!\n",
    "\n",
    "The main idea here is to pick out all the data corresponding to a certain set of vectors, and reduce this matrix to some rank $\\leq k$ matrix which is a good approximation of the row space in some sense (here: the sense that the vectors correspond to maximal singular values). A naïve classification is then given by picking the subspace which is closest by orthogonal projection."
   ]
  },
  {
   "cell_type": "markdown",
   "metadata": {},
   "source": [
    "## The dataset"
   ]
  },
  {
   "cell_type": "markdown",
   "metadata": {},
   "source": [
    "First, we will import some data. Here we use the classic MNIST data set of handwritten digits. We can naturally partition the sets of vectors used for training and validation in many ways. Feel free to experiment with a nicer (possibly non-deterministic) version later. This is only to get us started, and to have a set of data with known properties (which is helpful for lab assistants)."
   ]
  },
  {
   "cell_type": "code",
   "execution_count": 42,
   "metadata": {},
   "outputs": [],
   "source": [
    "import sklearn.datasets as ds\n",
    "digits = ds.load_digits()\n",
    "training_digits = digits.data[0:600, :]\n",
    "training_labels = digits.target[0:600]\n",
    "# The set of labels can be found in digits.target_names."
   ]
  },
  {
   "cell_type": "markdown",
   "metadata": {},
   "source": [
    "If we are curious, we can view the images from the dataset."
   ]
  },
  {
   "cell_type": "code",
   "execution_count": 43,
   "metadata": {},
   "outputs": [
    {
     "data": {
      "text/plain": [
       "Text(0.5, 0, 'Index: 2, actually the number 2')"
      ]
     },
     "execution_count": 43,
     "metadata": {},
     "output_type": "execute_result"
    },
    {
     "data": {
      "image/png": "[encoded data removed]",
      "text/plain": [
       "<Figure size 432x288 with 1 Axes>"
      ]
     },
     "metadata": {
      "needs_background": "light"
     },
     "output_type": "display_data"
    }
   ],
   "source": [
    "%matplotlib inline\n",
    "from matplotlib import pyplot as plt \n",
    "# We show one of the digits.\n",
    "d_index = 2\n",
    "plt.imshow(training_digits[d_index].reshape(8,8))\n",
    "plt.xlabel(f\"Index: {d_index}, actually the number {training_labels[d_index]}\")\n",
    "# Note: digits.images[i] is the same as digits.data[i], but in 8x8 format (no need to reshape).\n",
    "# We would however like to stress that the 64 pixel images we'll be working with are stored in vector format."
   ]
  },
  {
   "cell_type": "markdown",
   "metadata": {},
   "source": [
    "## Tasks"
   ]
  },
  {
   "cell_type": "markdown",
   "metadata": {},
   "source": [
    "a) Get all rows with label 4. Store that in the matrix $A_4$. Similarly for $A_9$. This should be two single lines of code!"
   ]
  },
  {
   "cell_type": "code",
   "execution_count": 46,
   "metadata": {},
   "outputs": [],
   "source": [
    "a4 = training_digits[training_labels == 4]\n",
    "a9 = training_digits[training_labels == 9]"
   ]
  },
  {
   "cell_type": "markdown",
   "metadata": {},
   "source": [
    "b) Compute the thin SVD $A_4 = U_4\\Sigma_4 V^T_4$ and similarly for $A_9$. Thin here means that you do not necessarily get the full-rank square $U,V^T$ matrices."
   ]
  },
  {
   "cell_type": "code",
   "execution_count": 54,
   "metadata": {},
   "outputs": [
    {
     "data": {
      "image/png": "[encoded data removed]",
      "text/plain": [
       "<Figure size 720x144 with 20 Axes>"
      ]
     },
     "metadata": {
      "needs_background": "light"
     },
     "output_type": "display_data"
    }
   ],
   "source": [
    "U4, S4, VT4 = np.linalg.svd(a4, full_matrices=False)\n",
    "U9, S9, VT9 = np.linalg.svd(a9, full_matrices=False)\n",
    "#The full_matrices=False option makes it compute the thin SVD, \n",
    "#which means the output matrices U4, VT4, U9, and VT9 are not necessarily square and have the minimal possible size. \n",
    "#The matrices S4 and S9 are the singular values of a4 and a9 respectively.\n",
    "\n",
    "best_10_digits_4 = VT4[:10, :]\n",
    "best_10_digits_9 = VT9[:10, :]\n",
    "\n",
    "\n",
    "fig, axs = plt.subplots(2, 10, figsize=(10, 2))\n",
    "\n",
    "for i in range(10):\n",
    "    axs[0, i].imshow(best_10_digits_4[i].reshape(8, 8))\n",
    "    axs[0, i].axis('off')  # Hide axes\n",
    "    axs[1, i].imshow(best_10_digits_9[i].reshape(8, 8))\n",
    "    axs[1, i].axis('off')  # Hide axes\n",
    "\n",
    "plt.show()"
   ]
  },
  {
   "cell_type": "markdown",
   "metadata": {},
   "source": [
    "**Note** Our data is stored by row (one row per digit). What we use the different matrices in the decomposition for is thus slightly different than if it was stored by column. Instead of picking the best $k$ columns of $U$ we pick the best $k$ rows of $V^T$."
   ]
  },
  {
   "cell_type": "markdown",
   "metadata": {},
   "source": [
    "c) Let $sample4$ be the first row of $A_4$ and $sample9$ be the first row of $A_9$."
   ]
  },
  {
   "cell_type": "code",
   "execution_count": 56,
   "metadata": {},
   "outputs": [
    {
     "data": {
      "image/png": "[encoded data removed]",
      "text/plain": [
       "<Figure size 576x288 with 2 Axes>"
      ]
     },
     "metadata": {
      "needs_background": "light"
     },
     "output_type": "display_data"
    }
   ],
   "source": [
    "sample4 = a4[0]\n",
    "sample9 = a9[0]\n",
    "plt.figure(figsize=(8, 4))\n",
    "\n",
    "plt.subplot(1, 2, 1)\n",
    "plt.imshow(sample4.reshape(8, 8))\n",
    "plt.title('Sample 4')\n",
    "\n",
    "plt.subplot(1, 2, 2)\n",
    "plt.imshow(sample9.reshape(8, 8))\n",
    "plt.title('Sample 9')\n",
    "\n",
    "plt.show()"
   ]
  },
  {
   "cell_type": "markdown",
   "metadata": {},
   "source": [
    "d) Let $R$ be the first 3 rows of $V^T$. Compute the orthogonal projection of $sample4$ onto the row space of $R_4$, and onto the row space of $R_9$"
   ]
  },
  {
   "cell_type": "code",
   "execution_count": 58,
   "metadata": {},
   "outputs": [],
   "source": [
    "r4 = VT4[:3, :]\n",
    "r9 = VT9[:3, :]\n",
    "\n",
    "coeffs_in_r4 = np.linalg.lstsq(r4.T, sample4, rcond=None)[0]  \n",
    "# What are the coordinates of sample4 orthogonally projected onto R4?\n",
    "#The coeffs_in_r4 is a vector that contains the coordinates of the orthogonal projection of sample4 onto the row space of R4. \n",
    "#Each element of coeffs_in_r4 corresponds to the coefficient of a row in R4 in the linear combination that gives the orthogonal projection.\n",
    "coeffs_in_r9 = np.linalg.lstsq(r9.T, sample4, rcond=None)[0]\n",
    "\n",
    "sample4_in_r4 = coeffs_in_r4 @ r4   # Linear combination of rows in R4\n",
    "sample4_in_r9 = coeffs_in_r9 @ r9   # Your code here."
   ]
  },
  {
   "cell_type": "markdown",
   "metadata": {},
   "source": [
    "[Mathematical aside: where did the $\\Sigma$ go? This is a very important matrix, and strongly affects both interpretations and (in general) row- and column spaces. *Assuming* that the rank is $\\geq 3$ the row spaces should be the same whether or not we scale the basis vectors by some $\\sigma_i$ (since $\\sigma_i > 0$ for all $i=1,2,\\ldots, r$). That is enough for our application, though the interpretations of the vectors might be different. The rank assumption is rather important, and we will make rather casually based on knowledge about the data set. Later, we'll include a check for this in our code.]"
   ]
  },
  {
   "cell_type": "markdown",
   "metadata": {},
   "source": [
    "e) Which of the projections is closest to sample4 (in the sense that the difference (sample4_in_z**?**t - sample4) as the smallest 2-norm?"
   ]
  },
  {
   "cell_type": "code",
   "execution_count": 59,
   "metadata": {},
   "outputs": [
    {
     "name": "stdout",
     "output_type": "stream",
     "text": [
      "The projection onto R4 is closest to sample4.\n"
     ]
    }
   ],
   "source": [
    "norm_diff_4 = np.linalg.norm(sample4_in_r4 - sample4)\n",
    "norm_diff_9 = np.linalg.norm(sample4_in_r9 - sample4)\n",
    "\n",
    "if norm_diff_4 < norm_diff_9:\n",
    "    print(\"The projection onto R4 is closest to sample4.\")\n",
    "else:\n",
    "    print(\"The projection onto R9 is closest to sample4.\")\n"
   ]
  },
  {
   "cell_type": "markdown",
   "metadata": {},
   "source": [
    "f) Create a function `split_data(data, data_labels, labels)` which takes a matrix of data (such as `training_data`), the labels of all rows (such as `training_labels`) and a vector of the labels (here the numbers 0,...,9) and returns a dictionary mapping a label to the matrix of all corresponding data. \n",
    "\n",
    "Here the dictionary would for instance have the key 2, and the corresponding value be the matrix of all the images in `data` classified as the number 2."
   ]
  },
  {
   "cell_type": "code",
   "execution_count": 61,
   "metadata": {},
   "outputs": [],
   "source": [
    "def split_data(data, data_labels, labels):\n",
    "    result = {}\n",
    "    for label in labels:\n",
    "        result[label] = data[data_labels == label]\n",
    "    return result\n",
    "\n",
    "data_dict = split_data(training_digits, training_labels, digits.target_names)\n"
   ]
  },
  {
   "cell_type": "markdown",
   "metadata": {},
   "source": [
    "f) Create a function `subspaces(labelled_data, k = 3)` that takes a dictionary such as above, and returns a dictionary mapping every occurring label $d$ to the respective $Z_d$ matrix with at most $k$ rows. Here the $Z_d$ matrices is defined as above, the best norm-2-approximation. If a particular matrix has a rank $r < k$, we should only keep $r$ rows (say, if there were many more *different* digit 9-rows in the training set, than digit 1:s)!"
   ]
  },
  {
   "cell_type": "code",
   "execution_count": 62,
   "metadata": {},
   "outputs": [],
   "source": [
    "def subspaces(labelled_data, k=3):\n",
    "    result = {}\n",
    "    for label, data in labelled_data.items():\n",
    "        U, S, VT = np.linalg.svd(data, full_matrices=False)\n",
    "        r = min(k, len(S))  # Rank of the matrix or k, whichever is smaller\n",
    "        result[label] = VT[:r, :]\n",
    "    return result\n",
    "\n",
    "\n",
    "Z_dict = subspaces(data_dict, k=3)\n"
   ]
  },
  {
   "cell_type": "markdown",
   "metadata": {},
   "source": [
    "g) Create a function `classification(spaces, x)` that takes a dictionary such as produced by `subspaces` above and a single vector and produces the label of the subspace with the smallest norm-2-distance. In the task above, this would have meant that classifying $sample4$ would have produced the label 4 rather than 9, since $sample4$ was closer to the subspace $Z_4$ than the subspace $Z_9$."
   ]
  },
  {
   "cell_type": "code",
   "execution_count": 63,
   "metadata": {},
   "outputs": [],
   "source": [
    "def classification(spaces, x):\n",
    "    min_distance = float('inf')\n",
    "    best_label = None\n",
    "    for label, Z in spaces.items():\n",
    "        coeffs = np.linalg.lstsq(Z.T, x, rcond=None)[0]\n",
    "        x_in_Z = coeffs @ Z\n",
    "        distance = np.linalg.norm(x_in_Z - x)\n",
    "        if distance < min_distance:\n",
    "            min_distance = distance\n",
    "            best_label = label\n",
    "    return best_label\n"
   ]
  },
  {
   "cell_type": "markdown",
   "metadata": {},
   "source": [
    "h) Now pick the first 600 rows as training and the remaining (about 1100) as validation sets. What percentage does the classifier get right? What happens if you pick $k = 5, 10, 100, 1000$? Try it out. (The sharp-eyed student will notice that not all of these choices make sense from a mathematical perspective.)"
   ]
  },
  {
   "cell_type": "code",
   "execution_count": 66,
   "metadata": {},
   "outputs": [
    {
     "name": "stdout",
     "output_type": "stream",
     "text": [
      "Accuracy for k=5: 92.81537176274018%\n",
      "Accuracy for k=10: 95.90643274853801%\n",
      "Accuracy for k=100: 62.74018379281537%\n",
      "Accuracy for k=1000: 62.74018379281537%\n"
     ]
    }
   ],
   "source": [
    "# Split the data into training and validation sets\n",
    "training_600_data = digits.data[:600]\n",
    "training_600_labels = digits.target[:600]\n",
    "validation_data = digits.data[600:]\n",
    "validation_labels = digits.target[600:]\n",
    "\n",
    "# Train the classifier\n",
    "labelled_data = split_data(training_600_data, training_600_labels, digits.target_names)\n",
    "\n",
    "# Define the values of k to test\n",
    "k_values = [5, 10, 100, 1000]\n",
    "\n",
    "# Initialize a dictionary to store the results\n",
    "results = {}\n",
    "\n",
    "# Loop over the values of k\n",
    "for k in k_values:\n",
    "    # Train the classifier\n",
    "    spaces = subspaces(labelled_data, k=k)\n",
    "\n",
    "    # Test the classifier\n",
    "    correct = 0\n",
    "    for x, true_label in zip(validation_data, validation_labels):\n",
    "        predicted_label = classification(spaces, x)\n",
    "        if predicted_label == true_label:\n",
    "            correct += 1\n",
    "\n",
    "    # Compute the accuracy\n",
    "    accuracy = correct / len(validation_data)\n",
    "    print(f\"Accuracy for k={k}: {accuracy * 100}%\")\n",
    "\n",
    "    # Store the result\n",
    "    results[k] = accuracy\n",
    "\n",
    "\n",
    "#According to the results, when k=100,1000 the accuracy decrease. \n",
    "#This is because when k is larger than the rank of the data matrix, the extra rows in the Zd matrices will be zero, \n",
    "#and they will not contribute to the classification. \n",
    "#Therefore, it does not make sense to choose k to be larger than the rank of the data matrix."
   ]
  },
  {
   "cell_type": "markdown",
   "metadata": {},
   "source": [
    "## Acknowledgments"
   ]
  },
  {
   "cell_type": "markdown",
   "metadata": {},
   "source": [
    "This lab in 732A74 is by Anders Märak Leffler (2019), with a major revision in 2020. The introductory text is by Johan Falkenjack (2018).\n",
    "\n",
    "Licensed under [CC-BY-SA 4.0](https://creativecommons.org/licenses/by-sa/4.0/)."
   ]
  }
 ],
 "metadata": {
  "anaconda-cloud": {},
  "kernelspec": {
   "display_name": "Python 3",
   "language": "python",
   "name": "python3"
  },
  "language_info": {
   "codemirror_mode": {
    "name": "ipython",
    "version": 3
   },
   "file_extension": ".py",
   "mimetype": "text/x-python",
   "name": "python",
   "nbconvert_exporter": "python",
   "pygments_lexer": "ipython3",
   "version": "3.8.0"
  }
 },
 "nbformat": 4,
 "nbformat_minor": 2
}
