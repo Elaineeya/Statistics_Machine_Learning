{
 "cells": [
  {
   "cell_type": "markdown",
   "metadata": {},
   "source": [
    "# Lab 3: Functional programming, and declarative patterns\n"
   ]
  },
  {
   "cell_type": "markdown",
   "metadata": {},
   "source": [
    "__Student:__ abcde123\n",
    "\n",
    "__Student:__ abcde123"
   ]
  },
  {
   "cell_type": "markdown",
   "metadata": {},
   "source": [
    "Disclaimer: Functional programming in Python does not always lead to the fastest possible code, and is often not considered the *pythonic* approach. However, functional programming is the basis for many concurrent systems (the MapReduce programming model which many big data systems, e.g. Hadoop, relies on gets its name from the *map* and *reduce* functions mentioned below). Python is a multi-paradigm language, and functional programming is one of the main paradigms one can use. To understand how and when to do this, it is necessary to do things in a non-*pythonic* way in order to cover the basics."
   ]
  },
  {
   "cell_type": "markdown",
   "metadata": {},
   "source": [
    "## General instructions\n",
    "\n",
    "In this lab there are some general rules you should keep in mind to make sure you are on the correct path in your solutions.\n",
    "\n",
    "#### Rules\n",
    "1. You are not allowed to use `while` or `for` statements unless this is explicitly allowed in the task.\n",
    "2. You are not allowed to use global variables (other than for functions defined in the global environment).\n",
    "3. Code stubs should be viewed as fixed, you are only allowed to add code, the only code you are allowed to change is `pass` statements, which you should remove.\n",
    "4. You should refrain from using the `list` datatype unless otherwise specified and instead use `tuple`. One of the strengths of functional programming is its focus on immutable data types (this is why functional programming and concurrency goes so well together). Incidentally, one might find speedups when using the immutable tuples instead of lists.\n",
    "\n",
    "#### Advice\n",
    "1. Avoid local variables unless you are certain they are necessary, in most cases you won't need to use local variables. (altermatively, use local variables to your hearts content, but when your solution works, try to eliminate them, you should be able to eliminate most of them, over time, you might find that you don't need them.)"
   ]
  },
  {
   "cell_type": "markdown",
   "metadata": {},
   "source": [
    "## 2 Higher order functions (HOF)\n",
    " \n",
    "A _higher-order function_ is a function which operates on other functions. What this means exactly is disputed, but we will call any function which returns a function or takes a function as an argument a higher-order function. (Conversely, a function neither taking another function as input nor returning a function we will refer to as a _first-order function_)\n",
    "\n",
    "In R you have encountered these when, for instance, using the `apply` family of functions, which are all versions of what is called a `map` function in functional programming (see below).\n",
    "\n",
    "When using higher-order functions, it is often useful to create simple anonymous functions at the place in the code where they are used, rather than defining a new named function in one place only to call it in a single other place. In R, all functions are created in this way with the `function` keyword, but they are usually assigned to global names with standard assignment (`<-`). Python provides similar functionality using the `lambda` keyword (name inspired by Alonzo Church's [$\\lambda$-calculus](https://www.youtube.com/watch?v=eis11j_iGMs) which has inspired much of functional programming) with which we can create anonymous functions. Of course, we can also pass named functions to higher-order functions, which is usually the case when the function is predefined, general enough to be used in more than one place, or complex enough to warrant separate definition and documentation for the sake of clarity."
   ]
  },
  {
   "cell_type": "markdown",
   "metadata": {},
   "source": [
    "## 2.1 The three standard functions `map`, `reduce` and `filter`\n",
    "\n",
    "There are three standard cases which are widely applicable and many other higher-order functions are special cases or combinations of these. They are: `map`, apply a function on each element in a sequence, `filter`, keep (or conversely, remove) elements from a sequence according to some condition, and `reduce`, combine the elements in a sequence. The `map` function takes a sequence and a function (usually of 1 parameter) which is to be applied to each element of the sequence and might return anything, this function is assumed not to have side effects. The `filter` function takes a function (usually of 1 parameter) which returns a boolean value used to indicate which elements are to be kept. The `reduce` function takes a function (usually of 2 parameters) which is used to combine the elements in the sequence.\n",
    "\n",
    "In Python, `map` and `filter` are standard built-in functions. Since Python 3, the `reduce` function needs to be imported from the `functools` module.\n",
    "\n",
    "Many more advanced functions, of any order, can be created by combining these three higher-order functions.\n",
    "\n",
    "A note from last year: usually, the `reduce` function is more difficult to grasp than `map` and `filter` but I found this blog-post by André Burgaud to be a nice introduction to `reduce`. Note that Burgaud talks about the more general _fold_ concept rather than `reduce`, which is a special case of fold often called _left fold_ (this is covered in more detail in the post). https://www.burgaud.com/foldl-foldr-python/"
   ]
  },
  {
   "cell_type": "markdown",
   "metadata": {},
   "source": [
    "a) Implement a function `mysum` which computes the sum of a list or tuple of numbers using the reduce function and a lambda function."
   ]
  },
  {
   "cell_type": "code",
   "execution_count": 1,
   "metadata": {},
   "outputs": [
    {
     "data": {
      "text/plain": [
       "12"
      ]
     },
     "execution_count": 1,
     "metadata": {},
     "output_type": "execute_result"
    }
   ],
   "source": [
    "from functools import reduce\n",
    "\n",
    "def mysum(seq):\n",
    "    return reduce(lambda x, y: x + y, seq)  # Replace the ???? with your code.\n",
    "\n",
    "mysum((4, 7, 1))"
   ]
  },
  {
   "cell_type": "markdown",
   "metadata": {},
   "source": [
    "b) Implement a function `mylength` which uses `map` and `reduce` (or only `reduce`, if you feel like it) to compute the length of a sequence. The use of the `len` function is not allowed.\n",
    "\n",
    "[Hint: You can use `map` to convert the input to something which can easily be `reduce`:d.]"
   ]
  },
  {
   "cell_type": "code",
   "execution_count": 3,
   "metadata": {},
   "outputs": [
    {
     "data": {
      "text/plain": [
       "3"
      ]
     },
     "execution_count": 3,
     "metadata": {},
     "output_type": "execute_result"
    }
   ],
   "source": [
    "def mylength(sequence):\n",
    "    return reduce(lambda x, _: x + 1, sequence, 0)\n",
    "mylength((4, 7, 1))"
   ]
  },
  {
   "cell_type": "code",
   "execution_count": 4,
   "metadata": {},
   "outputs": [
    {
     "name": "stdout",
     "output_type": "stream",
     "text": [
      "<map object at 0x7fa5b0a4d850>\n",
      "['appleorange', 'bananalemon', 'cherrypineapple']\n"
     ]
    }
   ],
   "source": [
    "def myfunc(a, b):\n",
    "  return a + b\n",
    "\n",
    "x = map(myfunc, ('apple', 'banana', 'cherry'), ('orange', 'lemon', 'pineapple'))\n",
    "\n",
    "print(x)\n",
    "\n",
    "#convert the map into a list, for readability:\n",
    "print(list(x))"
   ]
  },
  {
   "cell_type": "markdown",
   "metadata": {},
   "source": [
    "## 2.2 Returning functions\n",
    "\n",
    "The previous section covered functions which take other functions as input, but what about the opposite, functions returning functions as output?"
   ]
  },
  {
   "cell_type": "markdown",
   "metadata": {},
   "source": [
    "a) Function composition is a common in both maths and programming. Write a function `compose` which takes two functions, $f$ and $g$, and produces the _composite_ function $f \\circ g$, where $(f \\circ g)(x) \\Leftrightarrow f(g(x))$. Example use is given below."
   ]
  },
  {
   "cell_type": "code",
   "execution_count": 15,
   "metadata": {
    "scrolled": true
   },
   "outputs": [
    {
     "name": "stdout",
     "output_type": "stream",
     "text": [
      "[-1.507556722888818, -1.2060453783110545, -0.9045340337332909, -0.6030226891555273, -0.30151134457776363, 0.0, 0.30151134457776363, 0.6030226891555273, 0.9045340337332909, 1.2060453783110545, 1.507556722888818]\n"
     ]
    }
   ],
   "source": [
    "from statistics import stdev, mean\n",
    "\n",
    "def compose(f, g):\n",
    "    return lambda x: f(g(x))   # Replace this with your code.\n",
    "\n",
    "def myscale(vals):\n",
    "    return [x/stdev(vals) for x in vals]\n",
    "\n",
    "def myshift(vals):\n",
    "    return [x-mean(vals) for x in vals]\n",
    "\n",
    "standardize = compose(myscale, myshift)\n",
    "\n",
    "print(standardize(range(-3, 8)))\n",
    "\n",
    "#myshift(range(-3,8))\n",
    "#myscale(range(-3,8))"
   ]
  },
  {
   "cell_type": "markdown",
   "metadata": {},
   "source": [
    "**Voluntary task (not required)**\n",
    "Create a function `composition(*funs)` which takes a non-empty sequence of functions of one argument and returns their sequential composition. That is $composition(f_0,f_1, \\ldots, f_n) = f_0 \\circ f_1 \\circ\\ldots \\circ f_n$. (The question of if $f\\circ g \\circ h$ should be read $f\\circ (g\\circ h)$ or $(f \\circ g) \\circ h$ is perfectly valid, but they turn out to be the same. That is, $\\circ$ is associative.)"
   ]
  },
  {
   "cell_type": "code",
   "execution_count": 32,
   "metadata": {},
   "outputs": [
    {
     "name": "stdout",
     "output_type": "stream",
     "text": [
      "[-1.5075567228888178, -1.2060453783110543, -0.9045340337332907, -0.603022689155527, -0.3015113445777634, 2.220446049250313e-16, 0.30151134457776385, 0.6030226891555275, 0.9045340337332911, 1.2060453783110547, 1.5075567228888183]\n",
      "[-1.507556722888818, -1.2060453783110545, -0.9045340337332909, -0.6030226891555273, -0.30151134457776363, 0.0, 0.30151134457776363, 0.6030226891555273, 0.9045340337332909, 1.2060453783110545, 1.507556722888818]\n",
      "[-1.507556722888818, -1.2060453783110545, -0.9045340337332909, -0.6030226891555273, -0.30151134457776363, 0.0, 0.30151134457776363, 0.6030226891555273, 0.9045340337332909, 1.2060453783110545, 1.507556722888818]\n",
      "[19, 20, 21, 22, 23, 24, 25, 26, 27, 28, 29]\n"
     ]
    }
   ],
   "source": [
    "def composition(*funs):\n",
    "    return reduce(lambda f, g: lambda x: f(g(x)), funs)\n",
    "\n",
    "\n",
    "\n",
    "def myscale(vals):\n",
    "    return [x/stdev(vals) for x in vals]\n",
    "\n",
    "def myshift(vals):\n",
    "    return [x-mean(vals) for x in vals]\n",
    "\n",
    "def mysum(vals):\n",
    "    return [x+sum(vals) for x in vals]\n",
    "\n",
    "std1 = composition(mysum, myscale, myshift)\n",
    "std2 = composition(myscale, myshift, mysum)\n",
    "std3 = composition(myscale, mysum, myshift)\n",
    "\n",
    "\n",
    "print(std1(range(-3, 8)))\n",
    "print(std2(range(-3, 8)))\n",
    "print(std3(range(-3, 8)))\n",
    "print(mysum(range(-3,8)))"
   ]
  },
  {
   "cell_type": "markdown",
   "metadata": {},
   "source": [
    "Hint: Don't remember what can be found in `*funs`? Print it! Don't know how the values should be combined? Write out some simple example on paper."
   ]
  },
  {
   "cell_type": "markdown",
   "metadata": {},
   "source": [
    "Note: This task demonstrates the generality of our constructs. Previously we worked with sequences of numbers and the like. Now we lift this to the level of working with functions as values, and instead of using combinators which work on numbers, we use function combinators in conjunction with our known patterns."
   ]
  },
  {
   "cell_type": "markdown",
   "metadata": {},
   "source": [
    "### Voluntary task: pipelining\n",
    "\n",
    "When doing data analysis, one very important part is pre-processing. Often, data goes through a number of steps of preprocessing, sometimes called a pipeline. The function composition example above can be seen as a special case of such a pipeline for only two functions. By clever use of higher order functions, we can build a pipeline function which takes a list or tuple of data transforming functions and creates a function which applies these sequentially. Construct such a function called `make_pipeline`. In order to focus on the primary purpose of the `make_pipeline` function, we will perform a very simple set of transformations, increment each value by 1, take the absolute value, and then take the square root. Usage example and code for the `inc` function is supplied below.\n",
    "\n",
    "You may want to use functions you have defined above."
   ]
  },
  {
   "cell_type": "code",
   "execution_count": 33,
   "metadata": {
    "scrolled": false
   },
   "outputs": [
    {
     "data": {
      "text/plain": [
       "(2.0,\n",
       " 1.7320508075688772,\n",
       " 1.4142135623730951,\n",
       " 1.0,\n",
       " 0.0,\n",
       " 1.0,\n",
       " 1.4142135623730951,\n",
       " 1.7320508075688772,\n",
       " 2.0,\n",
       " 2.23606797749979)"
      ]
     },
     "execution_count": 33,
     "metadata": {},
     "output_type": "execute_result"
    }
   ],
   "source": [
    "from functools import reduce, partial\n",
    "from math import sqrt \n",
    "\n",
    "\n",
    "def make_pipeline(*funs):\n",
    "    return lambda vals: reduce(lambda v, f: map(f, v), funs, vals)\n",
    "\n",
    "# We can even drop the lambda vals : bit, using partial\n",
    "# evaluation (see the help for functools.partial!)\n",
    "\n",
    "def inc(x):\n",
    "    return x+1\n",
    "\n",
    "pipeline = make_pipeline(inc, abs, sqrt)\n",
    "\n",
    "tuple(pipeline(range(-5,5)))"
   ]
  },
  {
   "cell_type": "markdown",
   "metadata": {},
   "source": [
    "## 3. Simple declarative Pythonic patterns (involving higher order functions)"
   ]
  },
  {
   "cell_type": "markdown",
   "metadata": {},
   "source": [
    "a) As preparation, create a named tuple type \"coord\" which has fields `x` and `y`."
   ]
  },
  {
   "cell_type": "code",
   "execution_count": 38,
   "metadata": {},
   "outputs": [
    {
     "data": {
      "text/plain": [
       "coord(x=5, y=3)"
      ]
     },
     "execution_count": 38,
     "metadata": {},
     "output_type": "execute_result"
    }
   ],
   "source": [
    "from collections import namedtuple\n",
    "coord = namedtuple(\"coord\", \"x y\")\n",
    "\n",
    "five_three = coord(5,3)\n",
    "assert five_three.x == 5, \"first element is the x coordinate\"\n",
    "assert five_three.y == 3, \"the second element is the y coordinate\"\n",
    "\n",
    "five_three"
   ]
  },
  {
   "cell_type": "markdown",
   "metadata": {},
   "source": [
    "b) Generate a $10^7$ random coordinates, with $x$ and $y$ coordinates drawn uniformly from [-1000,1000]. Save the tuple of those with $x + y > 0$ as `rnd_coords`. How many are there (probably fewer than $10^7$)?"
   ]
  },
  {
   "cell_type": "code",
   "execution_count": 46,
   "metadata": {},
   "outputs": [
    {
     "name": "stdout",
     "output_type": "stream",
     "text": [
      "4998500\n"
     ]
    }
   ],
   "source": [
    "from random import uniform\n",
    "\n",
    "# Generate 10^7 random coordinates\n",
    "coords = (coord(uniform(-1000, 1000), uniform(-1000, 1000)) for _ in range(10**7))\n",
    "\n",
    "# Filter those where x + y > 0 and convert to a tuple\n",
    "rnd_coords = tuple(filter(lambda c: c.x + c.y > 0, coords))\n",
    "\n",
    "# Print the number of such coordinates\n",
    "print(len(rnd_coords))"
   ]
  },
  {
   "cell_type": "markdown",
   "metadata": {},
   "source": [
    "[Note: If this takes a while, you might want to consider when the elements are generated and saved!]"
   ]
  },
  {
   "cell_type": "markdown",
   "metadata": {},
   "source": [
    "**Before having solved the tasks below, consider setting `coords` to a smaller set (eg generate $10^3$ elements instead of $10^7$ to start with).**"
   ]
  },
  {
   "cell_type": "markdown",
   "metadata": {},
   "source": [
    "c) Let `sorted_rnd` be the coordinated sorted first by the `x` component and then the `y`. Use a built-in Python sorting function. Do you need any extra parameters? Why? Why not? How would you find out where the order comes from (and might it be consistent but useless, eg sorting the elements by memory location)?"
   ]
  },
  {
   "cell_type": "code",
   "execution_count": 48,
   "metadata": {},
   "outputs": [
    {
     "name": "stdout",
     "output_type": "stream",
     "text": [
      "[coord(x=-946.5586595104512, y=949.893934425952), coord(x=-835.8785029887836, y=976.1399462140475), coord(x=-818.8561526856469, y=963.8650333341584), coord(x=-817.7693540085122, y=998.5179794636329), coord(x=-774.0719250046375, y=955.096219361604), coord(x=-771.9005022799814, y=808.8837540295676), coord(x=-764.515839590185, y=805.9473717161989), coord(x=-753.626878708815, y=980.8886045847687), coord(x=-751.9003233401434, y=833.156202049536), coord(x=-729.3057479685812, y=937.5292843227828)]\n",
      "[coord(x=966.7629804472949, y=179.57390206550667), coord(x=967.4704232604431, y=921.2445950268004), coord(x=970.2752365731233, y=-207.45678108508957), coord(x=974.4433873311059, y=-540.841181913579), coord(x=974.6707421899819, y=-85.48844356204404), coord(x=974.9160193558487, y=-210.2933764813681), coord(x=977.4704409472433, y=-218.21315385455614), coord(x=981.9862225775266, y=751.1595502630712), coord(x=986.7441891415997, y=-74.42621002004455), coord(x=992.9646831094858, y=622.0695516353146)]\n",
      "False\n"
     ]
    }
   ],
   "source": [
    "#sorted_rnd = sorted(rnd_coords, key=lambda c: (c.x, c.y))\n",
    "\n",
    "\n",
    "\n",
    "# Generate a smaller set of coordinates for testing\n",
    "small_coords = (coord(uniform(-1000, 1000), uniform(-1000, 1000)) for _ in range(10**3))\n",
    "rnd_small_coords = tuple(filter(lambda c: c.x + c.y > 0, small_coords))\n",
    "\n",
    "# Sort the coordinates and print the first and last 10\n",
    "sorted_small_rnd = sorted(rnd_small_coords, key=lambda c: (c.x, c.y))\n",
    "print(sorted_small_rnd[:10])\n",
    "print(sorted_small_rnd[-10:])\n",
    "\n",
    "# Define a function to check if the list is in order\n",
    "def is_sorted(lst):\n",
    "    return all(a.x <= b.x and a.y <= b.y for a, b in zip(lst, lst[1:]))\n",
    "\n",
    "# Check if the list is sorted\n",
    "print(is_sorted(sorted_small_rnd))\n"
   ]
  },
  {
   "cell_type": "code",
   "execution_count": null,
   "metadata": {},
   "outputs": [],
   "source": [
    "#The order of the sorted elements comes from the comparison of these key values. \n",
    "#If two elements have the same x component, then their order is determined by the y component. \n",
    "#This is why the coordinates are sorted first by x and then by y.\n",
    "\n",
    "#Sorting the elements by memory location would not be useful for most applications \n",
    "#because the memory location of an element does not have a meaningful relationship with its value or its order relative to other elements. \n",
    "#You can find out the order of elements by looking at the key values returned by the key function. \n",
    "#In this case, you can see the order by looking at the x and y components of the coordinates. \n",
    "#If you wanted to sort by memory location for some reason (though I can’t think of a good reason to do so), you could use the id function as the key function. "
   ]
  },
  {
   "cell_type": "markdown",
   "metadata": {},
   "source": [
    "[General words of advice:\n",
    "\n",
    "* During testing, you might want to use a smaller data set (and then try it out at a larger set).\n",
    "* You might not want to display the entire list to see if you're right all the time. Slicing out the first and last elements, say the first or last 10, might provide some hints.\n",
    "* You could naturally define a function which checks that the list is in order (or performs some probabilistic sampling test), to test this.]"
   ]
  },
  {
   "cell_type": "markdown",
   "metadata": {},
   "source": [
    "d) Sort the values (in the sense of returning a new sorted tuple) by their Euclidean distance to the point (5,3). Continue using a built-in Python sorting function."
   ]
  },
  {
   "cell_type": "code",
   "execution_count": 49,
   "metadata": {},
   "outputs": [
    {
     "name": "stdout",
     "output_type": "stream",
     "text": [
      "[coord(x=5.007647296895129, y=2.9537117407181768), coord(x=4.9301673369251375, y=3.4396624013044175), coord(x=4.672524760622764, y=2.635989712569426), coord(x=5.940151053222394, y=2.631041417996016), coord(x=5.862547853739557, y=2.4466516673353453), coord(x=4.811143318581799, y=4.094394204040782), coord(x=4.603900528938425, y=4.057726630971615), coord(x=6.071232425668882, y=2.4985263495580057), coord(x=5.276853457026164, y=4.160863888458948), coord(x=4.5208969579338145, y=1.8293989317116939)]\n",
      "[coord(x=-997.9290735307937, y=999.2495413561016), coord(x=-997.8871975264063, y=999.3538869439742), coord(x=-998.0424961931244, y=999.4594035661762), coord(x=-997.8564499787275, y=999.769497370653), coord(x=-998.462758701288, y=999.7493000374673), coord(x=-998.4779148130589, y=999.7721415128617), coord(x=-999.0942376257093, y=999.4874796823094), coord(x=-999.0610557896025, y=999.7672471001144), coord(x=-999.2412316318453, y=999.6001725357241), coord(x=-999.4600015380138, y=999.5172174205641)]\n"
     ]
    }
   ],
   "source": [
    "\n",
    "# Define the reference point\n",
    "ref_point = coord(5, 3)\n",
    "\n",
    "# Define a function to calculate the Euclidean distance\n",
    "def euclidean_distance(c):\n",
    "    return sqrt((c.x - ref_point.x)**2 + (c.y - ref_point.y)**2)\n",
    "\n",
    "# Sort the coordinates by their Euclidean distance to (5,3)\n",
    "pts_near_53 = sorted(rnd_coords, key=euclidean_distance)\n",
    "\n",
    "# Print the first and last 10 coordinates to check the sorting\n",
    "print(pts_near_53[:10])\n",
    "print(pts_near_53[-10:])"
   ]
  },
  {
   "cell_type": "markdown",
   "metadata": {},
   "source": [
    "Note: here we customise the behaviour of a built-in function by passing it information about our intended ordering."
   ]
  },
  {
   "cell_type": "markdown",
   "metadata": {},
   "source": [
    "e) Define the function `sorted_by_distance(origo)` which takes a coordinate `origo` and returns a function which sorts the sequence by the euclidean distance to `origo`. (Ie those closest to origo come first in the list.)"
   ]
  },
  {
   "cell_type": "code",
   "execution_count": 50,
   "metadata": {},
   "outputs": [
    {
     "ename": "AssertionError",
     "evalue": "",
     "output_type": "error",
     "traceback": [
      "\u001b[0;31m---------------------------------------------------------------------------\u001b[0m",
      "\u001b[0;31mAssertionError\u001b[0m                            Traceback (most recent call last)",
      "\u001b[0;32m<ipython-input-50-b21689db845b>\u001b[0m in \u001b[0;36m<module>\u001b[0;34m\u001b[0m\n\u001b[1;32m      7\u001b[0m \u001b[0mpts_near_53_2\u001b[0m \u001b[0;34m=\u001b[0m \u001b[0mordered_by_closeness_to_53\u001b[0m\u001b[0;34m(\u001b[0m\u001b[0mcoords\u001b[0m\u001b[0;34m)\u001b[0m     \u001b[0;31m# Applying the function\u001b[0m\u001b[0;34m\u001b[0m\u001b[0;34m\u001b[0m\u001b[0m\n\u001b[1;32m      8\u001b[0m \u001b[0;34m\u001b[0m\u001b[0m\n\u001b[0;32m----> 9\u001b[0;31m \u001b[0;32massert\u001b[0m \u001b[0mpts_near_53\u001b[0m \u001b[0;34m==\u001b[0m \u001b[0mpts_near_53_2\u001b[0m\u001b[0;34m\u001b[0m\u001b[0;34m\u001b[0m\u001b[0m\n\u001b[0m",
      "\u001b[0;31mAssertionError\u001b[0m: "
     ]
    }
   ],
   "source": [
    "def sorted_by_distance(origo):\n",
    "    def euclidean_distance(c):\n",
    "        return sqrt((c.x - origo.x)**2 + (c.y - origo.y)**2)\n",
    "    return lambda coords: sorted(coords, key=euclidean_distance)\n",
    "\n",
    "ordered_by_closeness_to_53 = sorted_by_distance(coord(5,3))   # Return the function.\n",
    "pts_near_53_2 = ordered_by_closeness_to_53(coords)     # Applying the function \n",
    "\n",
    "assert pts_near_53 == pts_near_53_2"
   ]
  },
  {
   "cell_type": "markdown",
   "metadata": {},
   "source": [
    "[Note: Here we extend the work above to a higher-order function, which uses the local value of `origo`. In essence, this task summarises higher order functionality - we create a closure, return a function and use a custom ordering ]"
   ]
  },
  {
   "cell_type": "markdown",
   "metadata": {},
   "source": [
    "f) So far in the course, we have seen, and possibly used `enumerate`, `range`, `zip`, `map` and `filter` as declarative constructs (along with the general comprehension syntax). Now we introduce a further useful iterator construct. Construct something called `reverse_squared` which when prompted would give us the squares of elements 0,...,N _but in reverse_ (that is $N^2, (N-1)^2, ..., 2^2, 1^2, 0^2$). You may not give `range` a negative step length in this task (we are interested in more general ways of expressing that we want to iterate in another order, which in this and many cases will prove efficient)."
   ]
  },
  {
   "cell_type": "code",
   "execution_count": 55,
   "metadata": {},
   "outputs": [
    {
     "name": "stdout",
     "output_type": "stream",
     "text": [
      "[998001, 996004, 994009, 992016, 990025, 988036, 986049, 984064, 982081, 980100, 978121, 976144, 974169, 972196, 970225, 968256, 966289, 964324, 962361, 960400, 958441, 956484, 954529, 952576, 950625, 948676, 946729, 944784, 942841, 940900, 938961, 937024, 935089, 933156, 931225, 929296, 927369, 925444, 923521, 921600, 919681, 917764, 915849, 913936, 912025, 910116, 908209, 906304, 904401, 902500, 900601, 898704, 896809, 894916, 893025, 891136, 889249, 887364, 885481, 883600, 881721, 879844, 877969, 876096, 874225, 872356, 870489, 868624, 866761, 864900, 863041, 861184, 859329, 857476, 855625, 853776, 851929, 850084, 848241, 846400, 844561, 842724, 840889, 839056, 837225, 835396, 833569, 831744, 829921, 828100, 826281, 824464, 822649, 820836, 819025, 817216, 815409, 813604, 811801, 810000, 808201, 806404, 804609, 802816, 801025, 799236, 797449, 795664, 793881, 792100, 790321, 788544, 786769, 784996, 783225, 781456, 779689, 777924, 776161, 774400, 772641, 770884, 769129, 767376, 765625, 763876, 762129, 760384, 758641, 756900, 755161, 753424, 751689, 749956, 748225, 746496, 744769, 743044, 741321, 739600, 737881, 736164, 734449, 732736, 731025, 729316, 727609, 725904, 724201, 722500, 720801, 719104, 717409, 715716, 714025, 712336, 710649, 708964, 707281, 705600, 703921, 702244, 700569, 698896, 697225, 695556, 693889, 692224, 690561, 688900, 687241, 685584, 683929, 682276, 680625, 678976, 677329, 675684, 674041, 672400, 670761, 669124, 667489, 665856, 664225, 662596, 660969, 659344, 657721, 656100, 654481, 652864, 651249, 649636, 648025, 646416, 644809, 643204, 641601, 640000, 638401, 636804, 635209, 633616, 632025, 630436, 628849, 627264, 625681, 624100, 622521, 620944, 619369, 617796, 616225, 614656, 613089, 611524, 609961, 608400, 606841, 605284, 603729, 602176, 600625, 599076, 597529, 595984, 594441, 592900, 591361, 589824, 588289, 586756, 585225, 583696, 582169, 580644, 579121, 577600, 576081, 574564, 573049, 571536, 570025, 568516, 567009, 565504, 564001, 562500, 561001, 559504, 558009, 556516, 555025, 553536, 552049, 550564, 549081, 547600, 546121, 544644, 543169, 541696, 540225, 538756, 537289, 535824, 534361, 532900, 531441, 529984, 528529, 527076, 525625, 524176, 522729, 521284, 519841, 518400, 516961, 515524, 514089, 512656, 511225, 509796, 508369, 506944, 505521, 504100, 502681, 501264, 499849, 498436, 497025, 495616, 494209, 492804, 491401, 490000, 488601, 487204, 485809, 484416, 483025, 481636, 480249, 478864, 477481, 476100, 474721, 473344, 471969, 470596, 469225, 467856, 466489, 465124, 463761, 462400, 461041, 459684, 458329, 456976, 455625, 454276, 452929, 451584, 450241, 448900, 447561, 446224, 444889, 443556, 442225, 440896, 439569, 438244, 436921, 435600, 434281, 432964, 431649, 430336, 429025, 427716, 426409, 425104, 423801, 422500, 421201, 419904, 418609, 417316, 416025, 414736, 413449, 412164, 410881, 409600, 408321, 407044, 405769, 404496, 403225, 401956, 400689, 399424, 398161, 396900, 395641, 394384, 393129, 391876, 390625, 389376, 388129, 386884, 385641, 384400, 383161, 381924, 380689, 379456, 378225, 376996, 375769, 374544, 373321, 372100, 370881, 369664, 368449, 367236, 366025, 364816, 363609, 362404, 361201, 360000, 358801, 357604, 356409, 355216, 354025, 352836, 351649, 350464, 349281, 348100, 346921, 345744, 344569, 343396, 342225, 341056, 339889, 338724, 337561, 336400, 335241, 334084, 332929, 331776, 330625, 329476, 328329, 327184, 326041, 324900, 323761, 322624, 321489, 320356, 319225, 318096, 316969, 315844, 314721, 313600, 312481, 311364, 310249, 309136, 308025, 306916, 305809, 304704, 303601, 302500, 301401, 300304, 299209, 298116, 297025, 295936, 294849, 293764, 292681, 291600, 290521, 289444, 288369, 287296, 286225, 285156, 284089, 283024, 281961, 280900, 279841, 278784, 277729, 276676, 275625, 274576, 273529, 272484, 271441, 270400, 269361, 268324, 267289, 266256, 265225, 264196, 263169, 262144, 261121, 260100, 259081, 258064, 257049, 256036, 255025, 254016, 253009, 252004, 251001, 250000, 249001, 248004, 247009, 246016, 245025, 244036, 243049, 242064, 241081, 240100, 239121, 238144, 237169, 236196, 235225, 234256, 233289, 232324, 231361, 230400, 229441, 228484, 227529, 226576, 225625, 224676, 223729, 222784, 221841, 220900, 219961, 219024, 218089, 217156, 216225, 215296, 214369, 213444, 212521, 211600, 210681, 209764, 208849, 207936, 207025, 206116, 205209, 204304, 203401, 202500, 201601, 200704, 199809, 198916, 198025, 197136, 196249, 195364, 194481, 193600, 192721, 191844, 190969, 190096, 189225, 188356, 187489, 186624, 185761, 184900, 184041, 183184, 182329, 181476, 180625, 179776, 178929, 178084, 177241, 176400, 175561, 174724, 173889, 173056, 172225, 171396, 170569, 169744, 168921, 168100, 167281, 166464, 165649, 164836, 164025, 163216, 162409, 161604, 160801, 160000, 159201, 158404, 157609, 156816, 156025, 155236, 154449, 153664, 152881, 152100, 151321, 150544, 149769, 148996, 148225, 147456, 146689, 145924, 145161, 144400, 143641, 142884, 142129, 141376, 140625, 139876, 139129, 138384, 137641, 136900, 136161, 135424, 134689, 133956, 133225, 132496, 131769, 131044, 130321, 129600, 128881, 128164, 127449, 126736, 126025, 125316, 124609, 123904, 123201, 122500, 121801, 121104, 120409, 119716, 119025, 118336, 117649, 116964, 116281, 115600, 114921, 114244, 113569, 112896, 112225, 111556, 110889, 110224, 109561, 108900, 108241, 107584, 106929, 106276, 105625, 104976, 104329, 103684, 103041, 102400, 101761, 101124, 100489, 99856, 99225, 98596, 97969, 97344, 96721, 96100, 95481, 94864, 94249, 93636, 93025, 92416, 91809, 91204, 90601, 90000, 89401, 88804, 88209, 87616, 87025, 86436, 85849, 85264, 84681, 84100, 83521, 82944, 82369, 81796, 81225, 80656, 80089, 79524, 78961, 78400, 77841, 77284, 76729, 76176, 75625, 75076, 74529, 73984, 73441, 72900, 72361, 71824, 71289, 70756, 70225, 69696, 69169, 68644, 68121, 67600, 67081, 66564, 66049, 65536, 65025, 64516, 64009, 63504, 63001, 62500, 62001, 61504, 61009, 60516, 60025, 59536, 59049, 58564, 58081, 57600, 57121, 56644, 56169, 55696, 55225, 54756, 54289, 53824, 53361, 52900, 52441, 51984, 51529, 51076, 50625, 50176, 49729, 49284, 48841, 48400, 47961, 47524, 47089, 46656, 46225, 45796, 45369, 44944, 44521, 44100, 43681, 43264, 42849, 42436, 42025, 41616, 41209, 40804, 40401, 40000, 39601, 39204, 38809, 38416, 38025, 37636, 37249, 36864, 36481, 36100, 35721, 35344, 34969, 34596, 34225, 33856, 33489, 33124, 32761, 32400, 32041, 31684, 31329, 30976, 30625, 30276, 29929, 29584, 29241, 28900, 28561, 28224, 27889, 27556, 27225, 26896, 26569, 26244, 25921, 25600, 25281, 24964, 24649, 24336, 24025, 23716, 23409, 23104, 22801, 22500, 22201, 21904, 21609, 21316, 21025, 20736, 20449, 20164, 19881, 19600, 19321, 19044, 18769, 18496, 18225, 17956, 17689, 17424, 17161, 16900, 16641, 16384, 16129, 15876, 15625, 15376, 15129, 14884, 14641, 14400, 14161, 13924, 13689, 13456, 13225, 12996, 12769, 12544, 12321, 12100, 11881, 11664, 11449, 11236, 11025, 10816, 10609, 10404, 10201, 10000, 9801, 9604, 9409, 9216, 9025, 8836, 8649, 8464, 8281, 8100, 7921, 7744, 7569, 7396, 7225, 7056, 6889, 6724, 6561, 6400, 6241, 6084, 5929, 5776, 5625, 5476, 5329, 5184, 5041, 4900, 4761, 4624, 4489, 4356, 4225, 4096, 3969, 3844, 3721, 3600, 3481, 3364, 3249, 3136, 3025, 2916, 2809, 2704, 2601, 2500, 2401, 2304, 2209, 2116, 2025, 1936, 1849, 1764, 1681, 1600, 1521, 1444, 1369, 1296, 1225, 1156, 1089, 1024, 961, 900, 841, 784, 729, 676, 625, 576, 529, 484, 441, 400, 361, 324, 289, 256, 225, 196, 169, 144, 121, 100, 81, 64, 49, 36, 25, 16, 9, 4, 1, 0]\n"
     ]
    }
   ],
   "source": [
    "# The time it takes to run this shouldn't really depend on if you use SMALL_N or BIG_N.\n",
    "\n",
    "BIG_N = 99999999\n",
    "SMALL_N = 999\n",
    "\n",
    "N = SMALL_N    # change this to test later on\n",
    "\n",
    "reverse_squares = (i**2 for i in range(N, -1, -1)) # your code here\n",
    "print(list(reverse_squares))"
   ]
  },
  {
   "cell_type": "code",
   "execution_count": 56,
   "metadata": {
    "scrolled": true
   },
   "outputs": [
    {
     "name": "stdout",
     "output_type": "stream",
     "text": [
      "Did we find it?  True\n",
      "         66 function calls in 0.002 seconds\n",
      "\n",
      "   Ordered by: standard name\n",
      "\n",
      "   ncalls  tottime  percall  cumtime  percall filename:lineno(function)\n",
      "        5    0.000    0.000    0.000    0.000 :0(acquire)\n",
      "        5    0.000    0.000    0.000    0.000 :0(append)\n",
      "        1    0.001    0.001    0.001    0.001 :0(exec)\n",
      "        4    0.000    0.000    0.000    0.000 :0(getpid)\n",
      "        4    0.000    0.000    0.000    0.000 :0(isinstance)\n",
      "        1    0.000    0.000    0.001    0.001 :0(print)\n",
      "        1    0.000    0.000    0.000    0.000 :0(setprofile)\n",
      "        1    0.000    0.000    0.000    0.000 <ipython-input-56-c1c6df4b033c>:18(<genexpr>)\n",
      "        1    0.000    0.000    0.001    0.001 <string>:1(<module>)\n",
      "        5    0.000    0.000    0.000    0.000 iostream.py:195(schedule)\n",
      "        4    0.000    0.000    0.000    0.000 iostream.py:308(_is_master_process)\n",
      "        4    0.000    0.000    0.000    0.000 iostream.py:321(_schedule_flush)\n",
      "        4    0.000    0.000    0.001    0.000 iostream.py:384(write)\n",
      "        5    0.000    0.000    0.000    0.000 iostream.py:91(_event_pipe)\n",
      "        1    0.000    0.000    0.002    0.002 profile:0(print(f'Did we find it? ', N**2 in reverse_squares))\n",
      "        0    0.000             0.000          profile:0(profiler)\n",
      "        5    0.000    0.000    0.000    0.000 socket.py:438(send)\n",
      "        5    0.000    0.000    0.000    0.000 threading.py:1017(_wait_for_tstate_lock)\n",
      "        5    0.000    0.000    0.000    0.000 threading.py:1071(is_alive)\n",
      "        5    0.000    0.000    0.000    0.000 threading.py:513(is_set)\n",
      "\n",
      "\n"
     ]
    }
   ],
   "source": [
    "# Experimentation: copy and paste your code from above into this cell.\n",
    "# This is rather crude, but we want you to to be able to trust that any\n",
    "# slowness in the cell above can be found by reference to that code, not the\n",
    "# profiling code below.\n",
    "\n",
    "# Copy-pasting as it might be useful to have fresh maps.\n",
    "\n",
    "import profile\n",
    "\n",
    "# We cut and paste this code \n",
    "BIG_N = 99999999\n",
    "SMALL_N = 999\n",
    "\n",
    "N = SMALL_N    \n",
    "# Look at the run time. Switching from BIG_N to SMALL_N shouldn't really matter.\n",
    "# This suggests that we have quick access to elements at the end of our (squared) range.\n",
    "\n",
    "reverse_squares = (i**2 for i in range(N, -1, -1)) # <<----------- Your code from the cell above goes here.\n",
    "\n",
    "\n",
    "profile.run(\"print(f'Did we find it? ', N**2 in reverse_squares)\")"
   ]
  },
  {
   "cell_type": "markdown",
   "metadata": {},
   "source": [
    "Note: once you know of the construct, this task is extremely simple. It mostly serves as a demonstration of the availability of these constructs, and how they can be combined. Also, it points to efficiency considerations when using declarative iterator constructs as opposed to fixed computed structures.\n",
    "\n",
    "As the profiling code above suggests, where we redefine the object in every run, we do not have a purely functional construct. In that case, we wouldn't be able to exhaust the values."
   ]
  },
  {
   "cell_type": "markdown",
   "metadata": {},
   "source": [
    "[Additional reading: some additional tools are available in the `itertools` module.]"
   ]
  },
  {
   "cell_type": "markdown",
   "metadata": {},
   "source": [
    "## 4 Mutating function state\n",
    "\n",
    "A function always has access to the environment in which it was created. Usually, this means that the function can access global variables. It also means that it can access and modify local bindings from where it was created.\n",
    "\n",
    "A closure is a function which has access to an environment which is not accessible from outside the function (but which is not destroyed when the function returns). I.e. it is a way to introduce a small measure of statefulness into functional programming. In Python, iterators and generators work much like this. However, we can use the general concept in many cases."
   ]
  },
  {
   "cell_type": "markdown",
   "metadata": {},
   "source": [
    "a) Implement a function `make_counter` which has a single parameter `n` which acts as the initial value for a counter. The function should return a function with no parameters which, when called, increments the value of `n` by 1 and returns the new value."
   ]
  },
  {
   "cell_type": "code",
   "execution_count": 57,
   "metadata": {},
   "outputs": [
    {
     "name": "stdout",
     "output_type": "stream",
     "text": [
      "To show that the functions do not affect each others' states, consider the printout:\n"
     ]
    },
    {
     "ename": "TypeError",
     "evalue": "'generator' object is not callable",
     "output_type": "error",
     "traceback": [
      "\u001b[0;31m---------------------------------------------------------------------------\u001b[0m",
      "\u001b[0;31mTypeError\u001b[0m                                 Traceback (most recent call last)",
      "\u001b[0;32m<ipython-input-57-3822b82af63d>\u001b[0m in \u001b[0;36m<module>\u001b[0;34m\u001b[0m\n\u001b[1;32m      5\u001b[0m \u001b[0mcounter_B\u001b[0m \u001b[0;34m=\u001b[0m \u001b[0mmake_counter\u001b[0m\u001b[0;34m(\u001b[0m\u001b[0;36m15\u001b[0m\u001b[0;34m)\u001b[0m\u001b[0;34m\u001b[0m\u001b[0;34m\u001b[0m\u001b[0m\n\u001b[1;32m      6\u001b[0m \u001b[0mprint\u001b[0m\u001b[0;34m(\u001b[0m\u001b[0;34m\"To show that the functions do not affect each others' states, consider the printout:\"\u001b[0m\u001b[0;34m)\u001b[0m\u001b[0;34m\u001b[0m\u001b[0;34m\u001b[0m\u001b[0m\n\u001b[0;32m----> 7\u001b[0;31m \u001b[0mprint\u001b[0m\u001b[0;34m(\u001b[0m\u001b[0;34mf\"counter_A returns: {counter_A()}\"\u001b[0m\u001b[0;34m)\u001b[0m\u001b[0;34m\u001b[0m\u001b[0;34m\u001b[0m\u001b[0m\n\u001b[0m\u001b[1;32m      8\u001b[0m \u001b[0mprint\u001b[0m\u001b[0;34m(\u001b[0m\u001b[0;34mf\"counter_A returns: {counter_A()}\"\u001b[0m\u001b[0;34m)\u001b[0m\u001b[0;34m\u001b[0m\u001b[0;34m\u001b[0m\u001b[0m\n\u001b[1;32m      9\u001b[0m \u001b[0mprint\u001b[0m\u001b[0;34m(\u001b[0m\u001b[0;34mf\"counter_B returns: {counter_B()}\"\u001b[0m\u001b[0;34m)\u001b[0m\u001b[0;34m\u001b[0m\u001b[0;34m\u001b[0m\u001b[0m\n",
      "\u001b[0;31mTypeError\u001b[0m: 'generator' object is not callable"
     ]
    }
   ],
   "source": [
    "def make_counter(n):\n",
    "    yield lambda x: n+1\n",
    "\n",
    "counter_A = make_counter(0)\n",
    "counter_B = make_counter(15)\n",
    "print(\"To show that the functions do not affect each others' states, consider the printout:\")\n",
    "print(f\"counter_A returns: {counter_A()}\")\n",
    "print(f\"counter_A returns: {counter_A()}\")\n",
    "print(f\"counter_B returns: {counter_B()}\")\n",
    "print(f\"counter_A returns: {counter_A()} (was it affected by the call to counter_B?)\")"
   ]
  },
  {
   "cell_type": "code",
   "execution_count": 59,
   "metadata": {},
   "outputs": [
    {
     "name": "stdout",
     "output_type": "stream",
     "text": [
      "Hello\n",
      "51\n",
      "Good Bye\n"
     ]
    }
   ],
   "source": [
    "def myFunc():\n",
    "  yield \"Hello\"\n",
    "  yield 51\n",
    "  yield \"Good Bye\"\n",
    "\n",
    "x = myFunc()\n",
    "\n",
    "for z in x:\n",
    "  print(z)"
   ]
  },
  {
   "cell_type": "code",
   "execution_count": 58,
   "metadata": {},
   "outputs": [
    {
     "name": "stdout",
     "output_type": "stream",
     "text": [
      "To show that the functions do not affect each others' states, consider the printout:\n",
      "counter_A returns: 1\n",
      "counter_A returns: 2\n",
      "counter_B returns: 16\n",
      "counter_A returns: 3 (was it affected by the call to counter_B?)\n"
     ]
    }
   ],
   "source": [
    "def make_counter(n):\n",
    "    def counter():\n",
    "        nonlocal n\n",
    "        n += 1\n",
    "        return n\n",
    "    return counter\n",
    "\n",
    "counter_A = make_counter(0)\n",
    "counter_B = make_counter(15)\n",
    "\n",
    "print(\"To show that the functions do not affect each others' states, consider the printout:\")\n",
    "print(f\"counter_A returns: {counter_A()}\")\n",
    "print(f\"counter_A returns: {counter_A()}\")\n",
    "print(f\"counter_B returns: {counter_B()}\")\n",
    "print(f\"counter_A returns: {counter_A()} (was it affected by the call to counter_B?)\")\n"
   ]
  },
  {
   "cell_type": "markdown",
   "metadata": {},
   "source": [
    "## Attribution\n",
    "\n",
    "Lab by Johan Falkenjack (2018), extended and rewritten by Anders Märak Leffler (2019).\n",
    "\n",
    "License [CC-BY-SA 4.0](https://creativecommons.org/licenses/by-sa/4.0/)"
   ]
  }
 ],
 "metadata": {
  "kernelspec": {
   "display_name": "Python 3",
   "language": "python",
   "name": "python3"
  },
  "language_info": {
   "codemirror_mode": {
    "name": "ipython",
    "version": 3
   },
   "file_extension": ".py",
   "mimetype": "text/x-python",
   "name": "python",
   "nbconvert_exporter": "python",
   "pygments_lexer": "ipython3",
   "version": "3.8.0"
  }
 },
 "nbformat": 4,
 "nbformat_minor": 2
}
