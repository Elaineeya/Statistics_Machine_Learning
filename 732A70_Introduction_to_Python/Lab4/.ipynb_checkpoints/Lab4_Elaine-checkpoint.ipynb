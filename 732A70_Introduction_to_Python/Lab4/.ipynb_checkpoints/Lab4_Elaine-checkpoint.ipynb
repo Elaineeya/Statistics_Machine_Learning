{
 "cells": [
  {
   "cell_type": "markdown",
   "id": "exempt-abuse",
   "metadata": {},
   "source": [
    "# Lab 4: A composite scripting task"
   ]
  },
  {
   "cell_type": "markdown",
   "id": "worldwide-crowd",
   "metadata": {},
   "source": [
    "__Student:__ xuawa284\n",
    "\n",
    "__Student:__ abcde123"
   ]
  },
  {
   "cell_type": "code",
   "execution_count": null,
   "id": "wireless-climb",
   "metadata": {},
   "outputs": [],
   "source": [
    "import sys\n",
    "import re\n",
    "import collections\n",
    "from operator import itemgetter"
   ]
  },
  {
   "cell_type": "code",
   "execution_count": null,
   "id": "afraid-actress",
   "metadata": {},
   "outputs": [],
   "source": [
    "def read_file(filename):\n",
    "    try:\n",
    "        with open(filename, 'r') as f:\n",
    "            return f.read().lower()\n",
    "    except FileNotFoundError:\n",
    "        print(\"The file does not exist!\")\n",
    "        return None"
   ]
  },
  {
   "cell_type": "code",
   "execution_count": null,
   "id": "adjustable-portable",
   "metadata": {},
   "outputs": [],
   "source": [
    "def get_words(text):\n",
    "    return re.findall(r'\\b\\w+\\b', text)\n"
   ]
  },
  {
   "cell_type": "code",
   "execution_count": null,
   "id": "atmospheric-livestock",
   "metadata": {},
   "outputs": [],
   "source": [
    "def get_letters(text):\n",
    "    return re.findall(r'\\b\\w', text)\n"
   ]
  },
  {
   "cell_type": "code",
   "execution_count": null,
   "id": "owned-diana",
   "metadata": {},
   "outputs": [],
   "source": [
    "def get_frequency(items):\n",
    "    return collections.Counter(items)\n"
   ]
  },
  {
   "cell_type": "code",
   "execution_count": null,
   "id": "persistent-mentor",
   "metadata": {},
   "outputs": [],
   "source": [
    "def get_common_words(words, n=5):\n",
    "    return get_frequency(words).most_common(n)\n"
   ]
  },
  {
   "cell_type": "code",
   "execution_count": null,
   "id": "accomplished-planning",
   "metadata": {},
   "outputs": [],
   "source": [
    "def get_successors(words, common_words):\n",
    "    successors = {word: collections.Counter() for word, _ in common_words}\n",
    "    for i, word in enumerate(words[:-1]):\n",
    "        if word in successors:\n",
    "            successors[word][words[i + 1]] += 1\n",
    "    return successors"
   ]
  },
  {
   "cell_type": "code",
   "execution_count": null,
   "id": "disciplinary-tuning",
   "metadata": {},
   "outputs": [],
   "source": [
    "\n",
    "def print_stats(words, letters, common_words, successors, output=None):\n",
    "    if output:\n",
    "        sys.stdout = open(output, 'w')\n",
    "\n",
    "    print(f\"Number of words: {len(words)}\")\n",
    "    print(f\"Number of unique words: {len(set(words))}\")\n",
    "    print(\"Letter frequency:\")\n",
    "    for letter, freq in get_frequency(letters).most_common():\n",
    "        print(f\"{letter}: {freq}\")\n",
    "\n",
    "    print(\"Most common words and their successors:\")\n",
    "    for word, freq in common_words:\n",
    "        print(f\"{word} ({freq} occurrences)\")\n",
    "        for successor, count in successors[word].most_common(3):\n",
    "            print(f\"-- {successor}, {count}\")\n"
   ]
  },
  {
   "cell_type": "code",
   "execution_count": null,
   "id": "worst-passport",
   "metadata": {},
   "outputs": [],
   "source": [
    "\n",
    "\n",
    "def text_stats(filename, output=None):\n",
    "    text = read_file(filename)\n",
    "    if text is None:\n",
    "        return\n",
    "\n",
    "    words = get_words(text)\n",
    "    letters = get_letters(text)\n",
    "    common_words = get_common_words(words)\n",
    "    successors = get_successors(words, common_words)\n",
    "\n",
    "    print_stats(words, letters, common_words, successors, output)\n",
    "\n"
   ]
  },
  {
   "cell_type": "code",
   "execution_count": null,
   "id": "polyphonic-alias",
   "metadata": {},
   "outputs": [],
   "source": [
    "if __name__ == \"__main__\":\n",
    "    if len(sys.argv) < 2:\n",
    "        print(\"Please provide a filename as an argument.\")\n",
    "    elif len(sys.argv) == 2:\n",
    "        text_stats(sys.argv[1])\n",
    "    else:\n",
    "        text_stats(sys.argv[1], sys.argv[2])\n"
   ]
  },
  {
   "cell_type": "code",
   "execution_count": null,
   "id": "cordless-cycle",
   "metadata": {},
   "outputs": [],
   "source": []
  },
  {
   "cell_type": "code",
   "execution_count": null,
   "id": "occupied-concentrate",
   "metadata": {},
   "outputs": [],
   "source": []
  },
  {
   "cell_type": "code",
   "execution_count": null,
   "id": "fitted-talent",
   "metadata": {},
   "outputs": [],
   "source": []
  }
 ],
 "metadata": {
  "kernelspec": {
   "display_name": "Python 3",
   "language": "python",
   "name": "python3"
  },
  "language_info": {
   "codemirror_mode": {
    "name": "ipython",
    "version": 3
   },
   "file_extension": ".py",
   "mimetype": "text/x-python",
   "name": "python",
   "nbconvert_exporter": "python",
   "pygments_lexer": "ipython3",
   "version": "3.8.0"
  }
 },
 "nbformat": 4,
 "nbformat_minor": 5
}
