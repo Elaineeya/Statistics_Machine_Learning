{
 "cells": [
  {
   "cell_type": "markdown",
   "metadata": {},
   "source": [
    "# Deep Neural Networks Laboration\n",
    "\n",
    "Data used in this laboration are from the Kitsune Network Attack Dataset, https://archive.ics.uci.edu/ml/datasets/Kitsune+Network+Attack+Dataset . We will focus on the 'Mirai' part of the dataset. Your task is to make a DNN that can classify if each attack is benign or malicious. The dataset has 116 covariates, but to make it a bit more difficult we will remove the first 24 covariates.\n",
    "\n",
    "You need to answer all questions in this notebook.\n",
    "\n",
    "If the training is too slow on your own computer, use the smaller datasets (*half or *quarter).\n",
    "\n",
    "Dense networks are not optimal for tabular datasets like the one used here, but here the main goal is to learn deep learning."
   ]
  },
  {
   "cell_type": "markdown",
   "metadata": {},
   "source": [
    "# Part 1: Get the data\n",
    "\n",
    "Skip this part if you load stored numpy arrays (Mirai*.npy) (which is recommended)\n",
    "\n",
    "Use `wget` in the terminal of your cloud machine (in the same directory as where you have saved this notebook) to download the data, i.e.\n",
    "\n",
    "wget https://archive.ics.uci.edu/ml/machine-learning-databases/00516/mirai/Mirai_dataset.csv.gz\n",
    "\n",
    "wget https://archive.ics.uci.edu/ml/machine-learning-databases/00516/mirai/Mirai_labels.csv.gz\n",
    "\n",
    "Then unpack the files using `gunzip` in the terminal, i.e.\n",
    "\n",
    "gunzip Mirai_dataset.csv.gz\n",
    "\n",
    "gunzip Mirai_labels.csv.gz"
   ]
  },
  {
   "cell_type": "markdown",
   "metadata": {},
   "source": [
    "# Part 2: Get a graphics card\n",
    "\n",
    "Skip this part if you run on the CPU (recommended)\n",
    "\n",
    "Lets make sure that our script can see the graphics card that will be used. The graphics cards will perform all the time consuming calculations in every training iteration."
   ]
  },
  {
   "cell_type": "code",
   "execution_count": 2,
   "metadata": {},
   "outputs": [
    {
     "name": "stdout",
     "output_type": "stream",
     "text": [
      "No GPU detected. The code will run on CPU.\n"
     ]
    }
   ],
   "source": [
    "import os\n",
    "import warnings\n",
    "\n",
    "# Ignore FutureWarning from numpy\n",
    "warnings.simplefilter(action='ignore', category=FutureWarning)\n",
    "\n",
    "import keras.backend as K\n",
    "import tensorflow as tf\n",
    "\n",
    "os.environ[\"CUDA_DEVICE_ORDER\"]=\"PCI_BUS_ID\";\n",
    " \n",
    "# The GPU id to use, usually either \"0\" or \"1\";\n",
    "os.environ[\"CUDA_VISIBLE_DEVICES\"]=\"0\";\n",
    "\n",
    "# Allow growth of GPU memory, otherwise it will always look like all the memory is being used\n",
    "physical_devices = tf.config.experimental.list_physical_devices('GPU')\n",
    "#tf.config.experimental.set_memory_growth(physical_devices[0], True) \n",
    "\n",
    "\n",
    "# Check if any GPU is detected\n",
    "if physical_devices:\n",
    "    tf.config.experimental.set_memory_growth(physical_devices[0], True)\n",
    "else:\n",
    "    print(\"No GPU detected. The code will run on CPU.\")"
   ]
  },
  {
   "cell_type": "markdown",
   "metadata": {},
   "source": [
    "# Part 3: Hardware\n",
    "\n",
    "In deep learning, the computer hardware is very important. You should always know what kind of hardware you are working on. Lets pretend that everyone is using an Nvidia RTX 3090 graphics card.\n",
    "\n",
    "Question 1: Google the name of the graphics card, how many CUDA cores does it have?\n",
    "\n",
    "<span style=\"color:blue\">The Nvidia RTX 3090 graphics card has 10,496 CUDA cores1</span>\n",
    " \n",
    "<span style=\"color:blue\">reference: https://www.nvidia.com/sv-se/geforce/graphics-cards/30-series/rtx-3090-3090ti/</span>\n",
    "\n",
    "Question 2: How much memory does the graphics card have?\n",
    "\n",
    "<span style=\"color:blue\">The Nvidia RTX 3090 graphics card has 24 GB of GDDR6X memory</span>\n",
    "\n",
    "Question 3: What is stored in the GPU memory while training a DNN ?\n",
    "\n",
    "<span style=\"color:blue\">1) Model Parameters: These include the weights and biases for each layer in the network.</span>\n",
    "\n",
    "<span style=\"color:blue\">2) Intermediate Computations: The outputs of each layer in the network are stored for backpropagation.</span>\n",
    "\n",
    "<span style=\"color:blue\">3) Optimizer States: If the optimizer maintains a state (like in Adam or RMSprop), these are also stored in the GPU memory.</span>\n",
    "\n",
    "<span style=\"color:blue\">4) Mini-batch Data: The input data for the current mini-batch is loaded into GPU memory.</span>"
   ]
  },
  {
   "cell_type": "markdown",
   "metadata": {},
   "source": [
    "# Part 4: Load the data\n",
    "\n",
    "To make this step easier, directly load the data from saved numpy arrays (.npy) (recommended)\n",
    "\n",
    "\n",
    "Load the dataset from the csv files, it will take some time since it is almost 1.4 GB. (not recommended, unless you want to learn how to do it)\n",
    "\n",
    "We will use the function `genfromtxt` to load the data. (not recommended, unless you want to learn how to do it)\n",
    "\n",
    "https://docs.scipy.org/doc/numpy/reference/generated/numpy.genfromtxt.html\n",
    "\n",
    "Load the data from csv files the first time, then save the data as numpy files for faster loading the next time.\n",
    "\n",
    "Remove the first 24 covariates to make the task harder."
   ]
  },
  {
   "cell_type": "code",
   "execution_count": 3,
   "metadata": {},
   "outputs": [
    {
     "name": "stdout",
     "output_type": "stream",
     "text": [
      "The covariates have size (764137, 92).\n",
      "The labels have size (764137,).\n",
      "Class 0: 121621 examples\n",
      "Class 1: 642516 examples\n"
     ]
    }
   ],
   "source": [
    "from numpy import genfromtxt # Not needed if you load data from numpy arrays\n",
    "import numpy as np\n",
    "\n",
    "# Load data from numpy arrays, choose reduced files if the training takes too long\n",
    "X = np.load('Mirai_data.npy')\n",
    "Y = np.load('Mirai_labels.npy')\n",
    "\n",
    "\n",
    "\n",
    "# Remove the first 24 covariates (columns)\n",
    "X = X[:, 24:]\n",
    "\n",
    "print('The covariates have size {}.'.format(X.shape))\n",
    "print('The labels have size {}.'.format(Y.shape))\n",
    "\n",
    "# Print the number of examples of each class    \n",
    "unique, counts = np.unique(Y, return_counts=True)\n",
    "for unique_classe, count in zip(unique, counts):\n",
    "    print(f\"Class {int(unique_classe)}: {count} examples\")"
   ]
  },
  {
   "cell_type": "markdown",
   "metadata": {},
   "source": [
    "# Part 5: How good is a naive classifier?\n",
    "\n",
    "Question 4: Given the number of examples from each class, how high classification performance can a naive classifier obtain? The naive classifier will assume that all examples belong to one class. Note: you do not need to make a naive classifier, this is a theoretical question, just to understand how good performance we can obtain by guessing that all examples belong to one class.\n",
    "\n",
    "In all classification tasks you should always ask these questions\n",
    "\n",
    "- How good classification accuracy can a naive classifier obtain? The naive classifier will assume that all examples belong to one class.\n",
    "- What is random chance classification accuracy if you randomly guess the label of each (test) example? For a balanced dataset and binary classification this is easy (50%), but in many cases it is more complicated and a Monte Carlo simulation may be required to estimate random chance accuracy.\n",
    "\n",
    "If your classifier cannot perform better than a naive classifier or a random classifier, you are doing something wrong.\n"
   ]
  },
  {
   "cell_type": "code",
   "execution_count": 4,
   "metadata": {},
   "outputs": [
    {
     "name": "stdout",
     "output_type": "stream",
     "text": [
      "A naive classifier, which always predicts the most common class, would have an accuracy of 0.8408387501194158.\n",
      "The labels have 0 NaNs.\n",
      "The covariates have 0 NaNs.\n"
     ]
    }
   ],
   "source": [
    "# It is common to have NaNs in the data, lets check for it. Hint: np.isnan()\n",
    "most_common_class_count = max(counts)\n",
    "total_examples = sum(counts)\n",
    "naive_classifier_accuracy = most_common_class_count / total_examples\n",
    "print(f\"A naive classifier, which always predicts the most common class, would have an accuracy of {naive_classifier_accuracy}.\")\n",
    "\n",
    "# Print the number of NaNs (not a number) in the labels\n",
    "nan_in_labels = np.isnan(Y).sum()\n",
    "nan_in_covariates = np.isnan(X).sum()\n",
    "\n",
    "\n",
    "# Print the number of NaNs in the covariates\n",
    "print(f\"The labels have {nan_in_labels} NaNs.\")\n",
    "print(f\"The covariates have {nan_in_covariates} NaNs.\")\n",
    "\n"
   ]
  },
  {
   "cell_type": "markdown",
   "metadata": {},
   "source": [
    "# Part 6: Preprocessing\n",
    "\n",
    "Lets do some simple preprocessing"
   ]
  },
  {
   "cell_type": "code",
   "execution_count": 5,
   "metadata": {},
   "outputs": [
    {
     "name": "stdout",
     "output_type": "stream",
     "text": [
      "Mean: [-3.19451533e-18 -6.32970181e-14  1.19926356e-13  4.56743018e-15\n",
      "  4.10210037e-14  1.46130975e-13  5.85246484e-16 -1.69734859e-14\n",
      " -3.36915700e-13  1.28688437e-12 -2.69360995e-12 -1.10733213e-13\n",
      " -1.22392702e-13 -1.70649630e-13 -1.02461166e-14  2.50701280e-12\n",
      "  1.47553162e-12  1.08446837e-12 -1.04981959e-13  6.83458762e-14\n",
      " -1.03373555e-13  5.98825773e-14 -1.02025960e-12 -1.68983055e-12\n",
      " -1.79101143e-12 -1.31828514e-13  4.42580403e-13  6.14635580e-13\n",
      "  5.78048199e-14 -4.92623328e-13 -2.54513072e-12  1.86544900e-13\n",
      " -1.53444593e-13  1.68079591e-12  9.30041709e-13  1.50738177e-13\n",
      " -1.15688852e-12 -3.62610361e-13 -1.71390937e-12 -2.09264067e-13\n",
      "  1.07161976e-12 -1.45236885e-12 -1.69724579e-14 -1.64918984e-16\n",
      " -5.13444996e-14 -1.02171349e-14 -1.74685907e-15  1.34264921e-13\n",
      "  5.98801969e-14  1.48745574e-17 -4.25442340e-13  5.78079594e-14\n",
      "  1.25638129e-15  1.69449684e-13  1.50725881e-13  2.14439542e-14\n",
      "  3.65457183e-14  1.17260451e-13 -8.82752870e-13 -6.34816648e-13\n",
      " -1.62109649e-12  2.63270303e-13 -7.57215123e-15 -2.89395002e-14\n",
      " -3.90180996e-13 -1.53167085e-12 -9.57913621e-13  2.47411065e-13\n",
      "  2.44200541e-13 -6.73050928e-15  1.07502596e-13  2.58222203e-13\n",
      " -1.87714601e-13 -1.19882476e-12 -2.17154862e-12  5.48444735e-14\n",
      "  5.46183481e-15  3.71315442e-14  1.47576646e-13 -1.62639245e-12\n",
      " -1.23986972e-13 -1.71744315e-12  5.29956657e-13 -3.21442452e-14\n",
      " -4.59767392e-14  3.56347870e-13 -1.48544246e-12 -1.26642728e-13\n",
      "  1.52633871e-13  9.58048710e-14  4.34603426e-14 -4.07615740e-14]\n",
      "Standard deviation: [1. 1. 1. 1. 1. 1. 1. 1. 1. 1. 1. 1. 1. 1. 1. 1. 1. 1. 1. 1. 1. 1. 1. 1.\n",
      " 1. 1. 1. 1. 1. 1. 1. 1. 1. 1. 1. 1. 1. 1. 1. 1. 1. 1. 1. 1. 1. 1. 1. 1.\n",
      " 1. 1. 1. 1. 1. 1. 1. 1. 1. 1. 1. 1. 1. 1. 1. 1. 1. 1. 1. 1. 1. 1. 1. 1.\n",
      " 1. 1. 1. 1. 1. 1. 1. 1. 1. 1. 1. 1. 1. 1. 1. 1. 1. 1. 1. 1.]\n"
     ]
    }
   ],
   "source": [
    "# Convert covariates to floats\n",
    "X = X.astype(float)\n",
    "\n",
    "# Convert labels to integers\n",
    "Y = Y.astype(int)\n",
    "\n",
    "# Remove mean of each covariate (column)\n",
    "X = X - np.mean(X, axis=0)\n",
    "\n",
    "\n",
    "# Divide each covariate (column) by its standard deviation\n",
    "X = X / np.std(X, axis=0)\n",
    "\n",
    "# Check that mean is 0 and standard deviation is 1 for all covariates, by printing mean and std\n",
    "print('Mean:', np.mean(X, axis=0))\n",
    "print('Standard deviation:', np.std(X, axis=0))\n"
   ]
  },
  {
   "cell_type": "markdown",
   "metadata": {},
   "source": [
    "# Part 7: Split the dataset\n",
    "\n",
    "Use the first 70% of the dataset for training, leave the other 30% for validation and test, call the variables\n",
    "\n",
    "Xtrain (70%)\n",
    "\n",
    "Xtemp  (30%)\n",
    "\n",
    "Ytrain (70%)\n",
    "\n",
    "Ytemp  (30%)\n",
    "\n",
    "We use a function from scikit learn.\n",
    "https://scikit-learn.org/stable/modules/generated/sklearn.model_selection.train_test_split.html\n"
   ]
  },
  {
   "cell_type": "code",
   "execution_count": 6,
   "metadata": {},
   "outputs": [
    {
     "name": "stdout",
     "output_type": "stream",
     "text": [
      "Xtrain has size (534895, 92).\n",
      "Ytrain has size (534895,).\n",
      "Xtemp has size (229242, 92).\n",
      "Ytemp has size (229242,).\n",
      "\n",
      "Number of examples of each class in the training data: \n",
      "Class 0: 85248 examples\n",
      "Class 1: 449647 examples\n",
      "\n",
      "Number of examples of each class in the remaining 30% data: \n",
      "Class 0: 36373 examples\n",
      "Class 1: 192869 examples\n"
     ]
    }
   ],
   "source": [
    "from sklearn.model_selection import train_test_split\n",
    "\n",
    "# Your code to split the dataset\n",
    "Xtrain, Xtemp, Ytrain, Ytemp = train_test_split(X, Y, test_size=0.3, random_state=42)\n",
    "\n",
    "\n",
    "print('Xtrain has size {}.'.format(Xtrain.shape))\n",
    "print('Ytrain has size {}.'.format(Ytrain.shape))\n",
    "\n",
    "print('Xtemp has size {}.'.format(Xtemp.shape))\n",
    "print('Ytemp has size {}.'.format(Ytemp.shape))\n",
    "\n",
    "# Print the number of examples of each class, for the training data and the remaining 30%\n",
    "unique_train, counts_train = np.unique(Ytrain, return_counts=True)\n",
    "print(\"\\nNumber of examples of each class in the training data: \")\n",
    "for unique_train_class, count_train in zip(unique_train, counts_train):\n",
    "    print(f\"Class {int(unique_train_class)}: {count_train} examples\")\n",
    "\n",
    "    \n",
    "unique_temp, counts_temp = np.unique(Ytemp, return_counts=True)\n",
    "print(\"\\nNumber of examples of each class in the remaining 30% data: \")\n",
    "for unique_temp_class, count_temp in zip(unique_temp, counts_temp):\n",
    "    print(f\"Class {int(unique_temp_class)}: {count_temp} examples\")\n"
   ]
  },
  {
   "cell_type": "markdown",
   "metadata": {},
   "source": [
    "#  Part 8: Split non-training data data into validation and test\n",
    "Now split your non-training data (Xtemp, Ytemp) into 50% validation (Xval, Yval) and 50% testing (Xtest, Ytest), we use a function from scikit learn. In total this gives us 70% for training, 15% for validation, 15% for test.\n",
    "\n",
    "https://scikit-learn.org/stable/modules/generated/sklearn.model_selection.train_test_split.html\n",
    "\n",
    "Do all variables (Xtrain,Ytrain), (Xval,Yval), (Xtest,Ytest) have the shape that you expect?"
   ]
  },
  {
   "cell_type": "code",
   "execution_count": 7,
   "metadata": {},
   "outputs": [
    {
     "name": "stdout",
     "output_type": "stream",
     "text": [
      "Number of examples of each class in the validation data:  {0: 18291, 1: 96330}\n",
      "Number of examples of each class in the test data:  {0: 18082, 1: 96539}\n",
      "The validation and test data have size (114621, 92), (114621, 92), (114621,) and (114621,)\n"
     ]
    }
   ],
   "source": [
    "from sklearn.model_selection import train_test_split\n",
    "\n",
    "# Your code\n",
    "Xval, Xtest, Yval, Ytest = train_test_split(Xtemp, Ytemp, test_size=0.5, random_state=42)\n",
    "\n",
    "unique_val, counts_val = np.unique(Yval, return_counts=True)\n",
    "print(\"Number of examples of each class in the validation data: \", dict(zip(unique_val, counts_val)))\n",
    "\n",
    "unique_test, counts_test = np.unique(Ytest, return_counts=True)\n",
    "print(\"Number of examples of each class in the test data: \", dict(zip(unique_test, counts_test)))\n",
    "\n",
    "print('The validation and test data have size {}, {}, {} and {}'.format(Xval.shape, Xtest.shape, Yval.shape, Ytest.shape))"
   ]
  },
  {
   "cell_type": "markdown",
   "metadata": {},
   "source": [
    "# Part 9: DNN classification\n",
    "\n",
    "Finish this code to create a first version of the classifier using a DNN. Start with a simple network with 2 dense layers (with 20 nodes each), using sigmoid activation functions. The final dense layer should have a single node and a sigmoid activation function. We start with the SGD optimizer.\n",
    "\n",
    "For different parts of this notebook you need to go back here, add more things, and re-run this cell to re-define the build function.\n",
    "\n",
    "Relevant functions are\n",
    "\n",
    "`model.add()`, adds a layer to the network\n",
    "\n",
    "`Dense()`, a dense network layer\n",
    "\n",
    "`model.compile()`, compile the model, add \" metrics=['accuracy'] \" to print the classification accuracy during the training\n",
    "\n",
    "See https://keras.io/layers/core/ for information on how the `Dense()` function works\n",
    "\n",
    "Import a relevant cost / loss function for binary classification from keras.losses (https://keras.io/losses/)\n",
    "\n",
    "See the following links for how to compile, train and evaluate the model\n",
    "\n",
    "https://keras.io/api/models/model_training_apis/#compile-method\n",
    "\n",
    "https://keras.io/api/models/model_training_apis/#fit-method\n",
    "\n",
    "https://keras.io/api/models/model_training_apis/#evaluate-method\n",
    "\n",
    "Make sure that the last layer always has a sigmoid activation function (why?).\n",
    "\n",
    "<span style=\"color:blue\"> Sigmoid activation function is for outputing the probability. One is because this is a binary classification task.</span>\n"
   ]
  },
  {
   "cell_type": "code",
   "execution_count": 37,
   "metadata": {},
   "outputs": [],
   "source": [
    "from keras.models import Sequential, Model\n",
    "from keras.layers import Input, Dense, BatchNormalization, Dropout \n",
    "from tensorflow.keras.optimizers import SGD, Adam\n",
    "from keras.losses import BinaryCrossentropy\n",
    "\n",
    "# Set seed from random number generator, for better comparisons\n",
    "from numpy.random import seed\n",
    "seed(123)\n",
    "\n",
    "def build_DNN(input_shape, n_layers, n_nodes, act_fun='sigmoid', optimizer='sgd', learning_rate=0.01, \n",
    "              use_bn=False, use_dropout=False, use_custom_dropout=False, dropout_rate = 0.5):\n",
    "    \n",
    "    # Setup optimizer, depending on input parameter string\n",
    "    if optimizer == 'sgd':\n",
    "        optimizer = SGD(learning_rate=learning_rate, momentum=0.9, nesterov=True)\n",
    "    elif optimizer == 'adam':\n",
    "        optimizer = Adam(learning_rate=learning_rate)\n",
    "        \n",
    "    # Setup a sequential model\n",
    "    model = Sequential()\n",
    "\n",
    "    \n",
    "    # Add first layer, requires input shape\n",
    "    model.add(Dense(n_nodes, activation=act_fun, input_shape=input_shape))\n",
    "    \n",
    "    # Add remaining layers, do not require input shape\n",
    "    for i in range(n_layers-1):\n",
    "        model.add(Dense(n_nodes, activation=act_fun))\n",
    "        if use_bn:\n",
    "            model.add(BatchNormalization(momentum=0.75))\n",
    "        if use_dropout:\n",
    "            model.add(Dropout(dropout_rate))\n",
    "        if use_custom_dropout:\n",
    "            model.add(myDropout(dropout_rate))  # Add custom dropout after each Dense layer\n",
    "    \n",
    "    \n",
    "    # Add final layer\n",
    "    model.add(Dense(1, activation='sigmoid'))  \n",
    "    \n",
    "    # Compile model\n",
    "    model.compile(loss='binary_crossentropy', optimizer=optimizer, metrics=['accuracy'])\n",
    "    \n",
    "    return model"
   ]
  },
  {
   "cell_type": "code",
   "execution_count": 9,
   "metadata": {},
   "outputs": [],
   "source": [
    "# Lets define a help function for plotting the training results\n",
    "\n",
    "import matplotlib.pyplot as plt\n",
    "def plot_results(history):\n",
    "    \n",
    "    val_loss = history.history['val_loss']\n",
    "    acc = history.history['accuracy']\n",
    "    loss = history.history['loss']\n",
    "    val_acc = history.history['val_accuracy']\n",
    "    \n",
    "    plt.figure(figsize=(10,4))\n",
    "    plt.xlabel('Epochs')\n",
    "    plt.ylabel('Loss')\n",
    "    plt.plot(loss)\n",
    "    plt.plot(val_loss)\n",
    "    plt.legend(['Training','Validation'])\n",
    "\n",
    "    plt.figure(figsize=(10,4))\n",
    "    plt.xlabel('Epochs')\n",
    "    plt.ylabel('Accuracy')\n",
    "    plt.plot(acc)\n",
    "    plt.plot(val_acc)\n",
    "    plt.legend(['Training','Validation'])\n",
    "\n",
    "    plt.show()"
   ]
  },
  {
   "cell_type": "markdown",
   "metadata": {},
   "source": [
    "# Part 10: Train the DNN\n",
    "\n",
    "Time to train the DNN, we start simple with 2 layers with 20 nodes each, learning rate 0.1.\n",
    "\n",
    "Relevant functions\n",
    "\n",
    "`build_DNN`, the function we defined in Part 9, call it with the parameters you want to use\n",
    "\n",
    "`model.fit()`, train the model with some training data\n",
    "\n",
    "`model.evaluate()`, apply the trained model to some test data\n",
    "\n",
    "See the following links for how to train and evaluate the model\n",
    "\n",
    "https://keras.io/api/models/model_training_apis/#fit-method\n",
    "\n",
    "https://keras.io/api/models/model_training_apis/#evaluate-method\n",
    "\n",
    "\n",
    "Make sure that you are using learning rate 0.1 !"
   ]
  },
  {
   "cell_type": "markdown",
   "metadata": {},
   "source": [
    "### 2 layers, 20 nodes"
   ]
  },
  {
   "cell_type": "code",
   "execution_count": 10,
   "metadata": {
    "scrolled": true
   },
   "outputs": [
    {
     "name": "stdout",
     "output_type": "stream",
     "text": [
      "Epoch 1/20\n",
      "54/54 [==============================] - 2s 20ms/step - loss: 0.3094 - accuracy: 0.8457 - val_loss: 0.1895 - val_accuracy: 0.9003\n",
      "Epoch 2/20\n",
      "54/54 [==============================] - 0s 7ms/step - loss: 0.1833 - accuracy: 0.9006 - val_loss: 0.1762 - val_accuracy: 0.9036\n",
      "Epoch 3/20\n",
      "54/54 [==============================] - 0s 7ms/step - loss: 0.1744 - accuracy: 0.9059 - val_loss: 0.1697 - val_accuracy: 0.9098\n",
      "Epoch 4/20\n",
      "54/54 [==============================] - 0s 7ms/step - loss: 0.1694 - accuracy: 0.9090 - val_loss: 0.1657 - val_accuracy: 0.9113\n",
      "Epoch 5/20\n",
      "54/54 [==============================] - 0s 7ms/step - loss: 0.1664 - accuracy: 0.9102 - val_loss: 0.1632 - val_accuracy: 0.9144\n",
      "Epoch 6/20\n",
      "54/54 [==============================] - 0s 7ms/step - loss: 0.1643 - accuracy: 0.9144 - val_loss: 0.1614 - val_accuracy: 0.9167\n",
      "Epoch 7/20\n",
      "54/54 [==============================] - 0s 7ms/step - loss: 0.1627 - accuracy: 0.9147 - val_loss: 0.1599 - val_accuracy: 0.9170\n",
      "Epoch 8/20\n",
      "54/54 [==============================] - 0s 7ms/step - loss: 0.1613 - accuracy: 0.9149 - val_loss: 0.1585 - val_accuracy: 0.9167\n",
      "Epoch 9/20\n",
      "54/54 [==============================] - 0s 6ms/step - loss: 0.1599 - accuracy: 0.9149 - val_loss: 0.1572 - val_accuracy: 0.9168\n",
      "Epoch 10/20\n",
      "54/54 [==============================] - 0s 7ms/step - loss: 0.1587 - accuracy: 0.9153 - val_loss: 0.1560 - val_accuracy: 0.9173\n",
      "Epoch 11/20\n",
      "54/54 [==============================] - 0s 6ms/step - loss: 0.1575 - accuracy: 0.9157 - val_loss: 0.1548 - val_accuracy: 0.9179\n",
      "Epoch 12/20\n",
      "54/54 [==============================] - 0s 6ms/step - loss: 0.1564 - accuracy: 0.9163 - val_loss: 0.1537 - val_accuracy: 0.9183\n",
      "Epoch 13/20\n",
      "54/54 [==============================] - 0s 7ms/step - loss: 0.1554 - accuracy: 0.9167 - val_loss: 0.1528 - val_accuracy: 0.9188\n",
      "Epoch 14/20\n",
      "54/54 [==============================] - 0s 7ms/step - loss: 0.1545 - accuracy: 0.9172 - val_loss: 0.1520 - val_accuracy: 0.9192\n",
      "Epoch 15/20\n",
      "54/54 [==============================] - 0s 7ms/step - loss: 0.1537 - accuracy: 0.9175 - val_loss: 0.1512 - val_accuracy: 0.9195\n",
      "Epoch 16/20\n",
      "54/54 [==============================] - 0s 6ms/step - loss: 0.1530 - accuracy: 0.9177 - val_loss: 0.1506 - val_accuracy: 0.9198\n",
      "Epoch 17/20\n",
      "54/54 [==============================] - 0s 7ms/step - loss: 0.1523 - accuracy: 0.9180 - val_loss: 0.1499 - val_accuracy: 0.9198\n",
      "Epoch 18/20\n",
      "54/54 [==============================] - 0s 7ms/step - loss: 0.1516 - accuracy: 0.9181 - val_loss: 0.1493 - val_accuracy: 0.9202\n",
      "Epoch 19/20\n",
      "54/54 [==============================] - 0s 7ms/step - loss: 0.1510 - accuracy: 0.9184 - val_loss: 0.1488 - val_accuracy: 0.9203\n",
      "Epoch 20/20\n",
      "54/54 [==============================] - 0s 6ms/step - loss: 0.1505 - accuracy: 0.9185 - val_loss: 0.1482 - val_accuracy: 0.9207\n"
     ]
    }
   ],
   "source": [
    "# Setup some training parameters\n",
    "batch_size = 10000\n",
    "epochs = 20\n",
    "\n",
    "input_shape = (Xtrain.shape[1],)\n",
    "\n",
    "# Build the model\n",
    "model1 = build_DNN(input_shape, n_layers=2, n_nodes=20, learning_rate=0.1)\n",
    "\n",
    "# Train the model, provide training data and validation data\n",
    "history1 =  model1.fit(Xtrain, Ytrain, batch_size=batch_size, epochs=epochs, verbose=1, validation_data=(Xval, Yval))"
   ]
  },
  {
   "cell_type": "code",
   "execution_count": 11,
   "metadata": {},
   "outputs": [
    {
     "name": "stdout",
     "output_type": "stream",
     "text": [
      "Test loss: 0.1492\n",
      "Test accuracy: 0.9192\n"
     ]
    }
   ],
   "source": [
    "# Evaluate the model on the test data\n",
    "score = model1.evaluate(Xtest, Ytest, verbose=0)\n",
    "\n",
    "print('Test loss: %.4f' % score[0])\n",
    "print('Test accuracy: %.4f' % score[1])"
   ]
  },
  {
   "cell_type": "code",
   "execution_count": 12,
   "metadata": {},
   "outputs": [
    {
     "data": {
      "image/png": "[encoded data removed]",
      "text/plain": [
       "<Figure size 720x288 with 1 Axes>"
      ]
     },
     "metadata": {
      "needs_background": "light"
     },
     "output_type": "display_data"
    },
    {
     "data": {
      "image/png": "[encoded data removed]",
      "text/plain": [
       "<Figure size 720x288 with 1 Axes>"
      ]
     },
     "metadata": {
      "needs_background": "light"
     },
     "output_type": "display_data"
    }
   ],
   "source": [
    "# Plot the history from the training run\n",
    "plot_results(history1)"
   ]
  },
  {
   "cell_type": "markdown",
   "metadata": {},
   "source": [
    "# Part 11: More questions\n",
    "\n",
    "Question 5: What happens if you add several Dense layers without specifying the activation function?\n",
    "\n",
    "<span style=\"color:blue\">If adding several Dense layers in Keras without specifying an activation function, the layers will have a linear activation function by default in Keras. This means that they will not apply any activation function to their input, they will just pass it on. If stacking several of these layers together, they will still behave as a single layer, because the composition of linear functions is still a linear function. This is why it’s important to add a non-linear activation function between the Dense layers: it allows the stack of layers to model more complex patterns.</span>\n",
    "\n",
    "\n",
    "Question 6: How are the weights in each dense layer initialized as default? How are the bias weights initialized?\n",
    "\n",
    "<span style=\"color:blue\">In Keras, the weights in each Dense layer are initialized using ‘Glorot Uniform’ initializer, also known as the Xavier uniform initializer. It draws samples from a uniform distribution within [-limit, limit], where limit is sqrt(6 / (fan_in + fan_out)) and fan_in is the number of input units in the weight tensor and fan_out is the number of output units. The bias weights in each Dense layer are initialized with zeros by default. This is a common and safe practice because the bias terms are independent of the input data, and setting them to zero doesn’t prevent the model from learning appropriate bias values during training.</span>\n"
   ]
  },
  {
   "cell_type": "markdown",
   "metadata": {},
   "source": [
    "# Part 12: Balancing the classes\n",
    "\n",
    "This dataset is rather unbalanced, we need to define class weights so that the training pays more attention to the class with fewer samples. We use a function in scikit learn\n",
    "\n",
    "https://scikit-learn.org/stable/modules/generated/sklearn.utils.class_weight.compute_class_weight.html\n",
    "\n",
    "You need to call the function something like this\n",
    "\n",
    "class_weights = class_weight.compute_class_weight(class_weight = , classes = , y = )\n",
    "\n",
    "otherwise it will complain"
   ]
  },
  {
   "cell_type": "code",
   "execution_count": 13,
   "metadata": {},
   "outputs": [
    {
     "name": "stdout",
     "output_type": "stream",
     "text": [
      "Class weights:  [3.13728768 0.59479436]\n",
      "Class weights in Keras format:  {0: 3.1372876783033035, 1: 0.5947943609097803}\n"
     ]
    }
   ],
   "source": [
    "from sklearn.utils import class_weight\n",
    "\n",
    "# Calculate class weights\n",
    "class_weights = class_weight.compute_class_weight('balanced', np.unique(Ytrain), Ytrain)\n",
    "\n",
    "\n",
    "# Print the class weights\n",
    "print(\"Class weights: \", class_weights)\n",
    "\n",
    "# Keras wants the weights in this form, uncomment and change value1 and value2 to your weights, \n",
    "# or get them from the array that is returned from class_weight\n",
    "\n",
    "class_weights = {i : class_weights[i] for i in range(len(class_weights))}\n",
    "\n",
    "print(\"Class weights in Keras format: \", class_weights)"
   ]
  },
  {
   "cell_type": "markdown",
   "metadata": {},
   "source": [
    "### 2 layers, 20 nodes, class weights"
   ]
  },
  {
   "cell_type": "code",
   "execution_count": 14,
   "metadata": {
    "scrolled": true
   },
   "outputs": [
    {
     "name": "stdout",
     "output_type": "stream",
     "text": [
      "Epoch 1/20\n",
      "54/54 [==============================] - 2s 21ms/step - loss: 0.3277 - accuracy: 0.8748 - val_loss: 0.2469 - val_accuracy: 0.8898\n",
      "Epoch 2/20\n",
      "54/54 [==============================] - 0s 8ms/step - loss: 0.1956 - accuracy: 0.8952 - val_loss: 0.2327 - val_accuracy: 0.9011\n",
      "Epoch 3/20\n",
      "54/54 [==============================] - 1s 10ms/step - loss: 0.1851 - accuracy: 0.9019 - val_loss: 0.2279 - val_accuracy: 0.9064\n",
      "Epoch 4/20\n",
      "54/54 [==============================] - 1s 10ms/step - loss: 0.1794 - accuracy: 0.9081 - val_loss: 0.2186 - val_accuracy: 0.9115\n",
      "Epoch 5/20\n",
      "54/54 [==============================] - 0s 7ms/step - loss: 0.1758 - accuracy: 0.9103 - val_loss: 0.2176 - val_accuracy: 0.9126\n",
      "Epoch 6/20\n",
      "54/54 [==============================] - 0s 7ms/step - loss: 0.1733 - accuracy: 0.9110 - val_loss: 0.2153 - val_accuracy: 0.9131\n",
      "Epoch 7/20\n",
      "54/54 [==============================] - 0s 7ms/step - loss: 0.1714 - accuracy: 0.9123 - val_loss: 0.2133 - val_accuracy: 0.9150\n",
      "Epoch 8/20\n",
      "54/54 [==============================] - 0s 7ms/step - loss: 0.1698 - accuracy: 0.9134 - val_loss: 0.2108 - val_accuracy: 0.9160\n",
      "Epoch 9/20\n",
      "54/54 [==============================] - 0s 7ms/step - loss: 0.1684 - accuracy: 0.9144 - val_loss: 0.2103 - val_accuracy: 0.9168\n",
      "Epoch 10/20\n",
      "54/54 [==============================] - 0s 6ms/step - loss: 0.1673 - accuracy: 0.9150 - val_loss: 0.2099 - val_accuracy: 0.9172\n",
      "Epoch 11/20\n",
      "54/54 [==============================] - 0s 7ms/step - loss: 0.1663 - accuracy: 0.9153 - val_loss: 0.2045 - val_accuracy: 0.9175\n",
      "Epoch 12/20\n",
      "54/54 [==============================] - 0s 7ms/step - loss: 0.1655 - accuracy: 0.9154 - val_loss: 0.2057 - val_accuracy: 0.9176\n",
      "Epoch 13/20\n",
      "54/54 [==============================] - 0s 7ms/step - loss: 0.1647 - accuracy: 0.9156 - val_loss: 0.2029 - val_accuracy: 0.9176\n",
      "Epoch 14/20\n",
      "54/54 [==============================] - 0s 7ms/step - loss: 0.1641 - accuracy: 0.9156 - val_loss: 0.2030 - val_accuracy: 0.9176\n",
      "Epoch 15/20\n",
      "54/54 [==============================] - 0s 7ms/step - loss: 0.1635 - accuracy: 0.9157 - val_loss: 0.2043 - val_accuracy: 0.9178\n",
      "Epoch 16/20\n",
      "54/54 [==============================] - 0s 7ms/step - loss: 0.1630 - accuracy: 0.9158 - val_loss: 0.2025 - val_accuracy: 0.9179\n",
      "Epoch 17/20\n",
      "54/54 [==============================] - 0s 7ms/step - loss: 0.1625 - accuracy: 0.9159 - val_loss: 0.2041 - val_accuracy: 0.9179\n",
      "Epoch 18/20\n",
      "54/54 [==============================] - 0s 7ms/step - loss: 0.1620 - accuracy: 0.9160 - val_loss: 0.1988 - val_accuracy: 0.9181\n",
      "Epoch 19/20\n",
      "54/54 [==============================] - 0s 7ms/step - loss: 0.1615 - accuracy: 0.9162 - val_loss: 0.2005 - val_accuracy: 0.9181\n",
      "Epoch 20/20\n",
      "54/54 [==============================] - 0s 8ms/step - loss: 0.1611 - accuracy: 0.9163 - val_loss: 0.2022 - val_accuracy: 0.9183\n"
     ]
    }
   ],
   "source": [
    "# Setup some training parameters\n",
    "batch_size = 10000\n",
    "epochs = 20\n",
    "input_shape = (Xtrain.shape[1],) \n",
    "\n",
    "# Build and train model\n",
    "model2 = build_DNN(input_shape, n_layers=2, n_nodes=20, learning_rate=0.1)\n",
    "\n",
    "history2 = model2.fit(Xtrain, Ytrain, batch_size=batch_size, epochs=epochs, verbose=1, validation_data=(Xval, Yval), class_weight=class_weights)"
   ]
  },
  {
   "cell_type": "code",
   "execution_count": 15,
   "metadata": {},
   "outputs": [
    {
     "name": "stdout",
     "output_type": "stream",
     "text": [
      "Test loss: 0.2056\n",
      "Test accuracy: 0.9168\n"
     ]
    }
   ],
   "source": [
    "# Evaluate model on test data\n",
    "score = model2.evaluate(Xtest, Ytest, verbose=0)\n",
    "\n",
    "print('Test loss: %.4f' % score[0])\n",
    "print('Test accuracy: %.4f' % score[1])"
   ]
  },
  {
   "cell_type": "code",
   "execution_count": 16,
   "metadata": {},
   "outputs": [
    {
     "data": {
      "image/png": "[encoded data removed]",
      "text/plain": [
       "<Figure size 720x288 with 1 Axes>"
      ]
     },
     "metadata": {
      "needs_background": "light"
     },
     "output_type": "display_data"
    },
    {
     "data": {
      "image/png": "[encoded data removed]",
      "text/plain": [
       "<Figure size 720x288 with 1 Axes>"
      ]
     },
     "metadata": {
      "needs_background": "light"
     },
     "output_type": "display_data"
    }
   ],
   "source": [
    "plot_results(history2)"
   ]
  },
  {
   "cell_type": "markdown",
   "metadata": {},
   "source": [
    "# Part 13: More questions\n",
    "\n",
    "Skip questions 8 and 9 if you run on the CPU (recommended)\n",
    "\n",
    "Question 7: Why do we have to use a batch size? Why can't we simply use all data at once? This is more relevant for even larger datasets.\n",
    "\n",
    "<span style=\"color:blue\">We use a batch size because it’s not feasible to fit all data into memory at once, especially for large datasets. Also, using smaller batches makes the network update weights more frequently, leading to a faster convergence, and introduces some noise into the learning process, helping the model avoid local minima.</span>\n",
    "\n",
    "Question 8: How busy is the GPU for a batch size of 100? How much GPU memory is used? Hint: run 'nvidia-smi' on the computer a few times during training.\n",
    "\n",
    "Question 9: What is the processing time for one training epoch when the batch size is 100? What is the processing time for one epoch when the batch size is 1,000? What is the processing time for one epoch when the batch size is 10,000? Explain the results. \n",
    "\n",
    "Question 10: How many times are the weights in the DNN updated in each training epoch if the batch size is 100? How many times are the weights in the DNN updated in each training epoch if the batch size is 1,000? How many times are the weights in the DNN updated in each training epoch if the batch size is 10,000?  \n",
    "\n",
    "<span style=\"color:blue\">The weights in the DNN are updated after each batch is processed. So, in this case our training set has 534895 samples, the weights get updated 5349 times (534895 / 100), 535 times (534895 / 1000) and 54 times (534895 / 10000) when the batch size is 100, 1000 and 10000, respectively.</span>\n",
    "\n",
    "Question 11: What limits how large the batch size can be?\n",
    "\n",
    "<span style=\"color:blue\">The maximum batch size is limited by the memory capacity of the hardware. If trying to use a batch size that is too large, it will run out of memory.</span>\n",
    "\n",
    "Question 12: Generally speaking, how is the learning rate related to the batch size? If the batch size is decreased, how should the learning rate be changed?\n",
    "\n",
    "<span style=\"color:blue\">If the batch size is decreased, the learning rate should also be decreased. This is because with a smaller batch size, the gradient estimate will have higher variance, and a high learning rate can amplify this variance, leading to unstable training.</span>\n",
    "\n",
    "Lets use a batch size of 10,000 from now on, and a learning rate of 0.1."
   ]
  },
  {
   "cell_type": "markdown",
   "metadata": {},
   "source": [
    "# Part 14: Increasing the complexity\n",
    "\n",
    "Lets try some different configurations of number of layers and number of nodes per layer.\n",
    "\n",
    "Question 13: How many trainable parameters does the network with 4 dense layers with 50 nodes each have, compared to the initial network with 2 layers and 20 nodes per layer? Hint: use model.summary()\n",
    "\n",
    "<span style=\"color:blue\">  number_of_nodes. The “+1” is due to the bias terms, one for each node. For a network with 2 layers and 20 nodes per layer, assuming the input has n features:</span>\n",
    "\n",
    "<span style=\"color:blue\"> The first layer has (n + 1) * 20 parameters.</span>\n",
    "<span style=\"color:blue\"> The second layer has (20 + 1) * 20 parameters (since the input to this layer is the output of the first layer, which has 20 nodes).</span>\n",
    "\n",
    "<span style=\"color:blue\"> For a network with 4 layers and 50 nodes per layer:</span>\n",
    "\n",
    "<span style=\"color:blue\"> The first layer has (n + 1) * 50 parameters.</span>\n",
    "<span style=\"color:blue\"> Each of the next three layers has (50 + 1) * 50 parameters.</span>"
   ]
  },
  {
   "cell_type": "code",
   "execution_count": 32,
   "metadata": {},
   "outputs": [
    {
     "name": "stdout",
     "output_type": "stream",
     "text": [
      "Model: \"sequential_4\"\n",
      "_________________________________________________________________\n",
      " Layer (type)                Output Shape              Param #   \n",
      "=================================================================\n",
      " dense_14 (Dense)            (None, 50)                4650      \n",
      "                                                                 \n",
      " dense_15 (Dense)            (None, 50)                2550      \n",
      "                                                                 \n",
      " dense_16 (Dense)            (None, 50)                2550      \n",
      "                                                                 \n",
      " dense_17 (Dense)            (None, 50)                2550      \n",
      "                                                                 \n",
      " dense_18 (Dense)            (None, 1)                 51        \n",
      "                                                                 \n",
      "=================================================================\n",
      "Total params: 12351 (48.25 KB)\n",
      "Trainable params: 12351 (48.25 KB)\n",
      "Non-trainable params: 0 (0.00 Byte)\n",
      "_________________________________________________________________\n",
      "Model: \"sequential_1\"\n",
      "_________________________________________________________________\n",
      " Layer (type)                Output Shape              Param #   \n",
      "=================================================================\n",
      " dense_3 (Dense)             (None, 20)                1860      \n",
      "                                                                 \n",
      " dense_4 (Dense)             (None, 20)                420       \n",
      "                                                                 \n",
      " dense_5 (Dense)             (None, 1)                 21        \n",
      "                                                                 \n",
      "=================================================================\n",
      "Total params: 2301 (8.99 KB)\n",
      "Trainable params: 2301 (8.99 KB)\n",
      "Non-trainable params: 0 (0.00 Byte)\n",
      "_________________________________________________________________\n",
      "There are 12351 and 2301 trainable parameters in these two models.\n"
     ]
    }
   ],
   "source": [
    "model5.summary(), model2.summary()\n",
    "print('There are 12351 and 2301 trainable parameters in these two models.')"
   ]
  },
  {
   "cell_type": "markdown",
   "metadata": {},
   "source": [
    "### 4 layers, 20 nodes, class weights"
   ]
  },
  {
   "cell_type": "code",
   "execution_count": 17,
   "metadata": {
    "scrolled": true
   },
   "outputs": [
    {
     "name": "stdout",
     "output_type": "stream",
     "text": [
      "Epoch 1/20\n",
      "54/54 [==============================] - 2s 21ms/step - loss: 0.6898 - accuracy: 0.6581 - val_loss: 0.6828 - val_accuracy: 0.8976\n",
      "Epoch 2/20\n",
      "54/54 [==============================] - 0s 9ms/step - loss: 0.6426 - accuracy: 0.8869 - val_loss: 0.4941 - val_accuracy: 0.8859\n",
      "Epoch 3/20\n",
      "54/54 [==============================] - 0s 9ms/step - loss: 0.2612 - accuracy: 0.8860 - val_loss: 0.2435 - val_accuracy: 0.8974\n",
      "Epoch 4/20\n",
      "54/54 [==============================] - 0s 9ms/step - loss: 0.1910 - accuracy: 0.8990 - val_loss: 0.2310 - val_accuracy: 0.9038\n",
      "Epoch 5/20\n",
      "54/54 [==============================] - 0s 9ms/step - loss: 0.1820 - accuracy: 0.9057 - val_loss: 0.2233 - val_accuracy: 0.9098\n",
      "Epoch 6/20\n",
      "54/54 [==============================] - 1s 10ms/step - loss: 0.1771 - accuracy: 0.9102 - val_loss: 0.2183 - val_accuracy: 0.9142\n",
      "Epoch 7/20\n",
      "54/54 [==============================] - 0s 9ms/step - loss: 0.1740 - accuracy: 0.9127 - val_loss: 0.2164 - val_accuracy: 0.9156\n",
      "Epoch 8/20\n",
      "54/54 [==============================] - 0s 9ms/step - loss: 0.1717 - accuracy: 0.9138 - val_loss: 0.2144 - val_accuracy: 0.9161\n",
      "Epoch 9/20\n",
      "54/54 [==============================] - 0s 9ms/step - loss: 0.1699 - accuracy: 0.9144 - val_loss: 0.2090 - val_accuracy: 0.9167\n",
      "Epoch 10/20\n",
      "54/54 [==============================] - 0s 9ms/step - loss: 0.1684 - accuracy: 0.9148 - val_loss: 0.2095 - val_accuracy: 0.9172\n",
      "Epoch 11/20\n",
      "54/54 [==============================] - 0s 9ms/step - loss: 0.1670 - accuracy: 0.9152 - val_loss: 0.2046 - val_accuracy: 0.9175\n",
      "Epoch 12/20\n",
      "54/54 [==============================] - 0s 9ms/step - loss: 0.1658 - accuracy: 0.9155 - val_loss: 0.2057 - val_accuracy: 0.9179\n",
      "Epoch 13/20\n",
      "54/54 [==============================] - 0s 9ms/step - loss: 0.1647 - accuracy: 0.9160 - val_loss: 0.2052 - val_accuracy: 0.9181\n",
      "Epoch 14/20\n",
      "54/54 [==============================] - 0s 9ms/step - loss: 0.1638 - accuracy: 0.9163 - val_loss: 0.2085 - val_accuracy: 0.9183\n",
      "Epoch 15/20\n",
      "54/54 [==============================] - 0s 9ms/step - loss: 0.1630 - accuracy: 0.9167 - val_loss: 0.2024 - val_accuracy: 0.9190\n",
      "Epoch 16/20\n",
      "54/54 [==============================] - 0s 9ms/step - loss: 0.1623 - accuracy: 0.9170 - val_loss: 0.2045 - val_accuracy: 0.9191\n",
      "Epoch 17/20\n",
      "54/54 [==============================] - 0s 9ms/step - loss: 0.1617 - accuracy: 0.9172 - val_loss: 0.1988 - val_accuracy: 0.9193\n",
      "Epoch 18/20\n",
      "54/54 [==============================] - 0s 9ms/step - loss: 0.1611 - accuracy: 0.9174 - val_loss: 0.1979 - val_accuracy: 0.9194\n",
      "Epoch 19/20\n",
      "54/54 [==============================] - 0s 9ms/step - loss: 0.1606 - accuracy: 0.9175 - val_loss: 0.2010 - val_accuracy: 0.9194\n",
      "Epoch 20/20\n",
      "54/54 [==============================] - 0s 9ms/step - loss: 0.1601 - accuracy: 0.9176 - val_loss: 0.2025 - val_accuracy: 0.9195\n"
     ]
    }
   ],
   "source": [
    "# Setup some training parameters\n",
    "batch_size = 10000\n",
    "epochs = 20\n",
    "input_shape = (Xtrain.shape[1],)\n",
    "\n",
    "# Build and train model\n",
    "model3 = build_DNN(input_shape, n_layers=4, n_nodes=20, learning_rate=0.1)\n",
    "\n",
    "history3 = model3.fit(Xtrain, Ytrain, batch_size=batch_size, epochs=epochs, verbose=1, validation_data=(Xval, Yval), class_weight=class_weights)"
   ]
  },
  {
   "cell_type": "code",
   "execution_count": 18,
   "metadata": {},
   "outputs": [
    {
     "name": "stdout",
     "output_type": "stream",
     "text": [
      "Test loss: 0.2059\n",
      "Test accuracy: 0.9181\n"
     ]
    }
   ],
   "source": [
    "# Evaluate model on test data\n",
    "score = model3.evaluate(Xtest, Ytest, verbose=0)\n",
    "\n",
    "print('Test loss: %.4f' % score[0])\n",
    "print('Test accuracy: %.4f' % score[1])"
   ]
  },
  {
   "cell_type": "code",
   "execution_count": 19,
   "metadata": {},
   "outputs": [
    {
     "data": {
      "image/png": "[encoded data removed]",
      "text/plain": [
       "<Figure size 720x288 with 1 Axes>"
      ]
     },
     "metadata": {
      "needs_background": "light"
     },
     "output_type": "display_data"
    },
    {
     "data": {
      "image/png": "[encoded data removed]",
      "text/plain": [
       "<Figure size 720x288 with 1 Axes>"
      ]
     },
     "metadata": {
      "needs_background": "light"
     },
     "output_type": "display_data"
    }
   ],
   "source": [
    "plot_results(history3)"
   ]
  },
  {
   "cell_type": "markdown",
   "metadata": {},
   "source": [
    "### 2 layers, 50 nodes, class weights"
   ]
  },
  {
   "cell_type": "code",
   "execution_count": 20,
   "metadata": {
    "scrolled": true
   },
   "outputs": [
    {
     "name": "stdout",
     "output_type": "stream",
     "text": [
      "Epoch 1/20\n",
      "54/54 [==============================] - 2s 15ms/step - loss: 0.3471 - accuracy: 0.8433 - val_loss: 0.2500 - val_accuracy: 0.8943\n",
      "Epoch 2/20\n",
      "54/54 [==============================] - 1s 11ms/step - loss: 0.1931 - accuracy: 0.8967 - val_loss: 0.2291 - val_accuracy: 0.9016\n",
      "Epoch 3/20\n",
      "54/54 [==============================] - 1s 10ms/step - loss: 0.1837 - accuracy: 0.9029 - val_loss: 0.2224 - val_accuracy: 0.9082\n",
      "Epoch 4/20\n",
      "54/54 [==============================] - 1s 11ms/step - loss: 0.1788 - accuracy: 0.9086 - val_loss: 0.2199 - val_accuracy: 0.9114\n",
      "Epoch 5/20\n",
      "54/54 [==============================] - 1s 11ms/step - loss: 0.1756 - accuracy: 0.9102 - val_loss: 0.2175 - val_accuracy: 0.9123\n",
      "Epoch 6/20\n",
      "54/54 [==============================] - 1s 11ms/step - loss: 0.1734 - accuracy: 0.9108 - val_loss: 0.2167 - val_accuracy: 0.9131\n",
      "Epoch 7/20\n",
      "54/54 [==============================] - 1s 11ms/step - loss: 0.1718 - accuracy: 0.9124 - val_loss: 0.2174 - val_accuracy: 0.9145\n",
      "Epoch 8/20\n",
      "54/54 [==============================] - 1s 11ms/step - loss: 0.1705 - accuracy: 0.9132 - val_loss: 0.2111 - val_accuracy: 0.9155\n",
      "Epoch 9/20\n",
      "54/54 [==============================] - 1s 10ms/step - loss: 0.1693 - accuracy: 0.9138 - val_loss: 0.2093 - val_accuracy: 0.9163\n",
      "Epoch 10/20\n",
      "54/54 [==============================] - 1s 11ms/step - loss: 0.1682 - accuracy: 0.9143 - val_loss: 0.2083 - val_accuracy: 0.9166\n",
      "Epoch 11/20\n",
      "54/54 [==============================] - 1s 11ms/step - loss: 0.1672 - accuracy: 0.9147 - val_loss: 0.2073 - val_accuracy: 0.9169\n",
      "Epoch 12/20\n",
      "54/54 [==============================] - 1s 11ms/step - loss: 0.1662 - accuracy: 0.9150 - val_loss: 0.2057 - val_accuracy: 0.9172\n",
      "Epoch 13/20\n",
      "54/54 [==============================] - 1s 10ms/step - loss: 0.1654 - accuracy: 0.9152 - val_loss: 0.2048 - val_accuracy: 0.9173\n",
      "Epoch 14/20\n",
      "54/54 [==============================] - 1s 11ms/step - loss: 0.1646 - accuracy: 0.9153 - val_loss: 0.2048 - val_accuracy: 0.9176\n",
      "Epoch 15/20\n",
      "54/54 [==============================] - 1s 9ms/step - loss: 0.1639 - accuracy: 0.9155 - val_loss: 0.2023 - val_accuracy: 0.9177\n",
      "Epoch 16/20\n",
      "54/54 [==============================] - 1s 10ms/step - loss: 0.1633 - accuracy: 0.9156 - val_loss: 0.2010 - val_accuracy: 0.9179\n",
      "Epoch 17/20\n",
      "54/54 [==============================] - 1s 10ms/step - loss: 0.1627 - accuracy: 0.9157 - val_loss: 0.2015 - val_accuracy: 0.9180\n",
      "Epoch 18/20\n",
      "54/54 [==============================] - 1s 13ms/step - loss: 0.1621 - accuracy: 0.9159 - val_loss: 0.1998 - val_accuracy: 0.9183\n",
      "Epoch 19/20\n",
      "54/54 [==============================] - 1s 11ms/step - loss: 0.1616 - accuracy: 0.9161 - val_loss: 0.2021 - val_accuracy: 0.9183\n",
      "Epoch 20/20\n",
      "54/54 [==============================] - 1s 10ms/step - loss: 0.1611 - accuracy: 0.9163 - val_loss: 0.2046 - val_accuracy: 0.9185\n"
     ]
    }
   ],
   "source": [
    "# Setup some training parameters\n",
    "batch_size = 10000\n",
    "epochs = 20\n",
    "input_shape = (Xtrain.shape[1],)\n",
    "\n",
    "# Build and train model\n",
    "model4 = build_DNN(input_shape, n_layers=2, n_nodes=50, learning_rate=0.1)\n",
    "\n",
    "history4 = model4.fit(Xtrain, Ytrain, batch_size=batch_size, epochs=epochs, verbose=1, validation_data=(Xval, Yval), class_weight=class_weights)"
   ]
  },
  {
   "cell_type": "code",
   "execution_count": 21,
   "metadata": {},
   "outputs": [
    {
     "name": "stdout",
     "output_type": "stream",
     "text": [
      "Test loss: 0.2081\n",
      "Test accuracy: 0.9168\n"
     ]
    }
   ],
   "source": [
    "# Evaluate model on test data\n",
    "score = model4.evaluate(Xtest, Ytest, verbose=0)\n",
    "\n",
    "print('Test loss: %.4f' % score[0])\n",
    "print('Test accuracy: %.4f' % score[1])"
   ]
  },
  {
   "cell_type": "code",
   "execution_count": 22,
   "metadata": {},
   "outputs": [
    {
     "data": {
      "image/png": "[encoded data removed]",
      "text/plain": [
       "<Figure size 720x288 with 1 Axes>"
      ]
     },
     "metadata": {
      "needs_background": "light"
     },
     "output_type": "display_data"
    },
    {
     "data": {
      "image/png": "[encoded data removed]",
      "text/plain": [
       "<Figure size 720x288 with 1 Axes>"
      ]
     },
     "metadata": {
      "needs_background": "light"
     },
     "output_type": "display_data"
    }
   ],
   "source": [
    "plot_results(history4)"
   ]
  },
  {
   "cell_type": "markdown",
   "metadata": {},
   "source": [
    "### 4 layers, 50 nodes, class weights"
   ]
  },
  {
   "cell_type": "code",
   "execution_count": 23,
   "metadata": {
    "scrolled": true
   },
   "outputs": [
    {
     "name": "stdout",
     "output_type": "stream",
     "text": [
      "Epoch 1/20\n",
      "54/54 [==============================] - 2s 22ms/step - loss: 0.6890 - accuracy: 0.6607 - val_loss: 0.6851 - val_accuracy: 0.8791\n",
      "Epoch 2/20\n",
      "54/54 [==============================] - 1s 16ms/step - loss: 0.5590 - accuracy: 0.8663 - val_loss: 0.2812 - val_accuracy: 0.8820\n",
      "Epoch 3/20\n",
      "54/54 [==============================] - 1s 17ms/step - loss: 0.2082 - accuracy: 0.8877 - val_loss: 0.2414 - val_accuracy: 0.8980\n",
      "Epoch 4/20\n",
      "54/54 [==============================] - 1s 17ms/step - loss: 0.1907 - accuracy: 0.8980 - val_loss: 0.2323 - val_accuracy: 0.9024\n",
      "Epoch 5/20\n",
      "54/54 [==============================] - 1s 17ms/step - loss: 0.1819 - accuracy: 0.9059 - val_loss: 0.2245 - val_accuracy: 0.9109\n",
      "Epoch 6/20\n",
      "54/54 [==============================] - 1s 16ms/step - loss: 0.1769 - accuracy: 0.9101 - val_loss: 0.2204 - val_accuracy: 0.9126\n",
      "Epoch 7/20\n",
      "54/54 [==============================] - 1s 16ms/step - loss: 0.1738 - accuracy: 0.9112 - val_loss: 0.2178 - val_accuracy: 0.9139\n",
      "Epoch 8/20\n",
      "54/54 [==============================] - 1s 15ms/step - loss: 0.1717 - accuracy: 0.9130 - val_loss: 0.2125 - val_accuracy: 0.9157\n",
      "Epoch 9/20\n",
      "54/54 [==============================] - 1s 15ms/step - loss: 0.1700 - accuracy: 0.9136 - val_loss: 0.2113 - val_accuracy: 0.9163\n",
      "Epoch 10/20\n",
      "54/54 [==============================] - 1s 15ms/step - loss: 0.1684 - accuracy: 0.9145 - val_loss: 0.2095 - val_accuracy: 0.9168\n",
      "Epoch 11/20\n",
      "54/54 [==============================] - 1s 16ms/step - loss: 0.1670 - accuracy: 0.9149 - val_loss: 0.2097 - val_accuracy: 0.9170\n",
      "Epoch 12/20\n",
      "54/54 [==============================] - 1s 15ms/step - loss: 0.1657 - accuracy: 0.9154 - val_loss: 0.2008 - val_accuracy: 0.9176\n",
      "Epoch 13/20\n",
      "54/54 [==============================] - 1s 15ms/step - loss: 0.1647 - accuracy: 0.9157 - val_loss: 0.2062 - val_accuracy: 0.9177\n",
      "Epoch 14/20\n",
      "54/54 [==============================] - 1s 16ms/step - loss: 0.1638 - accuracy: 0.9162 - val_loss: 0.2117 - val_accuracy: 0.9181\n",
      "Epoch 15/20\n",
      "54/54 [==============================] - 1s 15ms/step - loss: 0.1630 - accuracy: 0.9165 - val_loss: 0.1990 - val_accuracy: 0.9188\n",
      "Epoch 16/20\n",
      "54/54 [==============================] - 1s 15ms/step - loss: 0.1622 - accuracy: 0.9168 - val_loss: 0.1992 - val_accuracy: 0.9190\n",
      "Epoch 17/20\n",
      "54/54 [==============================] - 1s 16ms/step - loss: 0.1616 - accuracy: 0.9171 - val_loss: 0.2041 - val_accuracy: 0.9189\n",
      "Epoch 18/20\n",
      "54/54 [==============================] - 1s 17ms/step - loss: 0.1609 - accuracy: 0.9173 - val_loss: 0.1990 - val_accuracy: 0.9192\n",
      "Epoch 19/20\n",
      "54/54 [==============================] - 1s 16ms/step - loss: 0.1603 - accuracy: 0.9175 - val_loss: 0.2063 - val_accuracy: 0.9192\n",
      "Epoch 20/20\n",
      "54/54 [==============================] - 1s 19ms/step - loss: 0.1598 - accuracy: 0.9177 - val_loss: 0.1887 - val_accuracy: 0.9196\n"
     ]
    }
   ],
   "source": [
    "# Setup some training parameters\n",
    "batch_size = 10000\n",
    "epochs = 20\n",
    "input_shape = (Xtrain.shape[1],)\n",
    "\n",
    "# Build and train model\n",
    "model5 = build_DNN(input_shape, n_layers=4, n_nodes=50, learning_rate=0.1)\n",
    "\n",
    "history5 = model5.fit(Xtrain, Ytrain, batch_size=batch_size, epochs=epochs, verbose=1, validation_data=(Xval, Yval), class_weight=class_weights)"
   ]
  },
  {
   "cell_type": "code",
   "execution_count": 24,
   "metadata": {},
   "outputs": [
    {
     "name": "stdout",
     "output_type": "stream",
     "text": [
      "Test loss: 0.1916\n",
      "Test accuracy: 0.9183\n"
     ]
    }
   ],
   "source": [
    "# Evaluate model on test data\n",
    "score = model5.evaluate(Xtest, Ytest, verbose=0)\n",
    "\n",
    "print('Test loss: %.4f' % score[0])\n",
    "print('Test accuracy: %.4f' % score[1])"
   ]
  },
  {
   "cell_type": "code",
   "execution_count": 25,
   "metadata": {},
   "outputs": [
    {
     "data": {
      "image/png": "[encoded data removed]",
      "text/plain": [
       "<Figure size 720x288 with 1 Axes>"
      ]
     },
     "metadata": {
      "needs_background": "light"
     },
     "output_type": "display_data"
    },
    {
     "data": {
      "image/png": "[encoded data removed]",
      "text/plain": [
       "<Figure size 720x288 with 1 Axes>"
      ]
     },
     "metadata": {
      "needs_background": "light"
     },
     "output_type": "display_data"
    }
   ],
   "source": [
    "plot_results(history5)"
   ]
  },
  {
   "cell_type": "markdown",
   "metadata": {},
   "source": [
    "# Part 15: Batch normalization\n",
    "\n",
    "Now add batch normalization after each dense layer in `build_DNN`. Remember to import BatchNormalization from keras.layers. \n",
    "\n",
    "See https://keras.io/layers/normalization/ for information about how to call the function.\n",
    "\n",
    "Question 14: Why is batch normalization important when training deep networks?\n",
    "\n",
    "<span style=\"color:blue\">1) Internal Covariate Shift: It helps to mitigate the problem of internal covariate shift, where the distribution of each layer’s inputs changes during training, as the parameters of the previous layers change.</span>\n",
    "\n",
    "<span style=\"color:blue\">2) Faster Convergence: The network tends to converge faster as batch normalization helps in bringing the inputs to a layer within a similar range.</span>\n",
    "\n",
    "<span style=\"color:blue\">3) Regularization: It adds a small amount of noise to network. In some cases, such as Inception modules, batch normalization has been found to work as a regularizer, reducing the need for other regularization techniques like dropout.</span>\n",
    "\n",
    "<span style=\"color:blue\">4) Allows Higher Learning Rates: Gradient descent usually requires small learning rates for the network to converge. As batch normalization regulates the values going into each activation function, higher learning rates can be used without the risk of divergence.</span>"
   ]
  },
  {
   "cell_type": "markdown",
   "metadata": {},
   "source": [
    "### 2 layers, 20 nodes, class weights, batch normalization"
   ]
  },
  {
   "cell_type": "code",
   "execution_count": 26,
   "metadata": {
    "scrolled": true
   },
   "outputs": [
    {
     "name": "stdout",
     "output_type": "stream",
     "text": [
      "Epoch 1/20\n",
      "54/54 [==============================] - 2s 17ms/step - loss: 0.2295 - accuracy: 0.8941 - val_loss: 0.2230 - val_accuracy: 0.9109\n",
      "Epoch 2/20\n",
      "54/54 [==============================] - 1s 10ms/step - loss: 0.1742 - accuracy: 0.9114 - val_loss: 0.2012 - val_accuracy: 0.9159\n",
      "Epoch 3/20\n",
      "54/54 [==============================] - 1s 9ms/step - loss: 0.1680 - accuracy: 0.9144 - val_loss: 0.1992 - val_accuracy: 0.9178\n",
      "Epoch 4/20\n",
      "54/54 [==============================] - 0s 9ms/step - loss: 0.1648 - accuracy: 0.9164 - val_loss: 0.1936 - val_accuracy: 0.9188\n",
      "Epoch 5/20\n",
      "54/54 [==============================] - 0s 9ms/step - loss: 0.1626 - accuracy: 0.9172 - val_loss: 0.1882 - val_accuracy: 0.9193\n",
      "Epoch 6/20\n",
      "54/54 [==============================] - 0s 9ms/step - loss: 0.1609 - accuracy: 0.9175 - val_loss: 0.2214 - val_accuracy: 0.9193\n",
      "Epoch 7/20\n",
      "54/54 [==============================] - 0s 8ms/step - loss: 0.1596 - accuracy: 0.9178 - val_loss: 0.1924 - val_accuracy: 0.9196\n",
      "Epoch 8/20\n",
      "54/54 [==============================] - 0s 9ms/step - loss: 0.1586 - accuracy: 0.9178 - val_loss: 0.1803 - val_accuracy: 0.9197\n",
      "Epoch 9/20\n",
      "54/54 [==============================] - 0s 9ms/step - loss: 0.1571 - accuracy: 0.9181 - val_loss: 0.1706 - val_accuracy: 0.9201\n",
      "Epoch 10/20\n",
      "54/54 [==============================] - 0s 9ms/step - loss: 0.1555 - accuracy: 0.9182 - val_loss: 0.1789 - val_accuracy: 0.9198\n",
      "Epoch 11/20\n",
      "54/54 [==============================] - 0s 9ms/step - loss: 0.1541 - accuracy: 0.9182 - val_loss: 0.1912 - val_accuracy: 0.9199\n",
      "Epoch 12/20\n",
      "54/54 [==============================] - 0s 8ms/step - loss: 0.1524 - accuracy: 0.9186 - val_loss: 0.1801 - val_accuracy: 0.9204\n",
      "Epoch 13/20\n",
      "54/54 [==============================] - 0s 9ms/step - loss: 0.1514 - accuracy: 0.9192 - val_loss: 0.2157 - val_accuracy: 0.9200\n",
      "Epoch 14/20\n",
      "54/54 [==============================] - 0s 9ms/step - loss: 0.1493 - accuracy: 0.9197 - val_loss: 0.2100 - val_accuracy: 0.9200\n",
      "Epoch 15/20\n",
      "54/54 [==============================] - 0s 8ms/step - loss: 0.1480 - accuracy: 0.9206 - val_loss: 0.1962 - val_accuracy: 0.9215\n",
      "Epoch 16/20\n",
      "54/54 [==============================] - 0s 9ms/step - loss: 0.1472 - accuracy: 0.9216 - val_loss: 0.2045 - val_accuracy: 0.9206\n",
      "Epoch 17/20\n",
      "54/54 [==============================] - 0s 9ms/step - loss: 0.1458 - accuracy: 0.9225 - val_loss: 0.1843 - val_accuracy: 0.9219\n",
      "Epoch 18/20\n",
      "54/54 [==============================] - 0s 9ms/step - loss: 0.1448 - accuracy: 0.9232 - val_loss: 0.2274 - val_accuracy: 0.9224\n",
      "Epoch 19/20\n",
      "54/54 [==============================] - 0s 9ms/step - loss: 0.1443 - accuracy: 0.9238 - val_loss: 0.1463 - val_accuracy: 0.9303\n",
      "Epoch 20/20\n",
      "54/54 [==============================] - 0s 8ms/step - loss: 0.1437 - accuracy: 0.9252 - val_loss: 0.2140 - val_accuracy: 0.9215\n"
     ]
    }
   ],
   "source": [
    "# Setup some training parameters\n",
    "batch_size = 10000\n",
    "epochs = 20\n",
    "input_shape = (Xtrain.shape[1],)\n",
    "\n",
    "# Build and train model\n",
    "model6 = build_DNN(input_shape, n_layers=2, n_nodes=20, learning_rate=0.1, use_bn=True)\n",
    "\n",
    "history6 = model6.fit(Xtrain, Ytrain, batch_size=batch_size, epochs=epochs, verbose=1, validation_data=(Xval, Yval), class_weight=class_weights)\n"
   ]
  },
  {
   "cell_type": "code",
   "execution_count": 27,
   "metadata": {},
   "outputs": [
    {
     "name": "stdout",
     "output_type": "stream",
     "text": [
      "Test loss: 0.2168\n",
      "Test accuracy: 0.9202\n"
     ]
    }
   ],
   "source": [
    "# Evaluate model on test data\n",
    "score = model6.evaluate(Xtest, Ytest, verbose=0)\n",
    "\n",
    "print('Test loss: %.4f' % score[0])\n",
    "print('Test accuracy: %.4f' % score[1])"
   ]
  },
  {
   "cell_type": "code",
   "execution_count": 28,
   "metadata": {},
   "outputs": [
    {
     "data": {
      "image/png": "[encoded data removed]",
      "text/plain": [
       "<Figure size 720x288 with 1 Axes>"
      ]
     },
     "metadata": {
      "needs_background": "light"
     },
     "output_type": "display_data"
    },
    {
     "data": {
      "image/png": "[encoded data removed]",
      "text/plain": [
       "<Figure size 720x288 with 1 Axes>"
      ]
     },
     "metadata": {
      "needs_background": "light"
     },
     "output_type": "display_data"
    }
   ],
   "source": [
    "plot_results(history6)"
   ]
  },
  {
   "cell_type": "markdown",
   "metadata": {},
   "source": [
    "# Part 16: Activation function\n",
    "\n",
    "Try changing the activation function in each layer from sigmoid to ReLU, write down the test accuracy.\n",
    "\n",
    "Note: the last layer should still have a sigmoid activation function.\n",
    "\n",
    "https://keras.io/api/layers/activations/"
   ]
  },
  {
   "cell_type": "markdown",
   "metadata": {},
   "source": [
    "### 2 layers, 20 nodes, class weights, ReLU, no batch normalization"
   ]
  },
  {
   "cell_type": "code",
   "execution_count": 29,
   "metadata": {
    "scrolled": true
   },
   "outputs": [
    {
     "name": "stdout",
     "output_type": "stream",
     "text": [
      "Epoch 1/20\n",
      "54/54 [==============================] - 2s 13ms/step - loss: 0.2311 - accuracy: 0.8853 - val_loss: 0.2333 - val_accuracy: 0.9083\n",
      "Epoch 2/20\n",
      "54/54 [==============================] - 0s 8ms/step - loss: 0.1745 - accuracy: 0.9103 - val_loss: 0.2113 - val_accuracy: 0.9159\n",
      "Epoch 3/20\n",
      "54/54 [==============================] - 0s 7ms/step - loss: 0.1667 - accuracy: 0.9147 - val_loss: 0.2074 - val_accuracy: 0.9171\n",
      "Epoch 4/20\n",
      "54/54 [==============================] - 0s 7ms/step - loss: 0.1633 - accuracy: 0.9155 - val_loss: 0.2065 - val_accuracy: 0.9174\n",
      "Epoch 5/20\n",
      "54/54 [==============================] - 0s 7ms/step - loss: 0.1611 - accuracy: 0.9159 - val_loss: 0.1990 - val_accuracy: 0.9185\n",
      "Epoch 6/20\n",
      "54/54 [==============================] - 0s 7ms/step - loss: 0.1596 - accuracy: 0.9166 - val_loss: 0.1969 - val_accuracy: 0.9189\n",
      "Epoch 7/20\n",
      "54/54 [==============================] - 0s 6ms/step - loss: 0.1581 - accuracy: 0.9171 - val_loss: 0.1994 - val_accuracy: 0.9190\n",
      "Epoch 8/20\n",
      "54/54 [==============================] - 0s 6ms/step - loss: 0.1571 - accuracy: 0.9174 - val_loss: 0.1949 - val_accuracy: 0.9194\n",
      "Epoch 9/20\n",
      "54/54 [==============================] - 0s 6ms/step - loss: 0.1560 - accuracy: 0.9177 - val_loss: 0.1886 - val_accuracy: 0.9198\n",
      "Epoch 10/20\n",
      "54/54 [==============================] - 0s 6ms/step - loss: 0.1550 - accuracy: 0.9179 - val_loss: 0.1959 - val_accuracy: 0.9198\n",
      "Epoch 11/20\n",
      "54/54 [==============================] - 0s 7ms/step - loss: 0.1540 - accuracy: 0.9181 - val_loss: 0.2013 - val_accuracy: 0.9198\n",
      "Epoch 12/20\n",
      "54/54 [==============================] - 0s 6ms/step - loss: 0.1537 - accuracy: 0.9182 - val_loss: 0.1925 - val_accuracy: 0.9203\n",
      "Epoch 13/20\n",
      "54/54 [==============================] - 0s 6ms/step - loss: 0.1523 - accuracy: 0.9184 - val_loss: 0.1862 - val_accuracy: 0.9202\n",
      "Epoch 14/20\n",
      "54/54 [==============================] - 0s 6ms/step - loss: 0.1517 - accuracy: 0.9186 - val_loss: 0.1894 - val_accuracy: 0.9200\n",
      "Epoch 15/20\n",
      "54/54 [==============================] - 0s 6ms/step - loss: 0.1505 - accuracy: 0.9188 - val_loss: 0.1677 - val_accuracy: 0.9213\n",
      "Epoch 16/20\n",
      "54/54 [==============================] - 0s 6ms/step - loss: 0.1499 - accuracy: 0.9191 - val_loss: 0.1669 - val_accuracy: 0.9217\n",
      "Epoch 17/20\n",
      "54/54 [==============================] - 0s 6ms/step - loss: 0.1497 - accuracy: 0.9195 - val_loss: 0.1754 - val_accuracy: 0.9222\n",
      "Epoch 18/20\n",
      "54/54 [==============================] - 0s 6ms/step - loss: 0.1474 - accuracy: 0.9201 - val_loss: 0.1998 - val_accuracy: 0.9206\n",
      "Epoch 19/20\n",
      "54/54 [==============================] - 0s 6ms/step - loss: 0.1466 - accuracy: 0.9208 - val_loss: 0.1936 - val_accuracy: 0.9206\n",
      "Epoch 20/20\n",
      "54/54 [==============================] - 0s 6ms/step - loss: 0.1461 - accuracy: 0.9219 - val_loss: 0.1616 - val_accuracy: 0.9290\n"
     ]
    }
   ],
   "source": [
    "# Setup some training parameters\n",
    "batch_size = 10000\n",
    "epochs = 20\n",
    "input_shape = (Xtrain.shape[1],)\n",
    "\n",
    "# Build and train model\n",
    "model7 = build_DNN(input_shape, n_layers=2, n_nodes=20, learning_rate=0.1, act_fun='relu')\n",
    "\n",
    "history7 = model7.fit(Xtrain, Ytrain, batch_size=batch_size, epochs=epochs, verbose=1, validation_data=(Xval, Yval), class_weight=class_weights)\n"
   ]
  },
  {
   "cell_type": "code",
   "execution_count": 30,
   "metadata": {},
   "outputs": [
    {
     "name": "stdout",
     "output_type": "stream",
     "text": [
      "Test loss: 0.1649\n",
      "Test accuracy: 0.9271\n"
     ]
    }
   ],
   "source": [
    "# Evaluate model on test data\n",
    "score = model7.evaluate(Xtest, Ytest, verbose=0)\n",
    "\n",
    "print('Test loss: %.4f' % score[0])\n",
    "print('Test accuracy: %.4f' % score[1])"
   ]
  },
  {
   "cell_type": "code",
   "execution_count": 31,
   "metadata": {},
   "outputs": [
    {
     "data": {
      "image/png": "[encoded data removed]",
      "text/plain": [
       "<Figure size 720x288 with 1 Axes>"
      ]
     },
     "metadata": {
      "needs_background": "light"
     },
     "output_type": "display_data"
    },
    {
     "data": {
      "image/png": "[encoded data removed]",
      "text/plain": [
       "<Figure size 720x288 with 1 Axes>"
      ]
     },
     "metadata": {
      "needs_background": "light"
     },
     "output_type": "display_data"
    }
   ],
   "source": [
    "plot_results(history7)"
   ]
  },
  {
   "cell_type": "markdown",
   "metadata": {},
   "source": [
    "# Part 17: Optimizer\n",
    "\n",
    "Try changing the optimizer from SGD to Adam (with learning rate 0.1 as before). Remember to import the Adam optimizer from keras.optimizers. \n",
    "\n",
    "https://keras.io/optimizers/\n"
   ]
  },
  {
   "cell_type": "markdown",
   "metadata": {},
   "source": [
    "### 2 layers, 20 nodes, class weights, Adam optimizer, no batch normalization, sigmoid activations"
   ]
  },
  {
   "cell_type": "code",
   "execution_count": 33,
   "metadata": {
    "scrolled": true
   },
   "outputs": [
    {
     "name": "stdout",
     "output_type": "stream",
     "text": [
      "Epoch 1/20\n",
      "54/54 [==============================] - 2s 14ms/step - loss: 0.2051 - accuracy: 0.8881 - val_loss: 0.2130 - val_accuracy: 0.9161\n",
      "Epoch 2/20\n",
      "54/54 [==============================] - 0s 8ms/step - loss: 0.1691 - accuracy: 0.9155 - val_loss: 0.2101 - val_accuracy: 0.9185\n",
      "Epoch 3/20\n",
      "54/54 [==============================] - 0s 8ms/step - loss: 0.1639 - accuracy: 0.9166 - val_loss: 0.2157 - val_accuracy: 0.9189\n",
      "Epoch 4/20\n",
      "54/54 [==============================] - 0s 6ms/step - loss: 0.1615 - accuracy: 0.9172 - val_loss: 0.2046 - val_accuracy: 0.9196\n",
      "Epoch 5/20\n",
      "54/54 [==============================] - 0s 7ms/step - loss: 0.1581 - accuracy: 0.9185 - val_loss: 0.1858 - val_accuracy: 0.9220\n",
      "Epoch 6/20\n",
      "54/54 [==============================] - 0s 7ms/step - loss: 0.1546 - accuracy: 0.9199 - val_loss: 0.1906 - val_accuracy: 0.9218\n",
      "Epoch 7/20\n",
      "54/54 [==============================] - 0s 7ms/step - loss: 0.1526 - accuracy: 0.9200 - val_loss: 0.1893 - val_accuracy: 0.9212\n",
      "Epoch 8/20\n",
      "54/54 [==============================] - 0s 6ms/step - loss: 0.1498 - accuracy: 0.9203 - val_loss: 0.1693 - val_accuracy: 0.9228\n",
      "Epoch 9/20\n",
      "54/54 [==============================] - 0s 7ms/step - loss: 0.1464 - accuracy: 0.9216 - val_loss: 0.1893 - val_accuracy: 0.9225\n",
      "Epoch 10/20\n",
      "54/54 [==============================] - 0s 6ms/step - loss: 0.1463 - accuracy: 0.9246 - val_loss: 0.1909 - val_accuracy: 0.9225\n",
      "Epoch 11/20\n",
      "54/54 [==============================] - 0s 6ms/step - loss: 0.1427 - accuracy: 0.9269 - val_loss: 0.2014 - val_accuracy: 0.9257\n",
      "Epoch 12/20\n",
      "54/54 [==============================] - 0s 7ms/step - loss: 0.1423 - accuracy: 0.9282 - val_loss: 0.2640 - val_accuracy: 0.9199\n",
      "Epoch 13/20\n",
      "54/54 [==============================] - 0s 7ms/step - loss: 0.1475 - accuracy: 0.9249 - val_loss: 0.1745 - val_accuracy: 0.9314\n",
      "Epoch 14/20\n",
      "54/54 [==============================] - 0s 7ms/step - loss: 0.1378 - accuracy: 0.9299 - val_loss: 0.1699 - val_accuracy: 0.9301\n",
      "Epoch 15/20\n",
      "54/54 [==============================] - 0s 7ms/step - loss: 0.1366 - accuracy: 0.9303 - val_loss: 0.1721 - val_accuracy: 0.9321\n",
      "Epoch 16/20\n",
      "54/54 [==============================] - 0s 7ms/step - loss: 0.1421 - accuracy: 0.9286 - val_loss: 0.1722 - val_accuracy: 0.9326\n",
      "Epoch 17/20\n",
      "54/54 [==============================] - 0s 7ms/step - loss: 0.1345 - accuracy: 0.9315 - val_loss: 0.1799 - val_accuracy: 0.9310\n",
      "Epoch 18/20\n",
      "54/54 [==============================] - 0s 8ms/step - loss: 0.1331 - accuracy: 0.9320 - val_loss: 0.1677 - val_accuracy: 0.9341\n",
      "Epoch 19/20\n",
      "54/54 [==============================] - 0s 7ms/step - loss: 0.1342 - accuracy: 0.9316 - val_loss: 0.1920 - val_accuracy: 0.9283\n",
      "Epoch 20/20\n",
      "54/54 [==============================] - 0s 6ms/step - loss: 0.1451 - accuracy: 0.9265 - val_loss: 0.1561 - val_accuracy: 0.9345\n"
     ]
    }
   ],
   "source": [
    "# Setup some training parameters\n",
    "batch_size = 10000\n",
    "epochs = 20\n",
    "input_shape = (Xtrain.shape[1],)\n",
    "\n",
    "# Build and train model\n",
    "model8 = build_DNN(input_shape, n_layers=2, n_nodes=20, learning_rate=0.1, optimizer='adam')\n",
    "\n",
    "history8 = model8.fit(Xtrain, Ytrain, batch_size=batch_size, epochs=epochs, verbose=1, validation_data=(Xval, Yval), class_weight=class_weights)\n"
   ]
  },
  {
   "cell_type": "code",
   "execution_count": 34,
   "metadata": {},
   "outputs": [
    {
     "name": "stdout",
     "output_type": "stream",
     "text": [
      "Test loss: 0.1584\n",
      "Test accuracy: 0.9330\n"
     ]
    }
   ],
   "source": [
    "# Evaluate model on test data\n",
    "score = model8.evaluate(Xtest, Ytest, verbose=0)\n",
    "\n",
    "print('Test loss: %.4f' % score[0])\n",
    "print('Test accuracy: %.4f' % score[1])"
   ]
  },
  {
   "cell_type": "code",
   "execution_count": 35,
   "metadata": {},
   "outputs": [
    {
     "data": {
      "image/png": "[encoded data removed]",
      "text/plain": [
       "<Figure size 720x288 with 1 Axes>"
      ]
     },
     "metadata": {
      "needs_background": "light"
     },
     "output_type": "display_data"
    },
    {
     "data": {
      "image/png": "[encoded data removed]",
      "text/plain": [
       "<Figure size 720x288 with 1 Axes>"
      ]
     },
     "metadata": {
      "needs_background": "light"
     },
     "output_type": "display_data"
    }
   ],
   "source": [
    "plot_results(history8)"
   ]
  },
  {
   "cell_type": "markdown",
   "metadata": {},
   "source": [
    "# Part 18: Dropout regularization\n",
    "\n",
    "Dropout is a type of regularization that can improve accuracy for validation and test data. It randomly removes connections to force the neural network to not rely too much on a small number of weights.\n",
    "\n",
    "Add a Dropout layer after each Dense layer (but not after the final dense layer) in `build_DNN`, with a dropout probability of 50%. Remember to first import the Dropout layer from keras.layers\n",
    "\n",
    "See https://keras.io/api/layers/regularization_layers/dropout/ for how the Dropout layer works.\n",
    "\n",
    "---\n",
    "\n",
    "Question 15: How does the validation accuracy change when adding dropout?\n",
    "\n",
    "<span style=\"color:blue\"> The validation accuracy after adding dropout is lower (0.9173) compared to the model without dropout(0.9345).</span>\n",
    "\n",
    "Question 16: How does the test accuracy change when adding dropout?\n",
    "\n",
    "<span style=\"color:blue\"> The test accuracy after adding dropout is also lower (0.9155) compared to the model without dropout (0.9330). This indicates that while dropout regularization generally can improve the accuracy for validation and test data, in this case it may also reduce the model's ability to generalize to unseen test data, resulting in a decrease in test accuracy.</span>"
   ]
  },
  {
   "cell_type": "markdown",
   "metadata": {},
   "source": [
    "### 2 layers, 20 nodes, class weights, dropout, SGD optimizer, no batch normalization, sigmoid activations"
   ]
  },
  {
   "cell_type": "code",
   "execution_count": 38,
   "metadata": {
    "scrolled": true
   },
   "outputs": [
    {
     "name": "stdout",
     "output_type": "stream",
     "text": [
      "Epoch 1/20\n",
      "54/54 [==============================] - 2s 18ms/step - loss: 0.4769 - accuracy: 0.7426 - val_loss: 0.2533 - val_accuracy: 0.8818\n",
      "Epoch 2/20\n",
      "54/54 [==============================] - 0s 9ms/step - loss: 0.2541 - accuracy: 0.8715 - val_loss: 0.2463 - val_accuracy: 0.8820\n",
      "Epoch 3/20\n",
      "54/54 [==============================] - 0s 9ms/step - loss: 0.2303 - accuracy: 0.8798 - val_loss: 0.2383 - val_accuracy: 0.8934\n",
      "Epoch 4/20\n",
      "54/54 [==============================] - 0s 9ms/step - loss: 0.2152 - accuracy: 0.8886 - val_loss: 0.2304 - val_accuracy: 0.8991\n",
      "Epoch 5/20\n",
      "54/54 [==============================] - 0s 9ms/step - loss: 0.2060 - accuracy: 0.8936 - val_loss: 0.2261 - val_accuracy: 0.9010\n",
      "Epoch 6/20\n",
      "54/54 [==============================] - 0s 9ms/step - loss: 0.1996 - accuracy: 0.8967 - val_loss: 0.2223 - val_accuracy: 0.9040\n",
      "Epoch 7/20\n",
      "54/54 [==============================] - 1s 10ms/step - loss: 0.1947 - accuracy: 0.8995 - val_loss: 0.2204 - val_accuracy: 0.9056\n",
      "Epoch 8/20\n",
      "54/54 [==============================] - 0s 8ms/step - loss: 0.1911 - accuracy: 0.9021 - val_loss: 0.2187 - val_accuracy: 0.9076\n",
      "Epoch 9/20\n",
      "54/54 [==============================] - 0s 9ms/step - loss: 0.1882 - accuracy: 0.9045 - val_loss: 0.2159 - val_accuracy: 0.9100\n",
      "Epoch 10/20\n",
      "54/54 [==============================] - 0s 9ms/step - loss: 0.1861 - accuracy: 0.9062 - val_loss: 0.2137 - val_accuracy: 0.9118\n",
      "Epoch 11/20\n",
      "54/54 [==============================] - 0s 9ms/step - loss: 0.1841 - accuracy: 0.9075 - val_loss: 0.2132 - val_accuracy: 0.9134\n",
      "Epoch 12/20\n",
      "54/54 [==============================] - 0s 9ms/step - loss: 0.1822 - accuracy: 0.9088 - val_loss: 0.2110 - val_accuracy: 0.9155\n",
      "Epoch 13/20\n",
      "54/54 [==============================] - 0s 9ms/step - loss: 0.1811 - accuracy: 0.9095 - val_loss: 0.2116 - val_accuracy: 0.9160\n",
      "Epoch 14/20\n",
      "54/54 [==============================] - 0s 9ms/step - loss: 0.1797 - accuracy: 0.9103 - val_loss: 0.2099 - val_accuracy: 0.9164\n",
      "Epoch 15/20\n",
      "54/54 [==============================] - 0s 9ms/step - loss: 0.1786 - accuracy: 0.9109 - val_loss: 0.2105 - val_accuracy: 0.9167\n",
      "Epoch 16/20\n",
      "54/54 [==============================] - 1s 9ms/step - loss: 0.1780 - accuracy: 0.9110 - val_loss: 0.2107 - val_accuracy: 0.9168\n",
      "Epoch 17/20\n",
      "54/54 [==============================] - 0s 9ms/step - loss: 0.1773 - accuracy: 0.9113 - val_loss: 0.2099 - val_accuracy: 0.9170\n",
      "Epoch 18/20\n",
      "54/54 [==============================] - 0s 8ms/step - loss: 0.1765 - accuracy: 0.9118 - val_loss: 0.2097 - val_accuracy: 0.9170\n",
      "Epoch 19/20\n",
      "54/54 [==============================] - 0s 9ms/step - loss: 0.1762 - accuracy: 0.9120 - val_loss: 0.2100 - val_accuracy: 0.9172\n",
      "Epoch 20/20\n",
      "54/54 [==============================] - 0s 9ms/step - loss: 0.1756 - accuracy: 0.9121 - val_loss: 0.2110 - val_accuracy: 0.9173\n"
     ]
    }
   ],
   "source": [
    "# Setup some training parameters\n",
    "batch_size = 10000\n",
    "epochs = 20\n",
    "input_shape = (Xtrain.shape[1],)\n",
    "\n",
    "# Build and train model\n",
    "model9 = build_DNN(input_shape, n_layers=2, n_nodes=20, learning_rate=0.1, use_dropout=True)\n",
    "\n",
    "history9 = model9.fit(Xtrain, Ytrain, batch_size=batch_size, epochs=epochs, verbose=1, validation_data=(Xval, Yval), class_weight=class_weights)\n"
   ]
  },
  {
   "cell_type": "code",
   "execution_count": 39,
   "metadata": {},
   "outputs": [
    {
     "name": "stdout",
     "output_type": "stream",
     "text": [
      "Test loss: 0.2144\n",
      "Test accuracy: 0.9155\n"
     ]
    }
   ],
   "source": [
    "# Evaluate model on test data\n",
    "score = model9.evaluate(Xtest, Ytest, verbose=0)\n",
    "\n",
    "print('Test loss: %.4f' % score[0])\n",
    "print('Test accuracy: %.4f' % score[1])"
   ]
  },
  {
   "cell_type": "code",
   "execution_count": 40,
   "metadata": {},
   "outputs": [
    {
     "data": {
      "image/png": "[encoded data removed]",
      "text/plain": [
       "<Figure size 720x288 with 1 Axes>"
      ]
     },
     "metadata": {
      "needs_background": "light"
     },
     "output_type": "display_data"
    },
    {
     "data": {
      "image/png": "[encoded data removed]",
      "text/plain": [
       "<Figure size 720x288 with 1 Axes>"
      ]
     },
     "metadata": {
      "needs_background": "light"
     },
     "output_type": "display_data"
    }
   ],
   "source": [
    "plot_results(history9)"
   ]
  },
  {
   "cell_type": "markdown",
   "metadata": {},
   "source": [
    "# Part 19: Improving performance\n",
    "\n",
    "Spend some time (30 - 90 minutes) playing with the network architecture (number of layers, number of nodes per layer, activation function) and other hyper parameters (optimizer, learning rate, batch size, number of epochs, degree of regularization). For example, try a much deeper network. How much does the training time increase for a network with 10 layers?\n",
    "\n",
    "Question 17: How high classification accuracy can you achieve for the test data? What is your best configuration?\n",
    "\n",
    "<span style=\"color:blue\"> The highest classification accuracy for the test data are 0.9488, the best configuration are shown as below</span>"
   ]
  },
  {
   "cell_type": "code",
   "execution_count": 42,
   "metadata": {},
   "outputs": [
    {
     "name": "stdout",
     "output_type": "stream",
     "text": [
      "3.6.1\n"
     ]
    }
   ],
   "source": [
    "import optuna\n",
    "print(optuna.__version__)"
   ]
  },
  {
   "cell_type": "code",
   "execution_count": 46,
   "metadata": {},
   "outputs": [],
   "source": [
    "def optuna_objective(trial):\n",
    "    \n",
    "    n_layers = trial.suggest_int(\"n_layers\",2,10,step=1) \n",
    "    n_nodes = trial.suggest_int(\"n_nodes\",10,50,step= 5)\n",
    "    act_fun = trial.suggest_categorical(\"act_fun\",['relu','sigmoid'])\n",
    "    optimizer = trial.suggest_categorical(\"optimizer\",['sgd','adam'])\n",
    "    learning_rate = trial.suggest_float(\"learning_rate\",0.0001,1,log=True) \n",
    "    use_bn = trial.suggest_categorical(\"use_bn\", [True, False])\n",
    "    use_dropout = trial.suggest_categorical(\"use_dropout\", [True, False])\n",
    "    epochs = trial.suggest_int(\"epochs\",16,30,step=2)\n",
    "    batch_size = trial.suggest_categorical(\"batch_size\", [1024, 4096, 16384, 65536])\n",
    "    dropout_rate = trial.suggest_float(\"dropout_rate\",0.2,0.8,log=False)\n",
    "    \n",
    "    model10 = build_DNN(input_shape=input_shape, n_layers=n_layers, n_nodes=n_nodes, act_fun=act_fun, optimizer=optimizer, learning_rate=learning_rate, \n",
    "              use_bn=use_bn, use_dropout=use_dropout, use_custom_dropout=False, dropout_rate=dropout_rate)\n",
    "    model10.fit(Xtrain, Ytrain, class_weight=class_weights, epochs=epochs, batch_size=batch_size, verbose=0, validation_data=(Xval,Yval))\n",
    "    score = model10.evaluate(Xtest, Ytest)\n",
    "    \n",
    "    return score[1]"
   ]
  },
  {
   "cell_type": "code",
   "execution_count": 47,
   "metadata": {},
   "outputs": [
    {
     "name": "stderr",
     "output_type": "stream",
     "text": [
      "[I 2024-04-21 20:51:20,984] A new study created in memory with name: no-name-a4f15c53-8aa0-45e2-a84a-b5625a251c05\n"
     ]
    },
    {
     "name": "stdout",
     "output_type": "stream",
     "text": [
      "3582/3582 [==============================] - 4s 1ms/step - loss: 0.1894 - accuracy: 0.9170\n"
     ]
    },
    {
     "name": "stderr",
     "output_type": "stream",
     "text": [
      "[I 2024-04-21 20:51:54,122] Trial 0 finished with value: 0.9170047640800476 and parameters: {'n_layers': 3, 'n_nodes': 35, 'act_fun': 'relu', 'optimizer': 'adam', 'learning_rate': 0.5811665747680571, 'use_bn': True, 'use_dropout': False, 'epochs': 28, 'batch_size': 4096, 'dropout_rate': 0.41442629380284957}. Best is trial 0 with value: 0.9170047640800476.\n"
     ]
    },
    {
     "name": "stdout",
     "output_type": "stream",
     "text": [
      "3582/3582 [==============================] - 5s 1ms/step - loss: 0.1863 - accuracy: 0.9295\n"
     ]
    },
    {
     "name": "stderr",
     "output_type": "stream",
     "text": [
      "[I 2024-04-21 20:53:05,795] Trial 1 finished with value: 0.9294544458389282 and parameters: {'n_layers': 6, 'n_nodes': 45, 'act_fun': 'sigmoid', 'optimizer': 'adam', 'learning_rate': 0.00022215174068064447, 'use_bn': True, 'use_dropout': False, 'epochs': 30, 'batch_size': 16384, 'dropout_rate': 0.5408958053353714}. Best is trial 1 with value: 0.9294544458389282.\n"
     ]
    },
    {
     "name": "stdout",
     "output_type": "stream",
     "text": [
      "3582/3582 [==============================] - 4s 1ms/step - loss: 0.2593 - accuracy: 0.9255\n"
     ]
    },
    {
     "name": "stderr",
     "output_type": "stream",
     "text": [
      "[I 2024-04-21 20:53:28,063] Trial 2 finished with value: 0.9254586696624756 and parameters: {'n_layers': 2, 'n_nodes': 30, 'act_fun': 'relu', 'optimizer': 'adam', 'learning_rate': 0.13013855137798802, 'use_bn': True, 'use_dropout': True, 'epochs': 20, 'batch_size': 4096, 'dropout_rate': 0.27575934654222617}. Best is trial 1 with value: 0.9294544458389282.\n"
     ]
    },
    {
     "name": "stdout",
     "output_type": "stream",
     "text": [
      "3582/3582 [==============================] - 4s 1ms/step - loss: 0.1523 - accuracy: 0.9352\n"
     ]
    },
    {
     "name": "stderr",
     "output_type": "stream",
     "text": [
      "[I 2024-04-21 20:53:47,779] Trial 3 finished with value: 0.9352387189865112 and parameters: {'n_layers': 2, 'n_nodes': 50, 'act_fun': 'relu', 'optimizer': 'adam', 'learning_rate': 0.010593830603703482, 'use_bn': True, 'use_dropout': False, 'epochs': 16, 'batch_size': 4096, 'dropout_rate': 0.7866199354987566}. Best is trial 3 with value: 0.9352387189865112.\n"
     ]
    },
    {
     "name": "stdout",
     "output_type": "stream",
     "text": [
      "3582/3582 [==============================] - 5s 1ms/step - loss: 0.6147 - accuracy: 0.8369\n"
     ]
    },
    {
     "name": "stderr",
     "output_type": "stream",
     "text": [
      "[I 2024-04-21 20:55:07,588] Trial 4 finished with value: 0.8369321227073669 and parameters: {'n_layers': 8, 'n_nodes': 35, 'act_fun': 'relu', 'optimizer': 'sgd', 'learning_rate': 0.00024350374652557904, 'use_bn': True, 'use_dropout': True, 'epochs': 24, 'batch_size': 65536, 'dropout_rate': 0.5041938560365823}. Best is trial 3 with value: 0.9352387189865112.\n"
     ]
    },
    {
     "name": "stdout",
     "output_type": "stream",
     "text": [
      "3582/3582 [==============================] - 4s 1ms/step - loss: 0.2023 - accuracy: 0.9163\n"
     ]
    },
    {
     "name": "stderr",
     "output_type": "stream",
     "text": [
      "[I 2024-04-21 20:55:27,670] Trial 5 finished with value: 0.9162893295288086 and parameters: {'n_layers': 2, 'n_nodes': 45, 'act_fun': 'relu', 'optimizer': 'adam', 'learning_rate': 0.0015590345646854802, 'use_bn': False, 'use_dropout': True, 'epochs': 26, 'batch_size': 65536, 'dropout_rate': 0.2379753565800125}. Best is trial 3 with value: 0.9352387189865112.\n"
     ]
    },
    {
     "name": "stdout",
     "output_type": "stream",
     "text": [
      "3582/3582 [==============================] - 5s 1ms/step - loss: 0.5707 - accuracy: 0.8834\n"
     ]
    },
    {
     "name": "stderr",
     "output_type": "stream",
     "text": [
      "[I 2024-04-21 20:55:55,314] Trial 6 finished with value: 0.8834419250488281 and parameters: {'n_layers': 7, 'n_nodes': 10, 'act_fun': 'relu', 'optimizer': 'sgd', 'learning_rate': 0.00013921703227140622, 'use_bn': True, 'use_dropout': True, 'epochs': 18, 'batch_size': 16384, 'dropout_rate': 0.2927223432505635}. Best is trial 3 with value: 0.9352387189865112.\n"
     ]
    },
    {
     "name": "stdout",
     "output_type": "stream",
     "text": [
      "3582/3582 [==============================] - 4s 1ms/step - loss: 0.6539 - accuracy: 0.8873\n"
     ]
    },
    {
     "name": "stderr",
     "output_type": "stream",
     "text": [
      "[I 2024-04-21 20:56:13,238] Trial 7 finished with value: 0.887324333190918 and parameters: {'n_layers': 2, 'n_nodes': 35, 'act_fun': 'sigmoid', 'optimizer': 'sgd', 'learning_rate': 0.0013735197460902253, 'use_bn': False, 'use_dropout': True, 'epochs': 26, 'batch_size': 65536, 'dropout_rate': 0.6122970352637015}. Best is trial 3 with value: 0.9352387189865112.\n"
     ]
    },
    {
     "name": "stdout",
     "output_type": "stream",
     "text": [
      "3582/3582 [==============================] - 4s 1ms/step - loss: 0.6958 - accuracy: 0.1578\n"
     ]
    },
    {
     "name": "stderr",
     "output_type": "stream",
     "text": [
      "[I 2024-04-21 20:56:30,878] Trial 8 finished with value: 0.15775468945503235 and parameters: {'n_layers': 8, 'n_nodes': 25, 'act_fun': 'sigmoid', 'optimizer': 'adam', 'learning_rate': 0.14149823266318257, 'use_bn': False, 'use_dropout': False, 'epochs': 16, 'batch_size': 65536, 'dropout_rate': 0.25289966214687076}. Best is trial 3 with value: 0.9352387189865112.\n"
     ]
    },
    {
     "name": "stdout",
     "output_type": "stream",
     "text": [
      "3582/3582 [==============================] - 4s 1ms/step - loss: 0.2120 - accuracy: 0.9313\n"
     ]
    },
    {
     "name": "stderr",
     "output_type": "stream",
     "text": [
      "[I 2024-04-21 20:57:19,014] Trial 9 finished with value: 0.9313040375709534 and parameters: {'n_layers': 2, 'n_nodes': 35, 'act_fun': 'sigmoid', 'optimizer': 'adam', 'learning_rate': 0.03038209749700833, 'use_bn': True, 'use_dropout': False, 'epochs': 30, 'batch_size': 1024, 'dropout_rate': 0.7233879760601485}. Best is trial 3 with value: 0.9352387189865112.\n"
     ]
    },
    {
     "name": "stdout",
     "output_type": "stream",
     "text": [
      "3582/3582 [==============================] - 4s 1ms/step - loss: 0.1769 - accuracy: 0.9195\n"
     ]
    },
    {
     "name": "stderr",
     "output_type": "stream",
     "text": [
      "[I 2024-04-21 20:57:43,909] Trial 10 finished with value: 0.9195435643196106 and parameters: {'n_layers': 5, 'n_nodes': 50, 'act_fun': 'relu', 'optimizer': 'sgd', 'learning_rate': 0.0069201548040068875, 'use_bn': False, 'use_dropout': False, 'epochs': 20, 'batch_size': 4096, 'dropout_rate': 0.7854534509400155}. Best is trial 3 with value: 0.9352387189865112.\n"
     ]
    },
    {
     "name": "stdout",
     "output_type": "stream",
     "text": [
      "3582/3582 [==============================] - 5s 2ms/step - loss: 0.1626 - accuracy: 0.9321\n"
     ]
    },
    {
     "name": "stderr",
     "output_type": "stream",
     "text": [
      "[I 2024-04-21 20:58:29,721] Trial 11 finished with value: 0.932124137878418 and parameters: {'n_layers': 4, 'n_nodes': 15, 'act_fun': 'sigmoid', 'optimizer': 'adam', 'learning_rate': 0.02190020805603669, 'use_bn': True, 'use_dropout': False, 'epochs': 22, 'batch_size': 1024, 'dropout_rate': 0.784357840555288}. Best is trial 3 with value: 0.9352387189865112.\n"
     ]
    },
    {
     "name": "stdout",
     "output_type": "stream",
     "text": [
      "3582/3582 [==============================] - 5s 1ms/step - loss: 0.1482 - accuracy: 0.9378\n"
     ]
    },
    {
     "name": "stderr",
     "output_type": "stream",
     "text": [
      "[I 2024-04-21 20:59:12,296] Trial 12 finished with value: 0.9378473162651062 and parameters: {'n_layers': 4, 'n_nodes': 10, 'act_fun': 'sigmoid', 'optimizer': 'adam', 'learning_rate': 0.01281563084192679, 'use_bn': True, 'use_dropout': False, 'epochs': 22, 'batch_size': 1024, 'dropout_rate': 0.6950253975422418}. Best is trial 12 with value: 0.9378473162651062.\n"
     ]
    },
    {
     "name": "stdout",
     "output_type": "stream",
     "text": [
      "3582/3582 [==============================] - 5s 1ms/step - loss: 0.1669 - accuracy: 0.9347\n"
     ]
    },
    {
     "name": "stderr",
     "output_type": "stream",
     "text": [
      "[I 2024-04-21 20:59:48,733] Trial 13 finished with value: 0.9347152709960938 and parameters: {'n_layers': 4, 'n_nodes': 15, 'act_fun': 'sigmoid', 'optimizer': 'adam', 'learning_rate': 0.006528389890778377, 'use_bn': True, 'use_dropout': False, 'epochs': 16, 'batch_size': 1024, 'dropout_rate': 0.6841306982943864}. Best is trial 12 with value: 0.9378473162651062.\n"
     ]
    },
    {
     "name": "stdout",
     "output_type": "stream",
     "text": [
      "3582/3582 [==============================] - 5s 1ms/step - loss: 0.1164 - accuracy: 0.9489\n"
     ]
    },
    {
     "name": "stderr",
     "output_type": "stream",
     "text": [
      "[I 2024-04-21 21:00:35,186] Trial 14 finished with value: 0.9488750100135803 and parameters: {'n_layers': 4, 'n_nodes': 20, 'act_fun': 'relu', 'optimizer': 'adam', 'learning_rate': 0.0019533313546367245, 'use_bn': True, 'use_dropout': False, 'epochs': 22, 'batch_size': 1024, 'dropout_rate': 0.6415900075762252}. Best is trial 14 with value: 0.9488750100135803.\n"
     ]
    },
    {
     "name": "stdout",
     "output_type": "stream",
     "text": [
      "3582/3582 [==============================] - 6s 2ms/step - loss: 0.1542 - accuracy: 0.9344\n"
     ]
    },
    {
     "name": "stderr",
     "output_type": "stream",
     "text": [
      "[I 2024-04-21 21:02:11,207] Trial 15 finished with value: 0.9344273805618286 and parameters: {'n_layers': 10, 'n_nodes': 20, 'act_fun': 'sigmoid', 'optimizer': 'adam', 'learning_rate': 0.001350688357396935, 'use_bn': True, 'use_dropout': False, 'epochs': 22, 'batch_size': 1024, 'dropout_rate': 0.6159415719808684}. Best is trial 14 with value: 0.9488750100135803.\n"
     ]
    },
    {
     "name": "stdout",
     "output_type": "stream",
     "text": [
      "3582/3582 [==============================] - 5s 1ms/step - loss: 0.1267 - accuracy: 0.9444\n"
     ]
    },
    {
     "name": "stderr",
     "output_type": "stream",
     "text": [
      "[I 2024-04-21 21:02:59,133] Trial 16 finished with value: 0.9444429874420166 and parameters: {'n_layers': 5, 'n_nodes': 10, 'act_fun': 'relu', 'optimizer': 'adam', 'learning_rate': 0.0022606381483942658, 'use_bn': True, 'use_dropout': False, 'epochs': 24, 'batch_size': 1024, 'dropout_rate': 0.6264842580594882}. Best is trial 14 with value: 0.9488750100135803.\n"
     ]
    },
    {
     "name": "stdout",
     "output_type": "stream",
     "text": [
      "3582/3582 [==============================] - 5s 1ms/step - loss: 0.1444 - accuracy: 0.9370\n"
     ]
    },
    {
     "name": "stderr",
     "output_type": "stream",
     "text": [
      "[I 2024-04-21 21:04:03,629] Trial 17 finished with value: 0.9370185136795044 and parameters: {'n_layers': 6, 'n_nodes': 20, 'act_fun': 'relu', 'optimizer': 'adam', 'learning_rate': 0.0005872786260079053, 'use_bn': True, 'use_dropout': False, 'epochs': 24, 'batch_size': 1024, 'dropout_rate': 0.4136819947471493}. Best is trial 14 with value: 0.9488750100135803.\n"
     ]
    },
    {
     "name": "stdout",
     "output_type": "stream",
     "text": [
      "3582/3582 [==============================] - 4s 1ms/step - loss: 0.1601 - accuracy: 0.9322\n"
     ]
    },
    {
     "name": "stderr",
     "output_type": "stream",
     "text": [
      "[I 2024-04-21 21:04:39,802] Trial 18 finished with value: 0.9322113990783691 and parameters: {'n_layers': 5, 'n_nodes': 20, 'act_fun': 'relu', 'optimizer': 'sgd', 'learning_rate': 0.0033604385960269542, 'use_bn': False, 'use_dropout': False, 'epochs': 26, 'batch_size': 1024, 'dropout_rate': 0.5891961201147191}. Best is trial 14 with value: 0.9488750100135803.\n"
     ]
    },
    {
     "name": "stdout",
     "output_type": "stream",
     "text": [
      "3582/3582 [==============================] - 5s 1ms/step - loss: 0.1604 - accuracy: 0.9350\n"
     ]
    },
    {
     "name": "stderr",
     "output_type": "stream",
     "text": [
      "[I 2024-04-21 21:05:27,440] Trial 19 finished with value: 0.9349682927131653 and parameters: {'n_layers': 5, 'n_nodes': 15, 'act_fun': 'relu', 'optimizer': 'adam', 'learning_rate': 0.000673556593390767, 'use_bn': True, 'use_dropout': False, 'epochs': 20, 'batch_size': 1024, 'dropout_rate': 0.44280737508573154}. Best is trial 14 with value: 0.9488750100135803.\n"
     ]
    },
    {
     "name": "stdout",
     "output_type": "stream",
     "text": [
      "3582/3582 [==============================] - 6s 2ms/step - loss: 0.1559 - accuracy: 0.9345\n"
     ]
    },
    {
     "name": "stderr",
     "output_type": "stream",
     "text": [
      "[I 2024-04-21 21:06:06,532] Trial 20 finished with value: 0.9344797134399414 and parameters: {'n_layers': 7, 'n_nodes': 25, 'act_fun': 'relu', 'optimizer': 'adam', 'learning_rate': 0.06145138557052288, 'use_bn': True, 'use_dropout': False, 'epochs': 24, 'batch_size': 16384, 'dropout_rate': 0.6532871944518723}. Best is trial 14 with value: 0.9488750100135803.\n"
     ]
    },
    {
     "name": "stdout",
     "output_type": "stream",
     "text": [
      "3582/3582 [==============================] - 5s 1ms/step - loss: 0.1499 - accuracy: 0.9350\n"
     ]
    },
    {
     "name": "stderr",
     "output_type": "stream",
     "text": [
      "[I 2024-04-21 21:06:48,420] Trial 21 finished with value: 0.9350467920303345 and parameters: {'n_layers': 4, 'n_nodes': 10, 'act_fun': 'sigmoid', 'optimizer': 'adam', 'learning_rate': 0.003294072906641368, 'use_bn': True, 'use_dropout': False, 'epochs': 22, 'batch_size': 1024, 'dropout_rate': 0.7048215339705395}. Best is trial 14 with value: 0.9488750100135803.\n"
     ]
    },
    {
     "name": "stdout",
     "output_type": "stream",
     "text": [
      "3582/3582 [==============================] - 4s 1ms/step - loss: 0.1606 - accuracy: 0.9329\n"
     ]
    },
    {
     "name": "stderr",
     "output_type": "stream",
     "text": [
      "[I 2024-04-21 21:07:23,973] Trial 22 finished with value: 0.9328831434249878 and parameters: {'n_layers': 3, 'n_nodes': 10, 'act_fun': 'relu', 'optimizer': 'adam', 'learning_rate': 0.012872501936342163, 'use_bn': True, 'use_dropout': False, 'epochs': 22, 'batch_size': 1024, 'dropout_rate': 0.5450812001555013}. Best is trial 14 with value: 0.9488750100135803.\n"
     ]
    },
    {
     "name": "stdout",
     "output_type": "stream",
     "text": [
      "3582/3582 [==============================] - 5s 1ms/step - loss: 0.1343 - accuracy: 0.9411\n"
     ]
    },
    {
     "name": "stderr",
     "output_type": "stream",
     "text": [
      "[I 2024-04-21 21:08:07,023] Trial 23 finished with value: 0.9411451816558838 and parameters: {'n_layers': 4, 'n_nodes': 15, 'act_fun': 'sigmoid', 'optimizer': 'adam', 'learning_rate': 0.0029365710733138474, 'use_bn': True, 'use_dropout': False, 'epochs': 20, 'batch_size': 1024, 'dropout_rate': 0.7255640085442635}. Best is trial 14 with value: 0.9488750100135803.\n"
     ]
    },
    {
     "name": "stdout",
     "output_type": "stream",
     "text": [
      "3582/3582 [==============================] - 5s 1ms/step - loss: 0.1638 - accuracy: 0.9344\n"
     ]
    },
    {
     "name": "stderr",
     "output_type": "stream",
     "text": [
      "[I 2024-04-21 21:08:40,685] Trial 24 finished with value: 0.9343924522399902 and parameters: {'n_layers': 3, 'n_nodes': 15, 'act_fun': 'relu', 'optimizer': 'adam', 'learning_rate': 0.0024939293886881847, 'use_bn': True, 'use_dropout': False, 'epochs': 18, 'batch_size': 1024, 'dropout_rate': 0.7364694692857245}. Best is trial 14 with value: 0.9488750100135803.\n"
     ]
    },
    {
     "name": "stdout",
     "output_type": "stream",
     "text": [
      "3582/3582 [==============================] - 5s 1ms/step - loss: 0.1633 - accuracy: 0.9339\n"
     ]
    },
    {
     "name": "stderr",
     "output_type": "stream",
     "text": [
      "[I 2024-04-21 21:09:26,100] Trial 25 finished with value: 0.9339039325714111 and parameters: {'n_layers': 5, 'n_nodes': 25, 'act_fun': 'relu', 'optimizer': 'adam', 'learning_rate': 0.0005191217183941072, 'use_bn': True, 'use_dropout': False, 'epochs': 18, 'batch_size': 1024, 'dropout_rate': 0.6466061486064332}. Best is trial 14 with value: 0.9488750100135803.\n"
     ]
    },
    {
     "name": "stdout",
     "output_type": "stream",
     "text": [
      "3582/3582 [==============================] - 5s 1ms/step - loss: 0.6944 - accuracy: 0.1578\n"
     ]
    },
    {
     "name": "stderr",
     "output_type": "stream",
     "text": [
      "[I 2024-04-21 21:10:15,384] Trial 26 finished with value: 0.15775468945503235 and parameters: {'n_layers': 6, 'n_nodes': 20, 'act_fun': 'sigmoid', 'optimizer': 'sgd', 'learning_rate': 0.0042390204026753805, 'use_bn': False, 'use_dropout': True, 'epochs': 20, 'batch_size': 1024, 'dropout_rate': 0.5694224067197743}. Best is trial 14 with value: 0.9488750100135803.\n"
     ]
    },
    {
     "name": "stdout",
     "output_type": "stream",
     "text": [
      "3582/3582 [==============================] - 5s 1ms/step - loss: 0.1548 - accuracy: 0.9361\n"
     ]
    },
    {
     "name": "stderr",
     "output_type": "stream",
     "text": [
      "[I 2024-04-21 21:10:56,886] Trial 27 finished with value: 0.9360588192939758 and parameters: {'n_layers': 3, 'n_nodes': 15, 'act_fun': 'relu', 'optimizer': 'adam', 'learning_rate': 0.0007426904060164885, 'use_bn': True, 'use_dropout': False, 'epochs': 24, 'batch_size': 1024, 'dropout_rate': 0.6534667109935759}. Best is trial 14 with value: 0.9488750100135803.\n"
     ]
    },
    {
     "name": "stdout",
     "output_type": "stream",
     "text": [
      "3582/3582 [==============================] - 5s 1ms/step - loss: 0.1683 - accuracy: 0.9297\n"
     ]
    },
    {
     "name": "stderr",
     "output_type": "stream",
     "text": [
      "[I 2024-04-21 21:11:19,307] Trial 28 finished with value: 0.9296900033950806 and parameters: {'n_layers': 4, 'n_nodes': 10, 'act_fun': 'sigmoid', 'optimizer': 'adam', 'learning_rate': 0.0018782851870094764, 'use_bn': True, 'use_dropout': False, 'epochs': 28, 'batch_size': 16384, 'dropout_rate': 0.7434283618835043}. Best is trial 14 with value: 0.9488750100135803.\n"
     ]
    },
    {
     "name": "stdout",
     "output_type": "stream",
     "text": [
      "3582/3582 [==============================] - 6s 2ms/step - loss: 0.1773 - accuracy: 0.9353\n"
     ]
    },
    {
     "name": "stderr",
     "output_type": "stream",
     "text": [
      "[I 2024-04-21 21:12:08,596] Trial 29 finished with value: 0.9352649450302124 and parameters: {'n_layers': 5, 'n_nodes': 30, 'act_fun': 'relu', 'optimizer': 'adam', 'learning_rate': 0.004800103390028928, 'use_bn': True, 'use_dropout': False, 'epochs': 28, 'batch_size': 4096, 'dropout_rate': 0.3376927761330204}. Best is trial 14 with value: 0.9488750100135803.\n"
     ]
    }
   ],
   "source": [
    "from optuna.samplers import TPESampler\n",
    "study = optuna.create_study(sampler=TPESampler(), direction='maximize')\n",
    "study.optimize(optuna_objective, n_trials=30, timeout=1800)"
   ]
  },
  {
   "cell_type": "code",
   "execution_count": 48,
   "metadata": {},
   "outputs": [
    {
     "name": "stdout",
     "output_type": "stream",
     "text": [
      "The highest accuracy for test set is 0.94888.\n"
     ]
    }
   ],
   "source": [
    "print('The highest accuracy for test set is {:.5f}.'.format(study.best_value))"
   ]
  },
  {
   "cell_type": "code",
   "execution_count": 49,
   "metadata": {},
   "outputs": [
    {
     "name": "stdout",
     "output_type": "stream",
     "text": [
      "The hyperparameters are:\n"
     ]
    },
    {
     "data": {
      "text/plain": [
       "{'n_layers': 4,\n",
       " 'n_nodes': 20,\n",
       " 'act_fun': 'relu',\n",
       " 'optimizer': 'adam',\n",
       " 'learning_rate': 0.0019533313546367245,\n",
       " 'use_bn': True,\n",
       " 'use_dropout': False,\n",
       " 'epochs': 22,\n",
       " 'batch_size': 1024,\n",
       " 'dropout_rate': 0.6415900075762252}"
      ]
     },
     "execution_count": 49,
     "metadata": {},
     "output_type": "execute_result"
    }
   ],
   "source": [
    "print(\"The hyperparameters are:\")\n",
    "study.best_params"
   ]
  },
  {
   "cell_type": "code",
   "execution_count": 51,
   "metadata": {
    "scrolled": true
   },
   "outputs": [
    {
     "name": "stdout",
     "output_type": "stream",
     "text": [
      "Epoch 1/22\n",
      "523/523 [==============================] - 6s 6ms/step - loss: 0.2031 - accuracy: 0.9059 - val_loss: 0.2025 - val_accuracy: 0.9171\n",
      "Epoch 2/22\n",
      "523/523 [==============================] - 2s 4ms/step - loss: 0.1623 - accuracy: 0.9170 - val_loss: 0.1940 - val_accuracy: 0.9195\n",
      "Epoch 3/22\n",
      "523/523 [==============================] - 2s 4ms/step - loss: 0.1532 - accuracy: 0.9197 - val_loss: 0.1739 - val_accuracy: 0.9261\n",
      "Epoch 4/22\n",
      "523/523 [==============================] - 2s 4ms/step - loss: 0.1431 - accuracy: 0.9264 - val_loss: 0.1826 - val_accuracy: 0.9297\n",
      "Epoch 5/22\n",
      "523/523 [==============================] - 2s 4ms/step - loss: 0.1366 - accuracy: 0.9299 - val_loss: 0.1753 - val_accuracy: 0.9285\n",
      "Epoch 6/22\n",
      "523/523 [==============================] - 2s 4ms/step - loss: 0.1326 - accuracy: 0.9317 - val_loss: 0.1596 - val_accuracy: 0.9326\n",
      "Epoch 7/22\n",
      "523/523 [==============================] - 2s 4ms/step - loss: 0.1296 - accuracy: 0.9331 - val_loss: 0.1655 - val_accuracy: 0.9363\n",
      "Epoch 8/22\n",
      "523/523 [==============================] - 2s 4ms/step - loss: 0.1286 - accuracy: 0.9334 - val_loss: 0.1789 - val_accuracy: 0.9329\n",
      "Epoch 9/22\n",
      "523/523 [==============================] - 2s 4ms/step - loss: 0.1277 - accuracy: 0.9337 - val_loss: 0.1692 - val_accuracy: 0.9318\n",
      "Epoch 10/22\n",
      "523/523 [==============================] - 2s 4ms/step - loss: 0.1266 - accuracy: 0.9343 - val_loss: 0.1603 - val_accuracy: 0.9353\n",
      "Epoch 11/22\n",
      "523/523 [==============================] - 2s 4ms/step - loss: 0.1251 - accuracy: 0.9348 - val_loss: 0.1636 - val_accuracy: 0.9359\n",
      "Epoch 12/22\n",
      "523/523 [==============================] - 2s 4ms/step - loss: 0.1257 - accuracy: 0.9346 - val_loss: 0.1449 - val_accuracy: 0.9374\n",
      "Epoch 13/22\n",
      "523/523 [==============================] - 2s 4ms/step - loss: 0.1234 - accuracy: 0.9354 - val_loss: 0.1580 - val_accuracy: 0.9358\n",
      "Epoch 14/22\n",
      "523/523 [==============================] - 2s 4ms/step - loss: 0.1243 - accuracy: 0.9351 - val_loss: 0.1482 - val_accuracy: 0.9377\n",
      "Epoch 15/22\n",
      "523/523 [==============================] - 2s 4ms/step - loss: 0.1238 - accuracy: 0.9353 - val_loss: 0.1495 - val_accuracy: 0.9379\n",
      "Epoch 16/22\n",
      "523/523 [==============================] - 2s 4ms/step - loss: 0.1220 - accuracy: 0.9360 - val_loss: 0.1451 - val_accuracy: 0.9381\n",
      "Epoch 17/22\n",
      "523/523 [==============================] - 2s 4ms/step - loss: 0.1230 - accuracy: 0.9360 - val_loss: 0.1449 - val_accuracy: 0.9376\n",
      "Epoch 18/22\n",
      "523/523 [==============================] - 2s 5ms/step - loss: 0.1235 - accuracy: 0.9355 - val_loss: 0.1624 - val_accuracy: 0.9372\n",
      "Epoch 19/22\n",
      "523/523 [==============================] - 2s 4ms/step - loss: 0.1208 - accuracy: 0.9365 - val_loss: 0.1317 - val_accuracy: 0.9432\n",
      "Epoch 20/22\n",
      "523/523 [==============================] - 2s 5ms/step - loss: 0.1211 - accuracy: 0.9366 - val_loss: 0.1370 - val_accuracy: 0.9367\n",
      "Epoch 21/22\n",
      "523/523 [==============================] - 2s 4ms/step - loss: 0.1192 - accuracy: 0.9373 - val_loss: 0.1534 - val_accuracy: 0.9384\n",
      "Epoch 22/22\n",
      "523/523 [==============================] - 2s 4ms/step - loss: 0.1178 - accuracy: 0.9386 - val_loss: 0.1528 - val_accuracy: 0.9383\n"
     ]
    }
   ],
   "source": [
    "# Find your best configuration for the DNN\n",
    "input_shape = (Xtrain.shape[1],)\n",
    "\n",
    "# Build and train DNN\n",
    "model10 = build_DNN(input_shape=input_shape, n_layers=study.best_params['n_layers'], n_nodes=study.best_params['n_nodes'], act_fun=study.best_params['act_fun'], optimizer=study.best_params['optimizer'], learning_rate=study.best_params['learning_rate'], \n",
    "              use_bn=study.best_params['use_bn'], use_dropout=study.best_params['use_dropout'], use_custom_dropout=False, dropout_rate=study.best_params['dropout_rate'])\n",
    "history10 = model10.fit(Xtrain, Ytrain, class_weight=class_weights, epochs=study.best_params['epochs'], batch_size=study.best_params['batch_size'], verbose=1, validation_data=(Xval,Yval))\n"
   ]
  },
  {
   "cell_type": "code",
   "execution_count": 52,
   "metadata": {},
   "outputs": [
    {
     "name": "stdout",
     "output_type": "stream",
     "text": [
      "Test loss: 0.1560\n",
      "Test accuracy: 0.9368\n"
     ]
    }
   ],
   "source": [
    "# Evaluate DNN on test data\n",
    "score = model10.evaluate(Xtest, Ytest, verbose=0)\n",
    "\n",
    "print('Test loss: %.4f' % score[0])\n",
    "print('Test accuracy: %.4f' % score[1])"
   ]
  },
  {
   "cell_type": "markdown",
   "metadata": {},
   "source": [
    "# Part 20: Dropout uncertainty\n",
    "\n",
    "Dropout can also be used during testing, to obtain an estimate of the model uncertainty. Since dropout will randomly remove connections, the network will produce different results every time the same (test) data is put into the network. This technique is called Monte Carlo dropout. For more information, see this paper http://proceedings.mlr.press/v48/gal16.pdf\n",
    "\n",
    "To achieve this, we need to redefine the Keras Dropout call by running the cell below, and use 'myDropout' in each call to Dropout, in the cell that defines the DNN. The `build_DNN` function takes two boolean arguments, use_dropout and use_custom_dropout, add a standard Dropout layer if use_dropout is true, add a myDropout layer if use_custom_dropout is true.\n",
    "\n",
    "Run the same test data through the trained network 100 times, with dropout turned on. \n",
    "\n",
    "Question 18: What is the mean and the standard deviation of the test accuracy?\n",
    "\n",
    "<span style=\"color:blue\"> The mean and standard deviation of the test accuracy are 0.93127 and 0.000117 respectively as below show.</span>"
   ]
  },
  {
   "cell_type": "code",
   "execution_count": 53,
   "metadata": {},
   "outputs": [],
   "source": [
    "import keras.backend as K\n",
    "import keras\n",
    "\n",
    "class myDropout(keras.layers.Dropout):\n",
    "    \"\"\"Applies Dropout to the input.\n",
    "    Dropout consists in randomly setting\n",
    "    a fraction `rate` of input units to 0 at each update during training time,\n",
    "    which helps prevent overfitting.\n",
    "    # Arguments\n",
    "        rate: float between 0 and 1. Fraction of the input units to drop.\n",
    "        noise_shape: 1D integer tensor representing the shape of the\n",
    "            binary dropout mask that will be multiplied with the input.\n",
    "            For instance, if your inputs have shape\n",
    "            `(batch_size, timesteps, features)` and\n",
    "            you want the dropout mask to be the same for all timesteps,\n",
    "            you can use `noise_shape=(batch_size, 1, features)`.\n",
    "        seed: A Python integer to use as random seed.\n",
    "    # References\n",
    "        - [Dropout: A Simple Way to Prevent Neural Networks from Overfitting](\n",
    "           http://www.jmlr.org/papers/volume15/srivastava14a/srivastava14a.pdf)\n",
    "    \"\"\"\n",
    "    def __init__(self, rate, training=True, noise_shape=None, seed=None, **kwargs):\n",
    "        super(myDropout, self).__init__(rate, noise_shape=None, seed=None,**kwargs)\n",
    "        self.training = training\n",
    "\n",
    "        \n",
    "    def call(self, inputs, training=None):\n",
    "        if 0. < self.rate < 1.:\n",
    "            noise_shape = self._get_noise_shape(inputs)\n",
    "\n",
    "            def dropped_inputs():\n",
    "                return K.dropout(inputs, self.rate, noise_shape,\n",
    "                                 seed=self.seed)\n",
    "            if not training: \n",
    "                return K.in_train_phase(dropped_inputs, inputs, training=self.training)\n",
    "            return K.in_train_phase(dropped_inputs, inputs, training=training)\n",
    "        return inputs"
   ]
  },
  {
   "cell_type": "markdown",
   "metadata": {},
   "source": [
    "### Your best config, custom dropout"
   ]
  },
  {
   "cell_type": "code",
   "execution_count": 57,
   "metadata": {
    "scrolled": true
   },
   "outputs": [
    {
     "name": "stdout",
     "output_type": "stream",
     "text": [
      "Epoch 1/22\n",
      "523/523 [==============================] - 7s 6ms/step - loss: 0.3078 - accuracy: 0.8874 - val_loss: 0.2668 - val_accuracy: 0.9137\n",
      "Epoch 2/22\n",
      "523/523 [==============================] - 2s 5ms/step - loss: 0.2059 - accuracy: 0.9144 - val_loss: 0.2219 - val_accuracy: 0.9166\n",
      "Epoch 3/22\n",
      "523/523 [==============================] - 2s 5ms/step - loss: 0.1866 - accuracy: 0.9157 - val_loss: 0.2200 - val_accuracy: 0.9175\n",
      "Epoch 4/22\n",
      "523/523 [==============================] - 2s 5ms/step - loss: 0.1770 - accuracy: 0.9159 - val_loss: 0.2181 - val_accuracy: 0.9179\n",
      "Epoch 5/22\n",
      "523/523 [==============================] - 3s 5ms/step - loss: 0.1730 - accuracy: 0.9162 - val_loss: 0.2141 - val_accuracy: 0.9183\n",
      "Epoch 6/22\n",
      "523/523 [==============================] - 3s 5ms/step - loss: 0.1709 - accuracy: 0.9163 - val_loss: 0.1950 - val_accuracy: 0.9189\n",
      "Epoch 7/22\n",
      "523/523 [==============================] - 2s 5ms/step - loss: 0.1684 - accuracy: 0.9167 - val_loss: 0.2012 - val_accuracy: 0.9168\n",
      "Epoch 8/22\n",
      "523/523 [==============================] - 3s 5ms/step - loss: 0.1664 - accuracy: 0.9172 - val_loss: 0.2078 - val_accuracy: 0.9188\n",
      "Epoch 9/22\n",
      "523/523 [==============================] - 3s 5ms/step - loss: 0.1637 - accuracy: 0.9172 - val_loss: 0.2055 - val_accuracy: 0.9198\n",
      "Epoch 10/22\n",
      "523/523 [==============================] - 3s 6ms/step - loss: 0.1615 - accuracy: 0.9180 - val_loss: 0.1935 - val_accuracy: 0.9197\n",
      "Epoch 11/22\n",
      "523/523 [==============================] - 3s 5ms/step - loss: 0.1587 - accuracy: 0.9187 - val_loss: 0.1929 - val_accuracy: 0.9224\n",
      "Epoch 12/22\n",
      "523/523 [==============================] - 3s 5ms/step - loss: 0.1576 - accuracy: 0.9196 - val_loss: 0.1791 - val_accuracy: 0.9233\n",
      "Epoch 13/22\n",
      "523/523 [==============================] - 3s 6ms/step - loss: 0.1542 - accuracy: 0.9217 - val_loss: 0.1774 - val_accuracy: 0.9246\n",
      "Epoch 14/22\n",
      "523/523 [==============================] - 3s 5ms/step - loss: 0.1520 - accuracy: 0.9245 - val_loss: 0.1713 - val_accuracy: 0.9287\n",
      "Epoch 15/22\n",
      "523/523 [==============================] - 3s 5ms/step - loss: 0.1503 - accuracy: 0.9255 - val_loss: 0.1684 - val_accuracy: 0.9315\n",
      "Epoch 16/22\n",
      "523/523 [==============================] - 3s 5ms/step - loss: 0.1465 - accuracy: 0.9278 - val_loss: 0.1619 - val_accuracy: 0.9338\n",
      "Epoch 17/22\n",
      "523/523 [==============================] - 3s 6ms/step - loss: 0.1425 - accuracy: 0.9297 - val_loss: 0.1751 - val_accuracy: 0.9324\n",
      "Epoch 18/22\n",
      "523/523 [==============================] - 3s 5ms/step - loss: 0.1423 - accuracy: 0.9298 - val_loss: 0.1686 - val_accuracy: 0.9317\n",
      "Epoch 19/22\n",
      "523/523 [==============================] - 3s 5ms/step - loss: 0.1416 - accuracy: 0.9300 - val_loss: 0.1796 - val_accuracy: 0.9307\n",
      "Epoch 20/22\n",
      "523/523 [==============================] - 3s 5ms/step - loss: 0.1391 - accuracy: 0.9310 - val_loss: 0.1534 - val_accuracy: 0.9343\n",
      "Epoch 21/22\n",
      "523/523 [==============================] - 3s 5ms/step - loss: 0.1399 - accuracy: 0.9308 - val_loss: 0.1687 - val_accuracy: 0.9335\n",
      "Epoch 22/22\n",
      "523/523 [==============================] - 3s 7ms/step - loss: 0.1409 - accuracy: 0.9306 - val_loss: 0.1755 - val_accuracy: 0.9327\n"
     ]
    }
   ],
   "source": [
    "# Your best training parameters\n",
    "input_shape = (Xtrain.shape[1],)\n",
    "\n",
    "# Build and train model\n",
    "model11 = build_DNN(input_shape=input_shape, n_layers=study.best_params['n_layers'], n_nodes=study.best_params['n_nodes'], act_fun=study.best_params['act_fun'], optimizer=study.best_params['optimizer'], learning_rate=study.best_params['learning_rate'], \n",
    "              use_bn=study.best_params['use_bn'], use_custom_dropout=True)\n",
    "\n",
    "history11 = model11.fit(Xtrain, Ytrain, class_weight=class_weights, epochs=study.best_params['epochs'], batch_size=study.best_params['batch_size'], verbose=1, validation_data=(Xval,Yval))\n"
   ]
  },
  {
   "cell_type": "code",
   "execution_count": 59,
   "metadata": {},
   "outputs": [
    {
     "name": "stdout",
     "output_type": "stream",
     "text": [
      "3582/3582 [==============================] - 6s 2ms/step - loss: 0.1786 - accuracy: 0.9313\n",
      "Test accuracy: 0.9313\n",
      "3582/3582 [==============================] - 6s 2ms/step - loss: 0.1782 - accuracy: 0.9314\n",
      "Test accuracy: 0.9314\n",
      "3582/3582 [==============================] - 6s 2ms/step - loss: 0.1786 - accuracy: 0.9313\n",
      "Test accuracy: 0.9313\n",
      "3582/3582 [==============================] - 5s 1ms/step - loss: 0.1782 - accuracy: 0.9314\n",
      "Test accuracy: 0.9314\n",
      "3582/3582 [==============================] - 5s 1ms/step - loss: 0.1786 - accuracy: 0.9313\n",
      "Test accuracy: 0.9313\n"
     ]
    }
   ],
   "source": [
    "# Run this cell a few times to evalute the model on test data, \n",
    "# if you get slightly different test accuracy every time, Dropout during testing is working\n",
    "\n",
    "# Evaluate model on test data\n",
    "for i in range(5):\n",
    "    score = model11.evaluate(Xtest, Ytest)                       \n",
    "    print('Test accuracy: %.4f' % score[1])"
   ]
  },
  {
   "cell_type": "code",
   "execution_count": 60,
   "metadata": {},
   "outputs": [
    {
     "name": "stdout",
     "output_type": "stream",
     "text": [
      "Mean accuracy:  0.9312707126140595\n",
      "Standard deviation:  0.00011739754091522747\n"
     ]
    }
   ],
   "source": [
    "# Run the testing 100 times, and save the accuracies in an array\n",
    "# Placeholder for accuracies\n",
    "accuracies = []\n",
    "\n",
    "# Run the testing 100 times\n",
    "for i in range(100):\n",
    "    # Evaluate model on test data\n",
    "    score = model11.evaluate(Xtest, Ytest, verbose=0)\n",
    "    accuracies.append(score[1])\n",
    "    \n",
    "# Calculate and print mean and std of accuracies\n",
    "print('Mean accuracy: ', np.mean(accuracies))\n",
    "print('Standard deviation: ', np.std(accuracies))\n"
   ]
  },
  {
   "cell_type": "markdown",
   "metadata": {},
   "source": [
    "# Part 21: Cross validation uncertainty\n",
    "\n",
    "Cross validation (CV) is often used to evaluate a model, by training and testing using different subsets of the data it is possible to get the uncertainty as the standard deviation over folds. We here use a help function from scikit-learn to setup the CV, see https://scikit-learn.org/stable/modules/generated/sklearn.model_selection.StratifiedKFold.html . Use 10 folds with shuffling, random state 1234. \n",
    "\n",
    "Note: We here assume that you have found the best hyper parameters, so here the data are only split into training and testing, no validation.\n",
    "\n",
    "---\n",
    "\n",
    "Question 19: What is the mean and the standard deviation of the test accuracy?\n",
    "\n",
    "<span style=\"color:blue\"> The mean and standard deviation of the test accuracy are 0.9366 and 0.004067 respectively as below shown.</span>\n",
    "\n",
    "Question 20: What is the main advantage of dropout compared to CV for estimating test uncertainty? The difference may not be so large in this notebook, but imagine that you have a network that takes 24 hours to train.\n",
    "\n",
    "<span style=\"color:blue\"> The main advantage of dropout compared to CV for estimating test uncertainty is that dropout is much less computationally expensive. Dropout can be easily parallelized because each dropout mask is independent. On the other hand, CV requires training the model from scratch for each fold, which can be computationally expensive for large models and datasets.</span>"
   ]
  },
  {
   "cell_type": "code",
   "execution_count": 61,
   "metadata": {},
   "outputs": [
    {
     "name": "stdout",
     "output_type": "stream",
     "text": [
      "Mean accuracy:  0.9366134524345398\n",
      "Standard deviation:  0.004067192034317146\n"
     ]
    }
   ],
   "source": [
    "from sklearn.model_selection import StratifiedKFold\n",
    "\n",
    "# Define 10-fold cross validation\n",
    "kfold = StratifiedKFold(n_splits=10, shuffle=True, random_state=1234)\n",
    "\n",
    "# Placeholder for accuracies\n",
    "cv_accuracies = []\n",
    "\n",
    "input_shape = (Xtrain.shape[1],)\n",
    "\n",
    "# Loop over cross validation folds\n",
    "for train, test in kfold.split(X, Y):\n",
    "    # Calculate class weights for current split\n",
    "    class_weights = class_weight.compute_class_weight('balanced', np.unique(Y[train]), Y[train])\n",
    "    class_weights = dict(enumerate(class_weights))\n",
    "\n",
    "    # Rebuild the DNN model, to not continue training on the previously trained model\n",
    "    model = build_DNN(input_shape=input_shape, n_layers=study.best_params['n_layers'], n_nodes=study.best_params['n_nodes'], act_fun=study.best_params['act_fun'], optimizer=study.best_params['optimizer'], learning_rate=study.best_params['learning_rate'], \n",
    "              use_bn=study.best_params['use_bn'])\n",
    "\n",
    "    # Fit the model with training set and class weights for this fold\n",
    "    model.fit(X[train], Y[train], batch_size=study.best_params['batch_size'], epochs=study.best_params['epochs'], verbose=0, class_weight=class_weights)\n",
    "\n",
    "    # Evaluate the model using the test set for this fold\n",
    "    score = model.evaluate(X[test], Y[test], verbose=0)\n",
    "\n",
    "    # Save the test accuracy in an array\n",
    "    cv_accuracies.append(score[1])\n",
    "\n",
    "# Calculate and print mean and std of accuracies\n",
    "print('Mean accuracy: ', np.mean(cv_accuracies))\n",
    "print('Standard deviation: ', np.std(cv_accuracies))\n"
   ]
  },
  {
   "cell_type": "markdown",
   "metadata": {},
   "source": [
    "# Part 22: DNN regression\n",
    "\n",
    "A similar DNN can be used for regression, instead of classification.\n",
    "\n",
    "Question 21: How would you change the DNN used in this lab in order to use it for regression instead?\n",
    "\n",
    "<span style=\"color:blue\">1) Change the activation function of the output layer to linear, i.e., no activation function. This is because the output for regression is a continuous value, while the output for classification is a discrete class label.</span>\n",
    "\n",
    "<span style=\"color:blue\">2) Change the loss function to a regression loss such as Mean Squared Error (MSE) or Mean Absolute Error (MAE), instead of a classification loss such as cross-entropy.</span>"
   ]
  },
  {
   "cell_type": "markdown",
   "metadata": {},
   "source": [
    "## Report\n",
    "\n",
    "Send in this jupyter notebook, with answers to all questions."
   ]
  }
 ],
 "metadata": {
  "kernelspec": {
   "display_name": "Python 3",
   "language": "python",
   "name": "python3"
  },
  "language_info": {
   "codemirror_mode": {
    "name": "ipython",
    "version": 3
   },
   "file_extension": ".py",
   "mimetype": "text/x-python",
   "name": "python",
   "nbconvert_exporter": "python",
   "pygments_lexer": "ipython3",
   "version": "3.8.0"
  }
 },
 "nbformat": 4,
 "nbformat_minor": 4
}
