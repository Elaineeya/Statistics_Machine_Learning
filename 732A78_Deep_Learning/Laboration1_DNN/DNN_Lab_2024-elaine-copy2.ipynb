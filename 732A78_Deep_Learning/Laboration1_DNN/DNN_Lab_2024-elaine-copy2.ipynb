{
 "cells": [
  {
   "cell_type": "markdown",
   "metadata": {},
   "source": [
    "# Deep Neural Networks Laboration\n",
    "\n",
    "Data used in this laboration are from the Kitsune Network Attack Dataset, https://archive.ics.uci.edu/ml/datasets/Kitsune+Network+Attack+Dataset . We will focus on the 'Mirai' part of the dataset. Your task is to make a DNN that can classify if each attack is benign or malicious. The dataset has 116 covariates, but to make it a bit more difficult we will remove the first 24 covariates.\n",
    "\n",
    "You need to answer all questions in this notebook.\n",
    "\n",
    "If the training is too slow on your own computer, use the smaller datasets (*half or *quarter).\n",
    "\n",
    "Dense networks are not optimal for tabular datasets like the one used here, but here the main goal is to learn deep learning."
   ]
  },
  {
   "cell_type": "markdown",
   "metadata": {},
   "source": [
    "# Part 1: Get the data\n",
    "\n",
    "Skip this part if you load stored numpy arrays (Mirai*.npy) (which is recommended)\n",
    "\n",
    "Use `wget` in the terminal of your cloud machine (in the same directory as where you have saved this notebook) to download the data, i.e.\n",
    "\n",
    "wget https://archive.ics.uci.edu/ml/machine-learning-databases/00516/mirai/Mirai_dataset.csv.gz\n",
    "\n",
    "wget https://archive.ics.uci.edu/ml/machine-learning-databases/00516/mirai/Mirai_labels.csv.gz\n",
    "\n",
    "Then unpack the files using `gunzip` in the terminal, i.e.\n",
    "\n",
    "gunzip Mirai_dataset.csv.gz\n",
    "\n",
    "gunzip Mirai_labels.csv.gz"
   ]
  },
  {
   "cell_type": "markdown",
   "metadata": {},
   "source": [
    "# Part 2: Get a graphics card\n",
    "\n",
    "Skip this part if you run on the CPU (recommended)\n",
    "\n",
    "Lets make sure that our script can see the graphics card that will be used. The graphics cards will perform all the time consuming calculations in every training iteration."
   ]
  },
  {
   "cell_type": "code",
   "execution_count": 2,
   "metadata": {},
   "outputs": [
    {
     "name": "stdout",
     "output_type": "stream",
     "text": [
      "No GPU detected. The code will run on CPU.\n"
     ]
    }
   ],
   "source": [
    "import os\n",
    "import warnings\n",
    "\n",
    "# Ignore FutureWarning from numpy\n",
    "warnings.simplefilter(action='ignore', category=FutureWarning)\n",
    "\n",
    "import keras.backend as K\n",
    "import tensorflow as tf\n",
    "\n",
    "os.environ[\"CUDA_DEVICE_ORDER\"]=\"PCI_BUS_ID\";\n",
    " \n",
    "# The GPU id to use, usually either \"0\" or \"1\";\n",
    "os.environ[\"CUDA_VISIBLE_DEVICES\"]=\"0\";\n",
    "\n",
    "# Allow growth of GPU memory, otherwise it will always look like all the memory is being used\n",
    "physical_devices = tf.config.experimental.list_physical_devices('GPU')\n",
    "#tf.config.experimental.set_memory_growth(physical_devices[0], True) \n",
    "\n",
    "\n",
    "# Check if any GPU is detected\n",
    "if physical_devices:\n",
    "    tf.config.experimental.set_memory_growth(physical_devices[0], True)\n",
    "else:\n",
    "    print(\"No GPU detected. The code will run on CPU.\")"
   ]
  },
  {
   "cell_type": "markdown",
   "metadata": {},
   "source": [
    "# Part 3: Hardware\n",
    "\n",
    "In deep learning, the computer hardware is very important. You should always know what kind of hardware you are working on. Lets pretend that everyone is using an Nvidia RTX 3090 graphics card.\n",
    "\n",
    "Question 1: Google the name of the graphics card, how many CUDA cores does it have?\n",
    "\n",
    "<span style=\"color:blue\">The Nvidia RTX 3090 graphics card has 10,496 CUDA cores1</span>\n",
    " \n",
    "<span style=\"color:blue\">reference: https://www.nvidia.com/sv-se/geforce/graphics-cards/30-series/rtx-3090-3090ti/</span>\n",
    "\n",
    "Question 2: How much memory does the graphics card have?\n",
    "\n",
    "<span style=\"color:blue\">The Nvidia RTX 3090 graphics card has 24 GB of GDDR6X memory</span>\n",
    "\n",
    "Question 3: What is stored in the GPU memory while training a DNN ?\n",
    "\n",
    "<span style=\"color:blue\">While training a Deep Neural Network (DNN), the GPU memory stores the following:</span>\n",
    "\n",
    "<span style=\"color:blue\">Model Parameters: These include the weights and biases for each layer in the network.</span>\n",
    "\n",
    "<span style=\"color:blue\">Intermediate Computations: The outputs of each layer in the network are stored for backpropagation.</span>\n",
    "\n",
    "<span style=\"color:blue\">Optimizer States: If the optimizer maintains a state (like in Adam or RMSprop), these are also stored in the GPU memory.</span>\n",
    "\n",
    "<span style=\"color:blue\">Mini-batch Data: The input data for the current mini-batch is loaded into GPU memory.</span>"
   ]
  },
  {
   "cell_type": "markdown",
   "metadata": {},
   "source": [
    "# Part 4: Load the data\n",
    "\n",
    "To make this step easier, directly load the data from saved numpy arrays (.npy) (recommended)\n",
    "\n",
    "\n",
    "Load the dataset from the csv files, it will take some time since it is almost 1.4 GB. (not recommended, unless you want to learn how to do it)\n",
    "\n",
    "We will use the function `genfromtxt` to load the data. (not recommended, unless you want to learn how to do it)\n",
    "\n",
    "https://docs.scipy.org/doc/numpy/reference/generated/numpy.genfromtxt.html\n",
    "\n",
    "Load the data from csv files the first time, then save the data as numpy files for faster loading the next time.\n",
    "\n",
    "Remove the first 24 covariates to make the task harder."
   ]
  },
  {
   "cell_type": "code",
   "execution_count": 65,
   "metadata": {},
   "outputs": [
    {
     "name": "stdout",
     "output_type": "stream",
     "text": [
      "The covariates have size (764137, 92).\n",
      "The labels have size (764137,).\n",
      "Class 0: 121621 examples\n",
      "Class 1: 642516 examples\n"
     ]
    }
   ],
   "source": [
    "from numpy import genfromtxt # Not needed if you load data from numpy arrays\n",
    "import numpy as np\n",
    "\n",
    "# Load data from numpy arrays, choose reduced files if the training takes too long\n",
    "X = np.load('Mirai_data.npy')\n",
    "Y = np.load('Mirai_labels.npy')\n",
    "\n",
    "\n",
    "\n",
    "# Remove the first 24 covariates (columns)\n",
    "X = X[:, 24:]\n",
    "\n",
    "print('The covariates have size {}.'.format(X.shape))\n",
    "print('The labels have size {}.'.format(Y.shape))\n",
    "\n",
    "# Print the number of examples of each class    \n",
    "unique, counts = np.unique(Y, return_counts=True)\n",
    "for unique_classe, count in zip(unique, counts):\n",
    "    print(f\"Class {int(unique_classe)}: {count} examples\")"
   ]
  },
  {
   "cell_type": "markdown",
   "metadata": {},
   "source": [
    "# Part 5: How good is a naive classifier?\n",
    "\n",
    "Question 4: Given the number of examples from each class, how high classification performance can a naive classifier obtain? The naive classifier will assume that all examples belong to one class. Note: you do not need to make a naive classifier, this is a theoretical question, just to understand how good performance we can obtain by guessing that all examples belong to one class.\n",
    "\n",
    "In all classification tasks you should always ask these questions\n",
    "\n",
    "- How good classification accuracy can a naive classifier obtain? The naive classifier will assume that all examples belong to one class.\n",
    "- What is random chance classification accuracy if you randomly guess the label of each (test) example? For a balanced dataset and binary classification this is easy (50%), but in many cases it is more complicated and a Monte Carlo simulation may be required to estimate random chance accuracy.\n",
    "\n",
    "If your classifier cannot perform better than a naive classifier or a random classifier, you are doing something wrong.\n"
   ]
  },
  {
   "cell_type": "code",
   "execution_count": 66,
   "metadata": {},
   "outputs": [
    {
     "name": "stdout",
     "output_type": "stream",
     "text": [
      "A naive classifier, which always predicts the most common class, would have an accuracy of 0.8408387501194158.\n",
      "The labels have 0 NaNs.\n",
      "The covariates have 0 NaNs.\n"
     ]
    }
   ],
   "source": [
    "# It is common to have NaNs in the data, lets check for it. Hint: np.isnan()\n",
    "most_common_class_count = max(counts)\n",
    "total_examples = sum(counts)\n",
    "naive_classifier_accuracy = most_common_class_count / total_examples\n",
    "print(f\"A naive classifier, which always predicts the most common class, would have an accuracy of {naive_classifier_accuracy}.\")\n",
    "\n",
    "# Print the number of NaNs (not a number) in the labels\n",
    "nan_in_labels = np.isnan(Y).sum()\n",
    "nan_in_covariates = np.isnan(X).sum()\n",
    "\n",
    "\n",
    "# Print the number of NaNs in the covariates\n",
    "print(f\"The labels have {nan_in_labels} NaNs.\")\n",
    "print(f\"The covariates have {nan_in_covariates} NaNs.\")\n",
    "\n"
   ]
  },
  {
   "cell_type": "markdown",
   "metadata": {},
   "source": [
    "# Part 6: Preprocessing\n",
    "\n",
    "Lets do some simple preprocessing"
   ]
  },
  {
   "cell_type": "code",
   "execution_count": 67,
   "metadata": {},
   "outputs": [
    {
     "name": "stdout",
     "output_type": "stream",
     "text": [
      "Mean: [-3.19451533e-18 -6.32970181e-14  1.19926356e-13  4.56743018e-15\n",
      "  4.10210037e-14  1.46130975e-13  5.85246484e-16 -1.69734859e-14\n",
      " -3.36915700e-13  1.28688437e-12 -2.69360995e-12 -1.10733213e-13\n",
      " -1.22392702e-13 -1.70649630e-13 -1.02461166e-14  2.50701280e-12\n",
      "  1.47553162e-12  1.08446837e-12 -1.04981959e-13  6.83458762e-14\n",
      " -1.03373555e-13  5.98825773e-14 -1.02025960e-12 -1.68983055e-12\n",
      " -1.79101143e-12 -1.31828514e-13  4.42580403e-13  6.14635580e-13\n",
      "  5.78048199e-14 -4.92623328e-13 -2.54513072e-12  1.86544900e-13\n",
      " -1.53444593e-13  1.68079591e-12  9.30041709e-13  1.50738177e-13\n",
      " -1.15688852e-12 -3.62610361e-13 -1.71390937e-12 -2.09264067e-13\n",
      "  1.07161976e-12 -1.45236885e-12 -1.69724579e-14 -1.64918984e-16\n",
      " -5.13444996e-14 -1.02171349e-14 -1.74685907e-15  1.34264921e-13\n",
      "  5.98801969e-14  1.48745574e-17 -4.25442340e-13  5.78079594e-14\n",
      "  1.25638129e-15  1.69449684e-13  1.50725881e-13  2.14439542e-14\n",
      "  3.65457183e-14  1.17260451e-13 -8.82752870e-13 -6.34816648e-13\n",
      " -1.62109649e-12  2.63270303e-13 -7.57215123e-15 -2.89395002e-14\n",
      " -3.90180996e-13 -1.53167085e-12 -9.57913621e-13  2.47411065e-13\n",
      "  2.44200541e-13 -6.73050928e-15  1.07502596e-13  2.58222203e-13\n",
      " -1.87714601e-13 -1.19882476e-12 -2.17154862e-12  5.48444735e-14\n",
      "  5.46183481e-15  3.71315442e-14  1.47576646e-13 -1.62639245e-12\n",
      " -1.23986972e-13 -1.71744315e-12  5.29956657e-13 -3.21442452e-14\n",
      " -4.59767392e-14  3.56347870e-13 -1.48544246e-12 -1.26642728e-13\n",
      "  1.52633871e-13  9.58048710e-14  4.34603426e-14 -4.07615740e-14]\n",
      "Standard deviation: [1. 1. 1. 1. 1. 1. 1. 1. 1. 1. 1. 1. 1. 1. 1. 1. 1. 1. 1. 1. 1. 1. 1. 1.\n",
      " 1. 1. 1. 1. 1. 1. 1. 1. 1. 1. 1. 1. 1. 1. 1. 1. 1. 1. 1. 1. 1. 1. 1. 1.\n",
      " 1. 1. 1. 1. 1. 1. 1. 1. 1. 1. 1. 1. 1. 1. 1. 1. 1. 1. 1. 1. 1. 1. 1. 1.\n",
      " 1. 1. 1. 1. 1. 1. 1. 1. 1. 1. 1. 1. 1. 1. 1. 1. 1. 1. 1. 1.]\n"
     ]
    }
   ],
   "source": [
    "# Convert covariates to floats\n",
    "X = X.astype(float)\n",
    "\n",
    "# Convert labels to integers\n",
    "Y = Y.astype(int)\n",
    "\n",
    "# Remove mean of each covariate (column)\n",
    "X = X - np.mean(X, axis=0)\n",
    "\n",
    "\n",
    "# Divide each covariate (column) by its standard deviation\n",
    "X = X / np.std(X, axis=0)\n",
    "\n",
    "# Check that mean is 0 and standard deviation is 1 for all covariates, by printing mean and std\n",
    "print('Mean:', np.mean(X, axis=0))\n",
    "print('Standard deviation:', np.std(X, axis=0))\n"
   ]
  },
  {
   "cell_type": "markdown",
   "metadata": {},
   "source": [
    "# Part 7: Split the dataset\n",
    "\n",
    "Use the first 70% of the dataset for training, leave the other 30% for validation and test, call the variables\n",
    "\n",
    "Xtrain (70%)\n",
    "\n",
    "Xtemp  (30%)\n",
    "\n",
    "Ytrain (70%)\n",
    "\n",
    "Ytemp  (30%)\n",
    "\n",
    "We use a function from scikit learn.\n",
    "https://scikit-learn.org/stable/modules/generated/sklearn.model_selection.train_test_split.html\n"
   ]
  },
  {
   "cell_type": "code",
   "execution_count": 71,
   "metadata": {},
   "outputs": [
    {
     "name": "stdout",
     "output_type": "stream",
     "text": [
      "Xtrain has size (534895, 92).\n",
      "Ytrain has size (534895,).\n",
      "Xtemp has size (229242, 92).\n",
      "Ytemp has size (229242,).\n",
      "\n",
      "Number of examples of each class in the training data: \n",
      "Class 0: 85248 examples\n",
      "Class 1: 449647 examples\n",
      "\n",
      "Number of examples of each class in the remaining 30% data: \n",
      "Class 0: 36373 examples\n",
      "Class 1: 192869 examples\n"
     ]
    }
   ],
   "source": [
    "from sklearn.model_selection import train_test_split\n",
    "\n",
    "# Your code to split the dataset\n",
    "Xtrain, Xtemp, Ytrain, Ytemp = train_test_split(X, Y, test_size=0.3, random_state=42)\n",
    "\n",
    "\n",
    "print('Xtrain has size {}.'.format(Xtrain.shape))\n",
    "print('Ytrain has size {}.'.format(Ytrain.shape))\n",
    "\n",
    "print('Xtemp has size {}.'.format(Xtemp.shape))\n",
    "print('Ytemp has size {}.'.format(Ytemp.shape))\n",
    "\n",
    "# Print the number of examples of each class, for the training data and the remaining 30%\n",
    "unique_train, counts_train = np.unique(Ytrain, return_counts=True)\n",
    "print(\"\\nNumber of examples of each class in the training data: \")\n",
    "for unique_train_class, count_train in zip(unique_train, counts_train):\n",
    "    print(f\"Class {int(unique_train_class)}: {count_train} examples\")\n",
    "\n",
    "    \n",
    "unique_temp, counts_temp = np.unique(Ytemp, return_counts=True)\n",
    "print(\"\\nNumber of examples of each class in the remaining 30% data: \")\n",
    "for unique_temp_class, count_temp in zip(unique_temp, counts_temp):\n",
    "    print(f\"Class {int(unique_temp_class)}: {count_temp} examples\")\n"
   ]
  },
  {
   "cell_type": "markdown",
   "metadata": {},
   "source": [
    "#  Part 8: Split non-training data data into validation and test\n",
    "Now split your non-training data (Xtemp, Ytemp) into 50% validation (Xval, Yval) and 50% testing (Xtest, Ytest), we use a function from scikit learn. In total this gives us 70% for training, 15% for validation, 15% for test.\n",
    "\n",
    "https://scikit-learn.org/stable/modules/generated/sklearn.model_selection.train_test_split.html\n",
    "\n",
    "Do all variables (Xtrain,Ytrain), (Xval,Yval), (Xtest,Ytest) have the shape that you expect?"
   ]
  },
  {
   "cell_type": "code",
   "execution_count": 7,
   "metadata": {},
   "outputs": [
    {
     "name": "stdout",
     "output_type": "stream",
     "text": [
      "Number of examples of each class in the validation data:  {0: 18291, 1: 96330}\n",
      "Number of examples of each class in the test data:  {0: 18082, 1: 96539}\n",
      "The validation and test data have size (114621, 92), (114621, 92), (114621,) and (114621,)\n"
     ]
    }
   ],
   "source": [
    "from sklearn.model_selection import train_test_split\n",
    "\n",
    "# Your code\n",
    "Xval, Xtest, Yval, Ytest = train_test_split(Xtemp, Ytemp, test_size=0.5, random_state=42)\n",
    "\n",
    "unique_val, counts_val = np.unique(Yval, return_counts=True)\n",
    "print(\"Number of examples of each class in the validation data: \", dict(zip(unique_val, counts_val)))\n",
    "\n",
    "unique_test, counts_test = np.unique(Ytest, return_counts=True)\n",
    "print(\"Number of examples of each class in the test data: \", dict(zip(unique_test, counts_test)))\n",
    "\n",
    "print('The validation and test data have size {}, {}, {} and {}'.format(Xval.shape, Xtest.shape, Yval.shape, Ytest.shape))"
   ]
  },
  {
   "cell_type": "markdown",
   "metadata": {},
   "source": [
    "# Part 9: DNN classification\n",
    "\n",
    "Finish this code to create a first version of the classifier using a DNN. Start with a simple network with 2 dense layers (with 20 nodes each), using sigmoid activation functions. The final dense layer should have a single node and a sigmoid activation function. We start with the SGD optimizer.\n",
    "\n",
    "For different parts of this notebook you need to go back here, add more things, and re-run this cell to re-define the build function.\n",
    "\n",
    "Relevant functions are\n",
    "\n",
    "`model.add()`, adds a layer to the network\n",
    "\n",
    "`Dense()`, a dense network layer\n",
    "\n",
    "`model.compile()`, compile the model, add \" metrics=['accuracy'] \" to print the classification accuracy during the training\n",
    "\n",
    "See https://keras.io/layers/core/ for information on how the `Dense()` function works\n",
    "\n",
    "Import a relevant cost / loss function for binary classification from keras.losses (https://keras.io/losses/)\n",
    "\n",
    "See the following links for how to compile, train and evaluate the model\n",
    "\n",
    "https://keras.io/api/models/model_training_apis/#compile-method\n",
    "\n",
    "https://keras.io/api/models/model_training_apis/#fit-method\n",
    "\n",
    "https://keras.io/api/models/model_training_apis/#evaluate-method\n",
    "\n",
    "Make sure that the last layer always has a sigmoid activation function (why?).\n"
   ]
  },
  {
   "cell_type": "code",
   "execution_count": 77,
   "metadata": {},
   "outputs": [],
   "source": [
    "from keras.models import Sequential, Model\n",
    "from keras.layers import Input, Dense\n",
    "from tensorflow.keras.optimizers import SGD\n",
    "from keras.losses import SparseCategoricalCrossentropy\n",
    "\n",
    "# Set seed from random number generator, for better comparisons\n",
    "from numpy.random import seed\n",
    "seed(123)\n",
    "\n",
    "def build_DNN(input_shape, n_layers, n_nodes, act_fun='sigmoid', optimizer='sgd', learning_rate=0.01, \n",
    "              use_bn=False, use_dropout=False, use_custom_dropout=False):\n",
    "    \n",
    "    # Setup optimizer, depending on input parameter string\n",
    "    if optimizer == 'sgd':\n",
    "        optimizer = SGD(learning_rate=learning_rate)\n",
    "        \n",
    "    # Setup a sequential model\n",
    "    model = Sequential()\n",
    "\n",
    "    \n",
    "    # Add first layer, requires input shape\n",
    "    model.add(Dense(n_nodes, activation=act_fun, input_shape=input_shape))\n",
    "    \n",
    "    # Add remaining layers, do not require input shape\n",
    "    for i in range(n_layers-1):\n",
    "        model.add(Dense(n_nodes, activation=act_fun))\n",
    "    \n",
    "    \n",
    "    # Add final layer\n",
    "    model.add(Dense(1, activation='sigmoid'))  \n",
    "    \n",
    "    # Compile model\n",
    "    model.compile(loss='binary_crossentropy', optimizer=optimizer, metrics=['accuracy'])\n",
    "    \n",
    "    return model"
   ]
  },
  {
   "cell_type": "code",
   "execution_count": 78,
   "metadata": {},
   "outputs": [],
   "source": [
    "# Lets define a help function for plotting the training results\n",
    "\n",
    "import matplotlib.pyplot as plt\n",
    "def plot_results(history):\n",
    "    \n",
    "    val_loss = history.history['val_loss']\n",
    "    acc = history.history['accuracy']\n",
    "    loss = history.history['loss']\n",
    "    val_acc = history.history['val_accuracy']\n",
    "    \n",
    "    plt.figure(figsize=(10,4))\n",
    "    plt.xlabel('Epochs')\n",
    "    plt.ylabel('Loss')\n",
    "    plt.plot(loss)\n",
    "    plt.plot(val_loss)\n",
    "    plt.legend(['Training','Validation'])\n",
    "\n",
    "    plt.figure(figsize=(10,4))\n",
    "    plt.xlabel('Epochs')\n",
    "    plt.ylabel('Accuracy')\n",
    "    plt.plot(acc)\n",
    "    plt.plot(val_acc)\n",
    "    plt.legend(['Training','Validation'])\n",
    "\n",
    "    plt.show()"
   ]
  },
  {
   "cell_type": "markdown",
   "metadata": {},
   "source": [
    "# Part 10: Train the DNN\n",
    "\n",
    "Time to train the DNN, we start simple with 2 layers with 20 nodes each, learning rate 0.1.\n",
    "\n",
    "Relevant functions\n",
    "\n",
    "`build_DNN`, the function we defined in Part 9, call it with the parameters you want to use\n",
    "\n",
    "`model.fit()`, train the model with some training data\n",
    "\n",
    "`model.evaluate()`, apply the trained model to some test data\n",
    "\n",
    "See the following links for how to train and evaluate the model\n",
    "\n",
    "https://keras.io/api/models/model_training_apis/#fit-method\n",
    "\n",
    "https://keras.io/api/models/model_training_apis/#evaluate-method\n",
    "\n",
    "\n",
    "Make sure that you are using learning rate 0.1 !"
   ]
  },
  {
   "cell_type": "markdown",
   "metadata": {},
   "source": [
    "### 2 layers, 20 nodes"
   ]
  },
  {
   "cell_type": "code",
   "execution_count": 79,
   "metadata": {
    "scrolled": true
   },
   "outputs": [
    {
     "name": "stdout",
     "output_type": "stream",
     "text": [
      "Epoch 1/20\n",
      "54/54 [==============================] - 2s 24ms/step - loss: 0.4437 - accuracy: 0.8155 - val_loss: 0.3910 - val_accuracy: 0.8404\n",
      "Epoch 2/20\n",
      "54/54 [==============================] - 0s 8ms/step - loss: 0.3692 - accuracy: 0.8406 - val_loss: 0.3446 - val_accuracy: 0.8404\n",
      "Epoch 3/20\n",
      "54/54 [==============================] - 0s 8ms/step - loss: 0.3191 - accuracy: 0.8406 - val_loss: 0.2918 - val_accuracy: 0.8404\n",
      "Epoch 4/20\n",
      "54/54 [==============================] - 0s 7ms/step - loss: 0.2696 - accuracy: 0.8406 - val_loss: 0.2477 - val_accuracy: 0.8403\n",
      "Epoch 5/20\n",
      "54/54 [==============================] - 0s 6ms/step - loss: 0.2339 - accuracy: 0.8527 - val_loss: 0.2203 - val_accuracy: 0.8658\n",
      "Epoch 6/20\n",
      "54/54 [==============================] - 0s 7ms/step - loss: 0.2134 - accuracy: 0.8793 - val_loss: 0.2053 - val_accuracy: 0.8927\n",
      "Epoch 7/20\n",
      "54/54 [==============================] - 0s 7ms/step - loss: 0.2020 - accuracy: 0.8957 - val_loss: 0.1967 - val_accuracy: 0.9025\n",
      "Epoch 8/20\n",
      "54/54 [==============================] - 0s 8ms/step - loss: 0.1953 - accuracy: 0.9021 - val_loss: 0.1913 - val_accuracy: 0.9047\n",
      "Epoch 9/20\n",
      "54/54 [==============================] - 0s 7ms/step - loss: 0.1908 - accuracy: 0.9028 - val_loss: 0.1875 - val_accuracy: 0.9052\n",
      "Epoch 10/20\n",
      "54/54 [==============================] - 0s 7ms/step - loss: 0.1876 - accuracy: 0.9037 - val_loss: 0.1847 - val_accuracy: 0.9058\n",
      "Epoch 11/20\n",
      "54/54 [==============================] - 0s 7ms/step - loss: 0.1850 - accuracy: 0.9044 - val_loss: 0.1824 - val_accuracy: 0.9068\n",
      "Epoch 12/20\n",
      "54/54 [==============================] - 0s 7ms/step - loss: 0.1829 - accuracy: 0.9054 - val_loss: 0.1804 - val_accuracy: 0.9077\n",
      "Epoch 13/20\n",
      "54/54 [==============================] - 0s 7ms/step - loss: 0.1811 - accuracy: 0.9062 - val_loss: 0.1787 - val_accuracy: 0.9084\n",
      "Epoch 14/20\n",
      "54/54 [==============================] - 0s 7ms/step - loss: 0.1795 - accuracy: 0.9069 - val_loss: 0.1772 - val_accuracy: 0.9091\n",
      "Epoch 15/20\n",
      "54/54 [==============================] - 0s 7ms/step - loss: 0.1781 - accuracy: 0.9075 - val_loss: 0.1759 - val_accuracy: 0.9097\n",
      "Epoch 16/20\n",
      "54/54 [==============================] - 0s 7ms/step - loss: 0.1768 - accuracy: 0.9081 - val_loss: 0.1747 - val_accuracy: 0.9102\n",
      "Epoch 17/20\n",
      "54/54 [==============================] - 0s 7ms/step - loss: 0.1757 - accuracy: 0.9086 - val_loss: 0.1736 - val_accuracy: 0.9106\n",
      "Epoch 18/20\n",
      "54/54 [==============================] - 0s 7ms/step - loss: 0.1747 - accuracy: 0.9088 - val_loss: 0.1726 - val_accuracy: 0.9107\n",
      "Epoch 19/20\n",
      "54/54 [==============================] - 0s 7ms/step - loss: 0.1737 - accuracy: 0.9091 - val_loss: 0.1717 - val_accuracy: 0.9108\n",
      "Epoch 20/20\n",
      "54/54 [==============================] - 0s 7ms/step - loss: 0.1729 - accuracy: 0.9092 - val_loss: 0.1709 - val_accuracy: 0.9108\n"
     ]
    }
   ],
   "source": [
    "# Setup some training parameters\n",
    "batch_size = 10000\n",
    "epochs = 20\n",
    "\n",
    "input_shape = (Xtrain.shape[1],)\n",
    "\n",
    "# Build the model\n",
    "model1 = build_DNN(input_shape, n_layers=2, n_nodes=20, learning_rate=0.1)\n",
    "\n",
    "# Train the model, provide training data and validation data\n",
    "history1 =  model1.fit(Xtrain, Ytrain, batch_size=batch_size, epochs=epochs, verbose=1, validation_data=(Xval, Yval))"
   ]
  },
  {
   "cell_type": "code",
   "execution_count": 80,
   "metadata": {},
   "outputs": [
    {
     "name": "stdout",
     "output_type": "stream",
     "text": [
      "Test loss: 0.1714\n",
      "Test accuracy: 0.9093\n"
     ]
    }
   ],
   "source": [
    "# Evaluate the model on the test data\n",
    "score = model1.evaluate(Xtest, Ytest, verbose=0)\n",
    "\n",
    "print('Test loss: %.4f' % score[0])\n",
    "print('Test accuracy: %.4f' % score[1])"
   ]
  },
  {
   "cell_type": "code",
   "execution_count": 81,
   "metadata": {},
   "outputs": [
    {
     "data": {
      "image/png": "[encoded data removed]",
      "text/plain": [
       "<Figure size 720x288 with 1 Axes>"
      ]
     },
     "metadata": {
      "needs_background": "light"
     },
     "output_type": "display_data"
    },
    {
     "data": {
      "image/png": "[encoded data removed]",
      "text/plain": [
       "<Figure size 720x288 with 1 Axes>"
      ]
     },
     "metadata": {
      "needs_background": "light"
     },
     "output_type": "display_data"
    }
   ],
   "source": [
    "# Plot the history from the training run\n",
    "plot_results(history1)"
   ]
  },
  {
   "cell_type": "markdown",
   "metadata": {},
   "source": [
    "# Part 11: More questions\n",
    "\n",
    "Question 5: What happens if you add several Dense layers without specifying the activation function?\n",
    "\n",
    "<span style=\"color:blue\">If adding several Dense layers in Keras without specifying an activation function, the layers will have a linear activation function by default in Keras. This means that they will not apply any activation function to their input, they will just pass it on. If stacking several of these layers together, they will still behave as a single layer, because the composition of linear functions is still a linear function. This is why it’s important to add a non-linear activation function between the Dense layers: it allows the stack of layers to model more complex patterns.</span>\n",
    "\n",
    "\n",
    "Question 6: How are the weights in each dense layer initialized as default? How are the bias weights initialized?\n",
    "\n",
    "<span style=\"color:blue\">In Keras, the weights in each Dense layer are initialized using ‘Glorot Uniform’ initializer, also known as the Xavier uniform initializer. It draws samples from a uniform distribution within [-limit, limit], where limit is sqrt(6 / (fan_in + fan_out)) and fan_in is the number of input units in the weight tensor and fan_out is the number of output units. The bias weights in each Dense layer are initialized with zeros by default. This is a common and safe practice because the bias terms are independent of the input data, and setting them to zero doesn’t prevent the model from learning appropriate bias values during training.</span>\n"
   ]
  },
  {
   "cell_type": "markdown",
   "metadata": {},
   "source": [
    "# Part 12: Balancing the classes\n",
    "\n",
    "This dataset is rather unbalanced, we need to define class weights so that the training pays more attention to the class with fewer samples. We use a function in scikit learn\n",
    "\n",
    "https://scikit-learn.org/stable/modules/generated/sklearn.utils.class_weight.compute_class_weight.html\n",
    "\n",
    "You need to call the function something like this\n",
    "\n",
    "class_weights = class_weight.compute_class_weight(class_weight = , classes = , y = )\n",
    "\n",
    "otherwise it will complain"
   ]
  },
  {
   "cell_type": "code",
   "execution_count": 82,
   "metadata": {},
   "outputs": [
    {
     "name": "stdout",
     "output_type": "stream",
     "text": [
      "Class weights:  [3.13728768 0.59479436]\n",
      "Class weights in Keras format:  {0: 3.1372876783033035, 1: 0.5947943609097803}\n"
     ]
    }
   ],
   "source": [
    "from sklearn.utils import class_weight\n",
    "\n",
    "# Calculate class weights\n",
    "class_weights = class_weight.compute_class_weight('balanced', np.unique(Ytrain), Ytrain)\n",
    "\n",
    "\n",
    "# Print the class weights\n",
    "print(\"Class weights: \", class_weights)\n",
    "\n",
    "# Keras wants the weights in this form, uncomment and change value1 and value2 to your weights, \n",
    "# or get them from the array that is returned from class_weight\n",
    "\n",
    "class_weights = {i : class_weights[i] for i in range(len(class_weights))}\n",
    "\n",
    "print(\"Class weights in Keras format: \", class_weights)"
   ]
  },
  {
   "cell_type": "markdown",
   "metadata": {},
   "source": [
    "### 2 layers, 20 nodes, class weights"
   ]
  },
  {
   "cell_type": "code",
   "execution_count": 83,
   "metadata": {
    "scrolled": true
   },
   "outputs": [
    {
     "name": "stdout",
     "output_type": "stream",
     "text": [
      "Epoch 1/20\n",
      "54/54 [==============================] - 2s 19ms/step - loss: 0.6278 - accuracy: 0.8095 - val_loss: 0.5582 - val_accuracy: 0.8813\n",
      "Epoch 2/20\n",
      "54/54 [==============================] - 0s 8ms/step - loss: 0.4577 - accuracy: 0.8795 - val_loss: 0.3998 - val_accuracy: 0.8815\n",
      "Epoch 3/20\n",
      "54/54 [==============================] - 0s 8ms/step - loss: 0.3244 - accuracy: 0.8796 - val_loss: 0.3180 - val_accuracy: 0.8816\n",
      "Epoch 4/20\n",
      "54/54 [==============================] - 0s 7ms/step - loss: 0.2645 - accuracy: 0.8797 - val_loss: 0.2895 - val_accuracy: 0.8816\n",
      "Epoch 5/20\n",
      "54/54 [==============================] - 0s 7ms/step - loss: 0.2407 - accuracy: 0.8797 - val_loss: 0.2766 - val_accuracy: 0.8816\n",
      "Epoch 6/20\n",
      "54/54 [==============================] - 0s 7ms/step - loss: 0.2292 - accuracy: 0.8797 - val_loss: 0.2697 - val_accuracy: 0.8817\n",
      "Epoch 7/20\n",
      "54/54 [==============================] - 0s 7ms/step - loss: 0.2225 - accuracy: 0.8798 - val_loss: 0.2655 - val_accuracy: 0.8818\n",
      "Epoch 8/20\n",
      "54/54 [==============================] - 0s 7ms/step - loss: 0.2178 - accuracy: 0.8799 - val_loss: 0.2608 - val_accuracy: 0.8820\n",
      "Epoch 9/20\n",
      "54/54 [==============================] - 0s 7ms/step - loss: 0.2140 - accuracy: 0.8807 - val_loss: 0.2572 - val_accuracy: 0.8831\n",
      "Epoch 10/20\n",
      "54/54 [==============================] - 0s 6ms/step - loss: 0.2108 - accuracy: 0.8820 - val_loss: 0.2527 - val_accuracy: 0.8856\n",
      "Epoch 11/20\n",
      "54/54 [==============================] - 0s 6ms/step - loss: 0.2080 - accuracy: 0.8850 - val_loss: 0.2507 - val_accuracy: 0.8883\n",
      "Epoch 12/20\n",
      "54/54 [==============================] - 0s 6ms/step - loss: 0.2054 - accuracy: 0.8883 - val_loss: 0.2489 - val_accuracy: 0.8916\n",
      "Epoch 13/20\n",
      "54/54 [==============================] - 0s 6ms/step - loss: 0.2031 - accuracy: 0.8907 - val_loss: 0.2462 - val_accuracy: 0.8934\n",
      "Epoch 14/20\n",
      "54/54 [==============================] - 0s 6ms/step - loss: 0.2009 - accuracy: 0.8922 - val_loss: 0.2425 - val_accuracy: 0.8953\n",
      "Epoch 15/20\n",
      "54/54 [==============================] - 0s 6ms/step - loss: 0.1988 - accuracy: 0.8937 - val_loss: 0.2404 - val_accuracy: 0.8964\n",
      "Epoch 16/20\n",
      "54/54 [==============================] - 0s 6ms/step - loss: 0.1968 - accuracy: 0.8949 - val_loss: 0.2389 - val_accuracy: 0.8974\n",
      "Epoch 17/20\n",
      "54/54 [==============================] - 0s 6ms/step - loss: 0.1950 - accuracy: 0.8957 - val_loss: 0.2369 - val_accuracy: 0.8981\n",
      "Epoch 18/20\n",
      "54/54 [==============================] - 0s 7ms/step - loss: 0.1934 - accuracy: 0.8963 - val_loss: 0.2351 - val_accuracy: 0.8985\n",
      "Epoch 19/20\n",
      "54/54 [==============================] - 0s 6ms/step - loss: 0.1919 - accuracy: 0.8967 - val_loss: 0.2341 - val_accuracy: 0.8988\n",
      "Epoch 20/20\n",
      "54/54 [==============================] - 0s 6ms/step - loss: 0.1904 - accuracy: 0.8971 - val_loss: 0.2326 - val_accuracy: 0.8994\n"
     ]
    }
   ],
   "source": [
    "# Setup some training parameters\n",
    "batch_size = 10000\n",
    "epochs = 20\n",
    "input_shape = (Xtrain.shape[1],) \n",
    "\n",
    "# Build and train model\n",
    "model2 = build_DNN(input_shape, n_layers=2, n_nodes=20, learning_rate=0.1)\n",
    "\n",
    "history2 = model2.fit(Xtrain, Ytrain, batch_size=batch_size, epochs=epochs, verbose=1, validation_data=(Xval, Yval), class_weight=class_weights)"
   ]
  },
  {
   "cell_type": "code",
   "execution_count": 84,
   "metadata": {},
   "outputs": [
    {
     "name": "stdout",
     "output_type": "stream",
     "text": [
      "Test loss: 0.2362\n",
      "Test accuracy: 0.8972\n"
     ]
    }
   ],
   "source": [
    "# Evaluate model on test data\n",
    "score = model2.evaluate(Xtest, Ytest, verbose=0)\n",
    "\n",
    "print('Test loss: %.4f' % score[0])\n",
    "print('Test accuracy: %.4f' % score[1])"
   ]
  },
  {
   "cell_type": "code",
   "execution_count": 20,
   "metadata": {},
   "outputs": [
    {
     "data": {
      "image/png": "[encoded data removed]",
      "text/plain": [
       "<Figure size 720x288 with 1 Axes>"
      ]
     },
     "metadata": {
      "needs_background": "light"
     },
     "output_type": "display_data"
    },
    {
     "data": {
      "image/png": "[encoded data removed]",
      "text/plain": [
       "<Figure size 720x288 with 1 Axes>"
      ]
     },
     "metadata": {
      "needs_background": "light"
     },
     "output_type": "display_data"
    }
   ],
   "source": [
    "plot_results(history2)"
   ]
  },
  {
   "cell_type": "markdown",
   "metadata": {},
   "source": [
    "# Part 13: More questions\n",
    "\n",
    "Skip questions 8 and 9 if you run on the CPU (recommended)\n",
    "\n",
    "Question 7: Why do we have to use a batch size? Why can't we simply use all data at once? This is more relevant for even larger datasets.\n",
    "\n",
    "<span style=\"color:blue\">We use a batch size because it’s not feasible to fit all data into memory at once, especially for large datasets. Also, using smaller batches makes the network update weights more frequently, leading to a faster convergence, and introduces some noise into the learning process, helping the model avoid local minima.</span>\n",
    "\n",
    "Question 8: How busy is the GPU for a batch size of 100? How much GPU memory is used? Hint: run 'nvidia-smi' on the computer a few times during training.\n",
    "\n",
    "Question 9: What is the processing time for one training epoch when the batch size is 100? What is the processing time for one epoch when the batch size is 1,000? What is the processing time for one epoch when the batch size is 10,000? Explain the results. \n",
    "\n",
    "Question 10: How many times are the weights in the DNN updated in each training epoch if the batch size is 100? How many times are the weights in the DNN updated in each training epoch if the batch size is 1,000? How many times are the weights in the DNN updated in each training epoch if the batch size is 10,000?  \n",
    "\n",
    "<span style=\"color:blue\">The weights in the DNN are updated after each batch is processed. So, if the batch size is 100, and having 10,000 examples, the weights are updated 10,000 / 100 = 100 times per epoch. Similarly, for batch sizes of 1,000 and 10,000, the weights would be updated 10 and 1 times per epoch, respectively.</span>\n",
    "\n",
    "Question 11: What limits how large the batch size can be?\n",
    "\n",
    "<span style=\"color:blue\">The maximum batch size is limited by the memory capacity of the hardware. If trying to use a batch size that is too large, it will run out of memory.</span>\n",
    "\n",
    "Question 12: Generally speaking, how is the learning rate related to the batch size? If the batch size is decreased, how should the learning rate be changed?\n",
    "\n",
    "<span style=\"color:blue\">If the batch size is decreased, the learning rate should also be decreased. This is because with a smaller batch size, the gradient estimate will have higher variance, and a high learning rate can amplify this variance, leading to unstable training.</span>\n",
    "\n",
    "Lets use a batch size of 10,000 from now on, and a learning rate of 0.1."
   ]
  },
  {
   "cell_type": "markdown",
   "metadata": {},
   "source": [
    "# Part 14: Increasing the complexity\n",
    "\n",
    "Lets try some different configurations of number of layers and number of nodes per layer.\n",
    "\n",
    "Question 13: How many trainable parameters does the network with 4 dense layers with 50 nodes each have, compared to the initial network with 2 layers and 20 nodes per layer? Hint: use model.summary()\n",
    "\n",
    "<span style=\"color:blue\"> * number_of_nodes. The “+1” is due to the bias terms, one for each node. For a network with 2 layers and 20 nodes per layer, assuming the input has n features:</span>\n",
    "\n",
    "<span style=\"color:blue\"> The first layer has (n + 1) * 20 parameters.</span>\n",
    "<span style=\"color:blue\"> The second layer has (20 + 1) * 20 parameters (since the input to this layer is the output of the first layer, which has 20 nodes).</span>\n",
    "\n",
    "<span style=\"color:blue\"> For a network with 4 layers and 50 nodes per layer:</span>\n",
    "\n",
    "<span style=\"color:blue\"> The first layer has (n + 1) * 50 parameters.</span>\n",
    "<span style=\"color:blue\"> Each of the next three layers has (50 + 1) * 50 parameters.</span>"
   ]
  },
  {
   "cell_type": "markdown",
   "metadata": {},
   "source": [
    "### 4 layers, 20 nodes, class weights"
   ]
  },
  {
   "cell_type": "code",
   "execution_count": 85,
   "metadata": {
    "scrolled": true
   },
   "outputs": [
    {
     "name": "stdout",
     "output_type": "stream",
     "text": [
      "Epoch 1/20\n",
      "54/54 [==============================] - 2s 18ms/step - loss: 0.6937 - accuracy: 0.5854 - val_loss: 0.6914 - val_accuracy: 0.8512\n",
      "Epoch 2/20\n",
      "54/54 [==============================] - 1s 10ms/step - loss: 0.6923 - accuracy: 0.5460 - val_loss: 0.6899 - val_accuracy: 0.8532\n",
      "Epoch 3/20\n",
      "54/54 [==============================] - 1s 10ms/step - loss: 0.6915 - accuracy: 0.6601 - val_loss: 0.6925 - val_accuracy: 0.7150\n",
      "Epoch 4/20\n",
      "54/54 [==============================] - 1s 10ms/step - loss: 0.6907 - accuracy: 0.6827 - val_loss: 0.6930 - val_accuracy: 0.4720\n",
      "Epoch 5/20\n",
      "54/54 [==============================] - 1s 11ms/step - loss: 0.6897 - accuracy: 0.7551 - val_loss: 0.6865 - val_accuracy: 0.8720\n",
      "Epoch 6/20\n",
      "54/54 [==============================] - 1s 10ms/step - loss: 0.6886 - accuracy: 0.8202 - val_loss: 0.6868 - val_accuracy: 0.8790\n",
      "Epoch 7/20\n",
      "54/54 [==============================] - 1s 10ms/step - loss: 0.6872 - accuracy: 0.8762 - val_loss: 0.6930 - val_accuracy: 0.4355\n",
      "Epoch 8/20\n",
      "54/54 [==============================] - 1s 11ms/step - loss: 0.6855 - accuracy: 0.8560 - val_loss: 0.6909 - val_accuracy: 0.7372\n",
      "Epoch 9/20\n",
      "54/54 [==============================] - 1s 10ms/step - loss: 0.6831 - accuracy: 0.8747 - val_loss: 0.6825 - val_accuracy: 0.8773\n",
      "Epoch 10/20\n",
      "54/54 [==============================] - 1s 9ms/step - loss: 0.6799 - accuracy: 0.8780 - val_loss: 0.6742 - val_accuracy: 0.8814\n",
      "Epoch 11/20\n",
      "54/54 [==============================] - 1s 9ms/step - loss: 0.6752 - accuracy: 0.8788 - val_loss: 0.6756 - val_accuracy: 0.8805\n",
      "Epoch 12/20\n",
      "54/54 [==============================] - 1s 10ms/step - loss: 0.6680 - accuracy: 0.8786 - val_loss: 0.6638 - val_accuracy: 0.8802\n",
      "Epoch 13/20\n",
      "54/54 [==============================] - 1s 10ms/step - loss: 0.6566 - accuracy: 0.8784 - val_loss: 0.6468 - val_accuracy: 0.8803\n",
      "Epoch 14/20\n",
      "54/54 [==============================] - 1s 10ms/step - loss: 0.6368 - accuracy: 0.8787 - val_loss: 0.6257 - val_accuracy: 0.8813\n",
      "Epoch 15/20\n",
      "54/54 [==============================] - 0s 9ms/step - loss: 0.6007 - accuracy: 0.8792 - val_loss: 0.5747 - val_accuracy: 0.8813\n",
      "Epoch 16/20\n",
      "54/54 [==============================] - 1s 10ms/step - loss: 0.5339 - accuracy: 0.8794 - val_loss: 0.4919 - val_accuracy: 0.8813\n",
      "Epoch 17/20\n",
      "54/54 [==============================] - 1s 9ms/step - loss: 0.4299 - accuracy: 0.8794 - val_loss: 0.3848 - val_accuracy: 0.8814\n",
      "Epoch 18/20\n",
      "54/54 [==============================] - 1s 10ms/step - loss: 0.3269 - accuracy: 0.8795 - val_loss: 0.3141 - val_accuracy: 0.8815\n",
      "Epoch 19/20\n",
      "54/54 [==============================] - 1s 9ms/step - loss: 0.2669 - accuracy: 0.8796 - val_loss: 0.2841 - val_accuracy: 0.8816\n",
      "Epoch 20/20\n",
      "54/54 [==============================] - 0s 8ms/step - loss: 0.2398 - accuracy: 0.8797 - val_loss: 0.2726 - val_accuracy: 0.8816\n"
     ]
    }
   ],
   "source": [
    "# Setup some training parameters\n",
    "batch_size = 10000\n",
    "epochs = 20\n",
    "input_shape = (Xtrain.shape[1],)\n",
    "\n",
    "# Build and train model\n",
    "model3 = build_DNN(input_shape, n_layers=4, n_nodes=20, learning_rate=0.1)\n",
    "\n",
    "history3 = model3.fit(Xtrain, Ytrain, batch_size=batch_size, epochs=epochs, verbose=1, validation_data=(Xval, Yval), class_weight=class_weights)"
   ]
  },
  {
   "cell_type": "code",
   "execution_count": 86,
   "metadata": {},
   "outputs": [
    {
     "name": "stdout",
     "output_type": "stream",
     "text": [
      "Test loss: 0.2760\n",
      "Test accuracy: 0.8796\n"
     ]
    }
   ],
   "source": [
    "# Evaluate model on test data\n",
    "score = model3.evaluate(Xtest, Ytest, verbose=0)\n",
    "\n",
    "print('Test loss: %.4f' % score[0])\n",
    "print('Test accuracy: %.4f' % score[1])"
   ]
  },
  {
   "cell_type": "code",
   "execution_count": 87,
   "metadata": {},
   "outputs": [
    {
     "data": {
      "image/png": "[encoded data removed]",
      "text/plain": [
       "<Figure size 720x288 with 1 Axes>"
      ]
     },
     "metadata": {
      "needs_background": "light"
     },
     "output_type": "display_data"
    },
    {
     "data": {
      "image/png": "[encoded data removed]",
      "text/plain": [
       "<Figure size 720x288 with 1 Axes>"
      ]
     },
     "metadata": {
      "needs_background": "light"
     },
     "output_type": "display_data"
    }
   ],
   "source": [
    "plot_results(history3)"
   ]
  },
  {
   "cell_type": "markdown",
   "metadata": {},
   "source": [
    "### 2 layers, 50 nodes, class weights"
   ]
  },
  {
   "cell_type": "code",
   "execution_count": 88,
   "metadata": {
    "scrolled": true
   },
   "outputs": [
    {
     "name": "stdout",
     "output_type": "stream",
     "text": [
      "Epoch 1/20\n",
      "54/54 [==============================] - 4s 59ms/step - loss: 0.5961 - accuracy: 0.7843 - val_loss: 0.4808 - val_accuracy: 0.8824\n",
      "Epoch 2/20\n",
      "54/54 [==============================] - 1s 11ms/step - loss: 0.3724 - accuracy: 0.8807 - val_loss: 0.3231 - val_accuracy: 0.8822\n",
      "Epoch 3/20\n",
      "54/54 [==============================] - 1s 11ms/step - loss: 0.2642 - accuracy: 0.8813 - val_loss: 0.2795 - val_accuracy: 0.8838\n",
      "Epoch 4/20\n",
      "54/54 [==============================] - 1s 12ms/step - loss: 0.2333 - accuracy: 0.8834 - val_loss: 0.2657 - val_accuracy: 0.8869\n",
      "Epoch 5/20\n",
      "54/54 [==============================] - 1s 11ms/step - loss: 0.2211 - accuracy: 0.8861 - val_loss: 0.2610 - val_accuracy: 0.8892\n",
      "Epoch 6/20\n",
      "54/54 [==============================] - 1s 12ms/step - loss: 0.2141 - accuracy: 0.8886 - val_loss: 0.2546 - val_accuracy: 0.8920\n",
      "Epoch 7/20\n",
      "54/54 [==============================] - 1s 10ms/step - loss: 0.2092 - accuracy: 0.8910 - val_loss: 0.2509 - val_accuracy: 0.8938\n",
      "Epoch 8/20\n",
      "54/54 [==============================] - 1s 11ms/step - loss: 0.2053 - accuracy: 0.8931 - val_loss: 0.2478 - val_accuracy: 0.8962\n",
      "Epoch 9/20\n",
      "54/54 [==============================] - 1s 10ms/step - loss: 0.2021 - accuracy: 0.8949 - val_loss: 0.2433 - val_accuracy: 0.8975\n",
      "Epoch 10/20\n",
      "54/54 [==============================] - 1s 10ms/step - loss: 0.1995 - accuracy: 0.8961 - val_loss: 0.2407 - val_accuracy: 0.8984\n",
      "Epoch 11/20\n",
      "54/54 [==============================] - 1s 11ms/step - loss: 0.1972 - accuracy: 0.8967 - val_loss: 0.2398 - val_accuracy: 0.8989\n",
      "Epoch 12/20\n",
      "54/54 [==============================] - 1s 12ms/step - loss: 0.1953 - accuracy: 0.8972 - val_loss: 0.2383 - val_accuracy: 0.8992\n",
      "Epoch 13/20\n",
      "54/54 [==============================] - 1s 12ms/step - loss: 0.1935 - accuracy: 0.8976 - val_loss: 0.2351 - val_accuracy: 0.8998\n",
      "Epoch 14/20\n",
      "54/54 [==============================] - 1s 10ms/step - loss: 0.1920 - accuracy: 0.8982 - val_loss: 0.2324 - val_accuracy: 0.9004\n",
      "Epoch 15/20\n",
      "54/54 [==============================] - 1s 10ms/step - loss: 0.1907 - accuracy: 0.8988 - val_loss: 0.2330 - val_accuracy: 0.9010\n",
      "Epoch 16/20\n",
      "54/54 [==============================] - 1s 11ms/step - loss: 0.1894 - accuracy: 0.8996 - val_loss: 0.2322 - val_accuracy: 0.9018\n",
      "Epoch 17/20\n",
      "54/54 [==============================] - 1s 11ms/step - loss: 0.1883 - accuracy: 0.9005 - val_loss: 0.2312 - val_accuracy: 0.9026\n",
      "Epoch 18/20\n",
      "54/54 [==============================] - 1s 10ms/step - loss: 0.1873 - accuracy: 0.9013 - val_loss: 0.2303 - val_accuracy: 0.9032\n",
      "Epoch 19/20\n",
      "54/54 [==============================] - 1s 11ms/step - loss: 0.1863 - accuracy: 0.9019 - val_loss: 0.2278 - val_accuracy: 0.9040\n",
      "Epoch 20/20\n",
      "54/54 [==============================] - 1s 11ms/step - loss: 0.1854 - accuracy: 0.9025 - val_loss: 0.2265 - val_accuracy: 0.9047\n"
     ]
    }
   ],
   "source": [
    "# Setup some training parameters\n",
    "batch_size = 10000\n",
    "epochs = 20\n",
    "input_shape = (Xtrain.shape[1],)\n",
    "\n",
    "# Build and train model\n",
    "model4 = build_DNN(input_shape, n_layers=2, n_nodes=50, learning_rate=0.1)\n",
    "\n",
    "history4 = model4.fit(Xtrain, Ytrain, batch_size=batch_size, epochs=epochs, verbose=1, validation_data=(Xval, Yval), class_weight=class_weights)"
   ]
  },
  {
   "cell_type": "code",
   "execution_count": 89,
   "metadata": {},
   "outputs": [
    {
     "name": "stdout",
     "output_type": "stream",
     "text": [
      "Test loss: 0.2301\n",
      "Test accuracy: 0.9026\n"
     ]
    }
   ],
   "source": [
    "# Evaluate model on test data\n",
    "score = model4.evaluate(Xtest, Ytest, verbose=0)\n",
    "\n",
    "print('Test loss: %.4f' % score[0])\n",
    "print('Test accuracy: %.4f' % score[1])"
   ]
  },
  {
   "cell_type": "code",
   "execution_count": 90,
   "metadata": {},
   "outputs": [
    {
     "data": {
      "image/png": "[encoded data removed]",
      "text/plain": [
       "<Figure size 720x288 with 1 Axes>"
      ]
     },
     "metadata": {
      "needs_background": "light"
     },
     "output_type": "display_data"
    },
    {
     "data": {
      "image/png": "[encoded data removed]",
      "text/plain": [
       "<Figure size 720x288 with 1 Axes>"
      ]
     },
     "metadata": {
      "needs_background": "light"
     },
     "output_type": "display_data"
    }
   ],
   "source": [
    "plot_results(history4)"
   ]
  },
  {
   "cell_type": "markdown",
   "metadata": {},
   "source": [
    "### 4 layers, 50 nodes, class weights"
   ]
  },
  {
   "cell_type": "code",
   "execution_count": 91,
   "metadata": {
    "scrolled": true
   },
   "outputs": [
    {
     "name": "stdout",
     "output_type": "stream",
     "text": [
      "Epoch 1/20\n",
      "54/54 [==============================] - 2s 25ms/step - loss: 0.7030 - accuracy: 0.5726 - val_loss: 0.6840 - val_accuracy: 0.8404\n",
      "Epoch 2/20\n",
      "54/54 [==============================] - 1s 16ms/step - loss: 0.6924 - accuracy: 0.6017 - val_loss: 0.6953 - val_accuracy: 0.1596\n",
      "Epoch 3/20\n",
      "54/54 [==============================] - 1s 17ms/step - loss: 0.6916 - accuracy: 0.5845 - val_loss: 0.6947 - val_accuracy: 0.1596\n",
      "Epoch 4/20\n",
      "54/54 [==============================] - 1s 17ms/step - loss: 0.6907 - accuracy: 0.6149 - val_loss: 0.6781 - val_accuracy: 0.8404\n",
      "Epoch 5/20\n",
      "54/54 [==============================] - 1s 16ms/step - loss: 0.6896 - accuracy: 0.7554 - val_loss: 0.6835 - val_accuracy: 0.8502\n",
      "Epoch 6/20\n",
      "54/54 [==============================] - 1s 15ms/step - loss: 0.6882 - accuracy: 0.8414 - val_loss: 0.6891 - val_accuracy: 0.8809\n",
      "Epoch 7/20\n",
      "54/54 [==============================] - 1s 16ms/step - loss: 0.6864 - accuracy: 0.8288 - val_loss: 0.6925 - val_accuracy: 0.4890\n",
      "Epoch 8/20\n",
      "54/54 [==============================] - 1s 15ms/step - loss: 0.6840 - accuracy: 0.8542 - val_loss: 0.6727 - val_accuracy: 0.8552\n",
      "Epoch 9/20\n",
      "54/54 [==============================] - 1s 16ms/step - loss: 0.6804 - accuracy: 0.8568 - val_loss: 0.6799 - val_accuracy: 0.8815\n",
      "Epoch 10/20\n",
      "54/54 [==============================] - 1s 16ms/step - loss: 0.6749 - accuracy: 0.8796 - val_loss: 0.6639 - val_accuracy: 0.8934\n",
      "Epoch 11/20\n",
      "54/54 [==============================] - 1s 16ms/step - loss: 0.6661 - accuracy: 0.8830 - val_loss: 0.6513 - val_accuracy: 0.8953\n",
      "Epoch 12/20\n",
      "54/54 [==============================] - 1s 17ms/step - loss: 0.6507 - accuracy: 0.8826 - val_loss: 0.6447 - val_accuracy: 0.8813\n",
      "Epoch 13/20\n",
      "54/54 [==============================] - 1s 16ms/step - loss: 0.6210 - accuracy: 0.8812 - val_loss: 0.5901 - val_accuracy: 0.8863\n",
      "Epoch 14/20\n",
      "54/54 [==============================] - 1s 16ms/step - loss: 0.5598 - accuracy: 0.8805 - val_loss: 0.5093 - val_accuracy: 0.8818\n",
      "Epoch 15/20\n",
      "54/54 [==============================] - 1s 16ms/step - loss: 0.4471 - accuracy: 0.8796 - val_loss: 0.3873 - val_accuracy: 0.8816\n",
      "Epoch 16/20\n",
      "54/54 [==============================] - 1s 20ms/step - loss: 0.3232 - accuracy: 0.8796 - val_loss: 0.3060 - val_accuracy: 0.8816\n",
      "Epoch 17/20\n",
      "54/54 [==============================] - 1s 19ms/step - loss: 0.2566 - accuracy: 0.8797 - val_loss: 0.2751 - val_accuracy: 0.8820\n",
      "Epoch 18/20\n",
      "54/54 [==============================] - 1s 18ms/step - loss: 0.2314 - accuracy: 0.8811 - val_loss: 0.2657 - val_accuracy: 0.8841\n",
      "Epoch 19/20\n",
      "54/54 [==============================] - 1s 17ms/step - loss: 0.2204 - accuracy: 0.8835 - val_loss: 0.2607 - val_accuracy: 0.8863\n",
      "Epoch 20/20\n",
      "54/54 [==============================] - 1s 17ms/step - loss: 0.2143 - accuracy: 0.8861 - val_loss: 0.2546 - val_accuracy: 0.8889\n"
     ]
    }
   ],
   "source": [
    "# Setup some training parameters\n",
    "batch_size = 10000\n",
    "epochs = 20\n",
    "input_shape = (Xtrain.shape[1],)\n",
    "\n",
    "# Build and train model\n",
    "model5 = build_DNN(input_shape, n_layers=4, n_nodes=50, learning_rate=0.1)\n",
    "\n",
    "history5 = model5.fit(Xtrain, Ytrain, batch_size=batch_size, epochs=epochs, verbose=1, validation_data=(Xval, Yval), class_weight=class_weights)"
   ]
  },
  {
   "cell_type": "code",
   "execution_count": 92,
   "metadata": {},
   "outputs": [
    {
     "name": "stdout",
     "output_type": "stream",
     "text": [
      "Test loss: 0.2581\n",
      "Test accuracy: 0.8870\n"
     ]
    }
   ],
   "source": [
    "# Evaluate model on test data\n",
    "score = model5.evaluate(Xtest, Ytest, verbose=0)\n",
    "\n",
    "print('Test loss: %.4f' % score[0])\n",
    "print('Test accuracy: %.4f' % score[1])"
   ]
  },
  {
   "cell_type": "code",
   "execution_count": 93,
   "metadata": {},
   "outputs": [
    {
     "data": {
      "image/png": "[encoded data removed]",
      "text/plain": [
       "<Figure size 720x288 with 1 Axes>"
      ]
     },
     "metadata": {
      "needs_background": "light"
     },
     "output_type": "display_data"
    },
    {
     "data": {
      "image/png": "[encoded data removed]",
      "text/plain": [
       "<Figure size 720x288 with 1 Axes>"
      ]
     },
     "metadata": {
      "needs_background": "light"
     },
     "output_type": "display_data"
    }
   ],
   "source": [
    "plot_results(history5)"
   ]
  },
  {
   "cell_type": "markdown",
   "metadata": {},
   "source": [
    "# Part 15: Batch normalization\n",
    "\n",
    "Now add batch normalization after each dense layer in `build_DNN`. Remember to import BatchNormalization from keras.layers. \n",
    "\n",
    "See https://keras.io/layers/normalization/ for information about how to call the function.\n",
    "\n",
    "Question 14: Why is batch normalization important when training deep networks?\n",
    "\n",
    "<span style=\"color:blue\">Internal Covariate Shift: It helps to mitigate the problem of internal covariate shift, where the distribution of each layer’s inputs changes during training, as the parameters of the previous layers change.</span>\n",
    "\n",
    "<span style=\"color:blue\">Faster Convergence: The network tends to converge faster as batch normalization helps in bringing the inputs to a layer within a similar range.</span>\n",
    "\n",
    "<span style=\"color:blue\">Regularization: It adds a small amount of noise to your network. In some cases, such as Inception modules, batch normalization has been found to work as a regularizer, reducing the need for other regularization techniques like dropout.</span>\n",
    "\n",
    "<span style=\"color:blue\">Allows Higher Learning Rates: Gradient descent usually requires small learning rates for the network to converge. As batch normalization regulates the values going into each activation function, higher learning rates can be used without the risk of divergence.</span>"
   ]
  },
  {
   "cell_type": "markdown",
   "metadata": {},
   "source": [
    "### 2 layers, 20 nodes, class weights, batch normalization"
   ]
  },
  {
   "cell_type": "code",
   "execution_count": 140,
   "metadata": {},
   "outputs": [],
   "source": [
    "from keras.layers import BatchNormalization\n",
    "\n",
    "def build_DNN(input_shape, n_layers, n_nodes, act_fun='sigmoid', optimizer='sgd', learning_rate=0.01, \n",
    "              use_bn=False, use_dropout=False, use_custom_dropout=False):\n",
    "    \n",
    "    # Setup optimizer, depending on input parameter string\n",
    "    if optimizer == 'sgd':\n",
    "        optimizer = SGD(learning_rate=learning_rate)\n",
    "    \n",
    "    # Setup a sequential model\n",
    "    model = Sequential()\n",
    "\n",
    "    # Add layers to the model, using the input parameters of the build_DNN function\n",
    "    \n",
    "    # Add first layer, requires input shape\n",
    "    model.add(Dense(n_nodes, activation=act_fun, input_shape=input_shape))\n",
    "    if use_bn:\n",
    "        model.add(BatchNormalization())\n",
    "    \n",
    "    # Add remaining layers, do not require input shape\n",
    "    for i in range(n_layers-1):\n",
    "        model.add(Dense(n_nodes, activation=act_fun))\n",
    "        if use_bn:\n",
    "            model.add(BatchNormalization())\n",
    "    \n",
    "    # Add final layer\n",
    "    model.add(Dense(1, activation='sigmoid'))\n",
    "    \n",
    "    # Compile model\n",
    "    model.compile(loss='binary_crossentropy', optimizer=optimizer, metrics=['accuracy'])\n",
    "    \n",
    "    return model\n"
   ]
  },
  {
   "cell_type": "code",
   "execution_count": 141,
   "metadata": {
    "scrolled": true
   },
   "outputs": [
    {
     "name": "stdout",
     "output_type": "stream",
     "text": [
      "Epoch 1/20\n",
      "54/54 [==============================] - 3s 26ms/step - loss: 0.2759 - accuracy: 0.8872 - val_loss: 0.4570 - val_accuracy: 0.8404\n",
      "Epoch 2/20\n",
      "54/54 [==============================] - 1s 15ms/step - loss: 0.2104 - accuracy: 0.9068 - val_loss: 0.3673 - val_accuracy: 0.8404\n",
      "Epoch 3/20\n",
      "54/54 [==============================] - 1s 13ms/step - loss: 0.1940 - accuracy: 0.9089 - val_loss: 0.3165 - val_accuracy: 0.8404\n",
      "Epoch 4/20\n",
      "54/54 [==============================] - 1s 12ms/step - loss: 0.1860 - accuracy: 0.9100 - val_loss: 0.2682 - val_accuracy: 0.8491\n",
      "Epoch 5/20\n",
      "54/54 [==============================] - 1s 13ms/step - loss: 0.1809 - accuracy: 0.9112 - val_loss: 0.2227 - val_accuracy: 0.8688\n",
      "Epoch 6/20\n",
      "54/54 [==============================] - 1s 13ms/step - loss: 0.1772 - accuracy: 0.9124 - val_loss: 0.1881 - val_accuracy: 0.9010\n",
      "Epoch 7/20\n",
      "54/54 [==============================] - 1s 14ms/step - loss: 0.1744 - accuracy: 0.9137 - val_loss: 0.1735 - val_accuracy: 0.9164\n",
      "Epoch 8/20\n",
      "54/54 [==============================] - 1s 13ms/step - loss: 0.1722 - accuracy: 0.9143 - val_loss: 0.1731 - val_accuracy: 0.9174\n",
      "Epoch 9/20\n",
      "54/54 [==============================] - 1s 12ms/step - loss: 0.1702 - accuracy: 0.9148 - val_loss: 0.1807 - val_accuracy: 0.9174\n",
      "Epoch 10/20\n",
      "54/54 [==============================] - 1s 11ms/step - loss: 0.1687 - accuracy: 0.9151 - val_loss: 0.1782 - val_accuracy: 0.9179\n",
      "Epoch 11/20\n",
      "54/54 [==============================] - 1s 11ms/step - loss: 0.1676 - accuracy: 0.9155 - val_loss: 0.1895 - val_accuracy: 0.9181\n",
      "Epoch 12/20\n",
      "54/54 [==============================] - 1s 13ms/step - loss: 0.1664 - accuracy: 0.9158 - val_loss: 0.2055 - val_accuracy: 0.9179\n",
      "Epoch 13/20\n",
      "54/54 [==============================] - 1s 11ms/step - loss: 0.1653 - accuracy: 0.9161 - val_loss: 0.1907 - val_accuracy: 0.9189\n",
      "Epoch 14/20\n",
      "54/54 [==============================] - 1s 12ms/step - loss: 0.1646 - accuracy: 0.9163 - val_loss: 0.1916 - val_accuracy: 0.9187\n",
      "Epoch 15/20\n",
      "54/54 [==============================] - 1s 12ms/step - loss: 0.1636 - accuracy: 0.9166 - val_loss: 0.2149 - val_accuracy: 0.9182\n",
      "Epoch 16/20\n",
      "54/54 [==============================] - 1s 12ms/step - loss: 0.1636 - accuracy: 0.9167 - val_loss: 0.1958 - val_accuracy: 0.9193\n",
      "Epoch 17/20\n",
      "54/54 [==============================] - 1s 13ms/step - loss: 0.1627 - accuracy: 0.9168 - val_loss: 0.1904 - val_accuracy: 0.9195\n",
      "Epoch 18/20\n",
      "54/54 [==============================] - 1s 12ms/step - loss: 0.1621 - accuracy: 0.9171 - val_loss: 0.1797 - val_accuracy: 0.9196\n",
      "Epoch 19/20\n",
      "54/54 [==============================] - 1s 12ms/step - loss: 0.1617 - accuracy: 0.9172 - val_loss: 0.2024 - val_accuracy: 0.9190\n",
      "Epoch 20/20\n",
      "54/54 [==============================] - 1s 12ms/step - loss: 0.1614 - accuracy: 0.9172 - val_loss: 0.1919 - val_accuracy: 0.9191\n"
     ]
    }
   ],
   "source": [
    "# Setup some training parameters\n",
    "batch_size = 10000\n",
    "epochs = 20\n",
    "input_shape = (Xtrain.shape[1],)\n",
    "\n",
    "# Build and train model\n",
    "model6 = build_DNN(input_shape, n_layers=2, n_nodes=20, learning_rate=0.1, use_bn=True)\n",
    "\n",
    "history6 = model6.fit(Xtrain, Ytrain, batch_size=batch_size, epochs=epochs, verbose=1, validation_data=(Xval, Yval), class_weight=class_weights)\n"
   ]
  },
  {
   "cell_type": "code",
   "execution_count": 142,
   "metadata": {},
   "outputs": [
    {
     "name": "stdout",
     "output_type": "stream",
     "text": [
      "Test loss: 0.1951\n",
      "Test accuracy: 0.9174\n"
     ]
    }
   ],
   "source": [
    "# Evaluate model on test data\n",
    "score = model6.evaluate(Xtest, Ytest, verbose=0)\n",
    "\n",
    "print('Test loss: %.4f' % score[0])\n",
    "print('Test accuracy: %.4f' % score[1])"
   ]
  },
  {
   "cell_type": "code",
   "execution_count": 143,
   "metadata": {},
   "outputs": [
    {
     "data": {
      "image/png": "[encoded data removed]",
      "text/plain": [
       "<Figure size 720x288 with 1 Axes>"
      ]
     },
     "metadata": {
      "needs_background": "light"
     },
     "output_type": "display_data"
    },
    {
     "data": {
      "image/png": "[encoded data removed]",
      "text/plain": [
       "<Figure size 720x288 with 1 Axes>"
      ]
     },
     "metadata": {
      "needs_background": "light"
     },
     "output_type": "display_data"
    }
   ],
   "source": [
    "plot_results(history6)"
   ]
  },
  {
   "cell_type": "markdown",
   "metadata": {},
   "source": [
    "# Part 16: Activation function\n",
    "\n",
    "Try changing the activation function in each layer from sigmoid to ReLU, write down the test accuracy.\n",
    "\n",
    "Note: the last layer should still have a sigmoid activation function.\n",
    "\n",
    "https://keras.io/api/layers/activations/"
   ]
  },
  {
   "cell_type": "markdown",
   "metadata": {},
   "source": [
    "### 2 layers, 20 nodes, class weights, ReLU, no batch normalization"
   ]
  },
  {
   "cell_type": "code",
   "execution_count": 144,
   "metadata": {},
   "outputs": [],
   "source": [
    "def build_DNN(input_shape, n_layers, n_nodes, act_fun='relu', optimizer='sgd', learning_rate=0.01, \n",
    "              use_bn=False, use_dropout=False, use_custom_dropout=False):\n",
    "    \n",
    "    # Setup optimizer, depending on input parameter string\n",
    "    if optimizer == 'sgd':\n",
    "        optimizer = SGD(learning_rate=learning_rate)\n",
    "    \n",
    "    # Setup a sequential model\n",
    "    model = Sequential()\n",
    "\n",
    "    # Add layers to the model, using the input parameters of the build_DNN function\n",
    "    \n",
    "    # Add first layer, requires input shape\n",
    "    model.add(Dense(n_nodes, activation=act_fun, input_shape=input_shape))\n",
    "    if use_bn:\n",
    "        model.add(BatchNormalization())\n",
    "    \n",
    "    # Add remaining layers, do not require input shape\n",
    "    for i in range(n_layers-1):\n",
    "        model.add(Dense(n_nodes, activation=act_fun))\n",
    "        if use_bn:\n",
    "            model.add(BatchNormalization())\n",
    "    \n",
    "    # Add final layer\n",
    "    model.add(Dense(1, activation='sigmoid'))\n",
    "    \n",
    "    # Compile model\n",
    "    model.compile(loss='binary_crossentropy', optimizer=optimizer, metrics=['accuracy'])\n",
    "    \n",
    "    return model\n"
   ]
  },
  {
   "cell_type": "code",
   "execution_count": 145,
   "metadata": {
    "scrolled": true
   },
   "outputs": [
    {
     "name": "stdout",
     "output_type": "stream",
     "text": [
      "Epoch 1/20\n",
      "54/54 [==============================] - 2s 13ms/step - loss: 0.3130 - accuracy: 0.8511 - val_loss: 0.2684 - val_accuracy: 0.8932\n",
      "Epoch 2/20\n",
      "54/54 [==============================] - 0s 7ms/step - loss: 0.2045 - accuracy: 0.8946 - val_loss: 0.2439 - val_accuracy: 0.9017\n",
      "Epoch 3/20\n",
      "54/54 [==============================] - 0s 7ms/step - loss: 0.1915 - accuracy: 0.9030 - val_loss: 0.2338 - val_accuracy: 0.9073\n",
      "Epoch 4/20\n",
      "54/54 [==============================] - 0s 6ms/step - loss: 0.1849 - accuracy: 0.9068 - val_loss: 0.2274 - val_accuracy: 0.9098\n",
      "Epoch 5/20\n",
      "54/54 [==============================] - 0s 6ms/step - loss: 0.1807 - accuracy: 0.9086 - val_loss: 0.2186 - val_accuracy: 0.9113\n",
      "Epoch 6/20\n",
      "54/54 [==============================] - 0s 6ms/step - loss: 0.1778 - accuracy: 0.9097 - val_loss: 0.2181 - val_accuracy: 0.9118\n",
      "Epoch 7/20\n",
      "54/54 [==============================] - 0s 7ms/step - loss: 0.1755 - accuracy: 0.9104 - val_loss: 0.2161 - val_accuracy: 0.9131\n",
      "Epoch 8/20\n",
      "54/54 [==============================] - 0s 6ms/step - loss: 0.1737 - accuracy: 0.9117 - val_loss: 0.2173 - val_accuracy: 0.9141\n",
      "Epoch 9/20\n",
      "54/54 [==============================] - 0s 6ms/step - loss: 0.1723 - accuracy: 0.9122 - val_loss: 0.2135 - val_accuracy: 0.9145\n",
      "Epoch 10/20\n",
      "54/54 [==============================] - 0s 6ms/step - loss: 0.1712 - accuracy: 0.9125 - val_loss: 0.2131 - val_accuracy: 0.9148\n",
      "Epoch 11/20\n",
      "54/54 [==============================] - 0s 6ms/step - loss: 0.1702 - accuracy: 0.9128 - val_loss: 0.2114 - val_accuracy: 0.9150\n",
      "Epoch 12/20\n",
      "54/54 [==============================] - 0s 6ms/step - loss: 0.1693 - accuracy: 0.9130 - val_loss: 0.2104 - val_accuracy: 0.9149\n",
      "Epoch 13/20\n",
      "54/54 [==============================] - 0s 6ms/step - loss: 0.1685 - accuracy: 0.9131 - val_loss: 0.2078 - val_accuracy: 0.9154\n",
      "Epoch 14/20\n",
      "54/54 [==============================] - 0s 6ms/step - loss: 0.1677 - accuracy: 0.9133 - val_loss: 0.2070 - val_accuracy: 0.9155\n",
      "Epoch 15/20\n",
      "54/54 [==============================] - 0s 6ms/step - loss: 0.1670 - accuracy: 0.9135 - val_loss: 0.2075 - val_accuracy: 0.9158\n",
      "Epoch 16/20\n",
      "54/54 [==============================] - 0s 6ms/step - loss: 0.1663 - accuracy: 0.9138 - val_loss: 0.2069 - val_accuracy: 0.9160\n",
      "Epoch 17/20\n",
      "54/54 [==============================] - 0s 7ms/step - loss: 0.1657 - accuracy: 0.9142 - val_loss: 0.2065 - val_accuracy: 0.9165\n",
      "Epoch 18/20\n",
      "54/54 [==============================] - 0s 6ms/step - loss: 0.1651 - accuracy: 0.9146 - val_loss: 0.2061 - val_accuracy: 0.9166\n",
      "Epoch 19/20\n",
      "54/54 [==============================] - 0s 6ms/step - loss: 0.1644 - accuracy: 0.9150 - val_loss: 0.2073 - val_accuracy: 0.9170\n",
      "Epoch 20/20\n",
      "54/54 [==============================] - 0s 6ms/step - loss: 0.1638 - accuracy: 0.9154 - val_loss: 0.2047 - val_accuracy: 0.9174\n"
     ]
    }
   ],
   "source": [
    "# Setup some training parameters\n",
    "batch_size = 10000\n",
    "epochs = 20\n",
    "input_shape = (Xtrain.shape[1],)\n",
    "\n",
    "# Build and train model\n",
    "model7 = build_DNN(input_shape, n_layers=2, n_nodes=20, learning_rate=0.1, act_fun='relu')\n",
    "\n",
    "history7 = model7.fit(Xtrain, Ytrain, batch_size=batch_size, epochs=epochs, verbose=1, validation_data=(Xval, Yval), class_weight=class_weights)\n"
   ]
  },
  {
   "cell_type": "code",
   "execution_count": 146,
   "metadata": {},
   "outputs": [
    {
     "name": "stdout",
     "output_type": "stream",
     "text": [
      "Test loss: 0.2078\n",
      "Test accuracy: 0.9156\n"
     ]
    }
   ],
   "source": [
    "# Evaluate model on test data\n",
    "score = model7.evaluate(Xtest, Ytest, verbose=0)\n",
    "\n",
    "print('Test loss: %.4f' % score[0])\n",
    "print('Test accuracy: %.4f' % score[1])"
   ]
  },
  {
   "cell_type": "code",
   "execution_count": 147,
   "metadata": {},
   "outputs": [
    {
     "data": {
      "image/png": "[encoded data removed]",
      "text/plain": [
       "<Figure size 720x288 with 1 Axes>"
      ]
     },
     "metadata": {
      "needs_background": "light"
     },
     "output_type": "display_data"
    },
    {
     "data": {
      "image/png": "[encoded data removed]",
      "text/plain": [
       "<Figure size 720x288 with 1 Axes>"
      ]
     },
     "metadata": {
      "needs_background": "light"
     },
     "output_type": "display_data"
    }
   ],
   "source": [
    "plot_results(history7)"
   ]
  },
  {
   "cell_type": "markdown",
   "metadata": {},
   "source": [
    "# Part 17: Optimizer\n",
    "\n",
    "Try changing the optimizer from SGD to Adam (with learning rate 0.1 as before). Remember to import the Adam optimizer from keras.optimizers. \n",
    "\n",
    "https://keras.io/optimizers/\n"
   ]
  },
  {
   "cell_type": "markdown",
   "metadata": {},
   "source": [
    "### 2 layers, 20 nodes, class weights, Adam optimizer, no batch normalization, sigmoid activations"
   ]
  },
  {
   "cell_type": "code",
   "execution_count": 148,
   "metadata": {},
   "outputs": [],
   "source": [
    "from keras.optimizers import Adam\n",
    "\n",
    "def build_DNN(input_shape, n_layers, n_nodes, act_fun='sigmoid', optimizer='sgd', learning_rate=0.01, \n",
    "              use_bn=False, use_dropout=False, use_custom_dropout=False):\n",
    "    \n",
    "    # Setup optimizer, depending on input parameter string\n",
    "    if optimizer == 'sgd':\n",
    "        optimizer = SGD(learning_rate=learning_rate)\n",
    "    elif optimizer == 'adam':\n",
    "        optimizer = Adam(learning_rate=learning_rate)\n",
    "    \n",
    "    # Setup a sequential model\n",
    "    model = Sequential()\n",
    "\n",
    "    # Add layers to the model, using the input parameters of the build_DNN function\n",
    "    \n",
    "    # Add first layer, requires input shape\n",
    "    model.add(Dense(n_nodes, activation=act_fun, input_shape=input_shape))\n",
    "    if use_bn:\n",
    "        model.add(BatchNormalization())\n",
    "    \n",
    "    # Add remaining layers, do not require input shape\n",
    "    for i in range(n_layers-1):\n",
    "        model.add(Dense(n_nodes, activation=act_fun))\n",
    "        if use_bn:\n",
    "            model.add(BatchNormalization())\n",
    "    \n",
    "    # Add final layer\n",
    "    model.add(Dense(1, activation='sigmoid'))\n",
    "    \n",
    "    # Compile model\n",
    "    model.compile(loss='binary_crossentropy', optimizer=optimizer, metrics=['accuracy'])\n",
    "    \n",
    "    return model"
   ]
  },
  {
   "cell_type": "code",
   "execution_count": 149,
   "metadata": {
    "scrolled": true
   },
   "outputs": [
    {
     "name": "stdout",
     "output_type": "stream",
     "text": [
      "Epoch 1/20\n",
      "54/54 [==============================] - 2s 15ms/step - loss: 0.2483 - accuracy: 0.8731 - val_loss: 0.2301 - val_accuracy: 0.9053\n",
      "Epoch 2/20\n",
      "54/54 [==============================] - 0s 8ms/step - loss: 0.1743 - accuracy: 0.9119 - val_loss: 0.2102 - val_accuracy: 0.9178\n",
      "Epoch 3/20\n",
      "54/54 [==============================] - 0s 8ms/step - loss: 0.1679 - accuracy: 0.9158 - val_loss: 0.2105 - val_accuracy: 0.9185\n",
      "Epoch 4/20\n",
      "54/54 [==============================] - 0s 7ms/step - loss: 0.1662 - accuracy: 0.9163 - val_loss: 0.2051 - val_accuracy: 0.9186\n",
      "Epoch 5/20\n",
      "54/54 [==============================] - 0s 7ms/step - loss: 0.1628 - accuracy: 0.9178 - val_loss: 0.2070 - val_accuracy: 0.9196\n",
      "Epoch 6/20\n",
      "54/54 [==============================] - 0s 8ms/step - loss: 0.1594 - accuracy: 0.9189 - val_loss: 0.1906 - val_accuracy: 0.9216\n",
      "Epoch 7/20\n",
      "54/54 [==============================] - 0s 8ms/step - loss: 0.1566 - accuracy: 0.9198 - val_loss: 0.1973 - val_accuracy: 0.9215\n",
      "Epoch 8/20\n",
      "54/54 [==============================] - 0s 7ms/step - loss: 0.1558 - accuracy: 0.9198 - val_loss: 0.1926 - val_accuracy: 0.9220\n",
      "Epoch 9/20\n",
      "54/54 [==============================] - 0s 7ms/step - loss: 0.1526 - accuracy: 0.9205 - val_loss: 0.1921 - val_accuracy: 0.9219\n",
      "Epoch 10/20\n",
      "54/54 [==============================] - 0s 7ms/step - loss: 0.1521 - accuracy: 0.9205 - val_loss: 0.1839 - val_accuracy: 0.9223\n",
      "Epoch 11/20\n",
      "54/54 [==============================] - 0s 7ms/step - loss: 0.1494 - accuracy: 0.9210 - val_loss: 0.1752 - val_accuracy: 0.9240\n",
      "Epoch 12/20\n",
      "54/54 [==============================] - 0s 7ms/step - loss: 0.1480 - accuracy: 0.9221 - val_loss: 0.1826 - val_accuracy: 0.9259\n",
      "Epoch 13/20\n",
      "54/54 [==============================] - 0s 7ms/step - loss: 0.1447 - accuracy: 0.9240 - val_loss: 0.1646 - val_accuracy: 0.9322\n",
      "Epoch 14/20\n",
      "54/54 [==============================] - 0s 6ms/step - loss: 0.1434 - accuracy: 0.9265 - val_loss: 0.1814 - val_accuracy: 0.9278\n",
      "Epoch 15/20\n",
      "54/54 [==============================] - 0s 7ms/step - loss: 0.1459 - accuracy: 0.9266 - val_loss: 0.1960 - val_accuracy: 0.9191\n",
      "Epoch 16/20\n",
      "54/54 [==============================] - 0s 7ms/step - loss: 0.1531 - accuracy: 0.9205 - val_loss: 0.1878 - val_accuracy: 0.9226\n",
      "Epoch 17/20\n",
      "54/54 [==============================] - 0s 7ms/step - loss: 0.1498 - accuracy: 0.9218 - val_loss: 0.2057 - val_accuracy: 0.9229\n",
      "Epoch 18/20\n",
      "54/54 [==============================] - 0s 7ms/step - loss: 0.1485 - accuracy: 0.9228 - val_loss: 0.1872 - val_accuracy: 0.9227\n",
      "Epoch 19/20\n",
      "54/54 [==============================] - 0s 7ms/step - loss: 0.1503 - accuracy: 0.9217 - val_loss: 0.1705 - val_accuracy: 0.9254\n",
      "Epoch 20/20\n",
      "54/54 [==============================] - 0s 7ms/step - loss: 0.1484 - accuracy: 0.9231 - val_loss: 0.1883 - val_accuracy: 0.9250\n"
     ]
    }
   ],
   "source": [
    "# Setup some training parameters\n",
    "batch_size = 10000\n",
    "epochs = 20\n",
    "input_shape = (Xtrain.shape[1],)\n",
    "\n",
    "# Build and train model\n",
    "model8 = build_DNN(input_shape, n_layers=2, n_nodes=20, learning_rate=0.1, optimizer='adam')\n",
    "\n",
    "history8 = model8.fit(Xtrain, Ytrain, batch_size=batch_size, epochs=epochs, verbose=1, validation_data=(Xval, Yval), class_weight=class_weights)\n"
   ]
  },
  {
   "cell_type": "code",
   "execution_count": 150,
   "metadata": {},
   "outputs": [
    {
     "name": "stdout",
     "output_type": "stream",
     "text": [
      "Test loss: 0.1905\n",
      "Test accuracy: 0.9235\n"
     ]
    }
   ],
   "source": [
    "# Evaluate model on test data\n",
    "score = model8.evaluate(Xtest, Ytest, verbose=0)\n",
    "\n",
    "print('Test loss: %.4f' % score[0])\n",
    "print('Test accuracy: %.4f' % score[1])"
   ]
  },
  {
   "cell_type": "code",
   "execution_count": 151,
   "metadata": {},
   "outputs": [
    {
     "data": {
      "image/png": "[encoded data removed]",
      "text/plain": [
       "<Figure size 720x288 with 1 Axes>"
      ]
     },
     "metadata": {
      "needs_background": "light"
     },
     "output_type": "display_data"
    },
    {
     "data": {
      "image/png": "[encoded data removed]",
      "text/plain": [
       "<Figure size 720x288 with 1 Axes>"
      ]
     },
     "metadata": {
      "needs_background": "light"
     },
     "output_type": "display_data"
    }
   ],
   "source": [
    "plot_results(history8)"
   ]
  },
  {
   "cell_type": "markdown",
   "metadata": {},
   "source": [
    "# Part 18: Dropout regularization\n",
    "\n",
    "Dropout is a type of regularization that can improve accuracy for validation and test data. It randomly removes connections to force the neural network to not rely too much on a small number of weights.\n",
    "\n",
    "Add a Dropout layer after each Dense layer (but not after the final dense layer) in `build_DNN`, with a dropout probability of 50%. Remember to first import the Dropout layer from keras.layers\n",
    "\n",
    "See https://keras.io/api/layers/regularization_layers/dropout/ for how the Dropout layer works.\n",
    "\n",
    "---\n",
    "\n",
    "Question 15: How does the validation accuracy change when adding dropout?\n",
    "\n",
    "<span style=\"color:blue\"> The validation accuracy with dropout doesn't change significantly with the increase in epochs, remaining around 0.88. This suggests that dropout regularization is effectively preventing overfitting, as the model's performance on unseen validation data remains stable.</span>\n",
    "\n",
    "Question 16: How does the test accuracy change when adding dropout?\n",
    "\n",
    "<span style=\"color:blue\"> The test accuracy after adding dropout is lower (0.8862) compared to the model without dropout (0.9235). This indicates that while dropout regularization may prevent overfitting on the validation data, it may also reduce the model's ability to generalize to unseen test data, resulting in a decrease in test accuracy.</span>"
   ]
  },
  {
   "cell_type": "markdown",
   "metadata": {},
   "source": [
    "### 2 layers, 20 nodes, class weights, dropout, SGD optimizer, no batch normalization, sigmoid activations"
   ]
  },
  {
   "cell_type": "code",
   "execution_count": 152,
   "metadata": {},
   "outputs": [],
   "source": [
    "from keras.layers import Dropout\n",
    "\n",
    "def build_DNN(input_shape, n_layers, n_nodes, act_fun='sigmoid', optimizer='sgd', learning_rate=0.01, \n",
    "              use_bn=False, use_dropout=False, use_custom_dropout=False):\n",
    "    \n",
    "    # Setup optimizer, depending on input parameter string\n",
    "    if optimizer == 'sgd':\n",
    "        optimizer = SGD(learning_rate=learning_rate)\n",
    "    elif optimizer == 'adam':\n",
    "        optimizer = Adam(learning_rate=learning_rate)\n",
    "    \n",
    "    # Setup a sequential model\n",
    "    model = Sequential()\n",
    "\n",
    "    # Add layers to the model, using the input parameters of the build_DNN function\n",
    "    \n",
    "    # Add first layer, requires input shape\n",
    "    model.add(Dense(n_nodes, activation=act_fun, input_shape=input_shape))\n",
    "    if use_bn:\n",
    "        model.add(BatchNormalization())\n",
    "    if use_dropout:\n",
    "        model.add(Dropout(0.5))  # Add dropout after the first layer\n",
    "    \n",
    "    # Add remaining layers, do not require input shape\n",
    "    for i in range(n_layers-1):\n",
    "        model.add(Dense(n_nodes, activation=act_fun))\n",
    "        if use_bn:\n",
    "            model.add(BatchNormalization())\n",
    "        if use_dropout:\n",
    "            model.add(Dropout(0.5))  # Add dropout after each Dense layer\n",
    "    \n",
    "    # Add final layer\n",
    "    model.add(Dense(1, activation='sigmoid'))\n",
    "    \n",
    "    # Compile model\n",
    "    model.compile(loss='binary_crossentropy', optimizer=optimizer, metrics=['accuracy'])\n",
    "    \n",
    "    return model\n"
   ]
  },
  {
   "cell_type": "code",
   "execution_count": 153,
   "metadata": {
    "scrolled": true
   },
   "outputs": [
    {
     "name": "stdout",
     "output_type": "stream",
     "text": [
      "Epoch 1/20\n",
      "54/54 [==============================] - 2s 23ms/step - loss: 0.7144 - accuracy: 0.5161 - val_loss: 0.6187 - val_accuracy: 0.8919\n",
      "Epoch 2/20\n",
      "54/54 [==============================] - 1s 12ms/step - loss: 0.6402 - accuracy: 0.6324 - val_loss: 0.5550 - val_accuracy: 0.8842\n",
      "Epoch 3/20\n",
      "54/54 [==============================] - 1s 11ms/step - loss: 0.5751 - accuracy: 0.7088 - val_loss: 0.4681 - val_accuracy: 0.8823\n",
      "Epoch 4/20\n",
      "54/54 [==============================] - 1s 10ms/step - loss: 0.5036 - accuracy: 0.7671 - val_loss: 0.3839 - val_accuracy: 0.8820\n",
      "Epoch 5/20\n",
      "54/54 [==============================] - 1s 10ms/step - loss: 0.4443 - accuracy: 0.8054 - val_loss: 0.3315 - val_accuracy: 0.8819\n",
      "Epoch 6/20\n",
      "54/54 [==============================] - 1s 11ms/step - loss: 0.4022 - accuracy: 0.8282 - val_loss: 0.3058 - val_accuracy: 0.8818\n",
      "Epoch 7/20\n",
      "54/54 [==============================] - 1s 11ms/step - loss: 0.3717 - accuracy: 0.8430 - val_loss: 0.2903 - val_accuracy: 0.8819\n",
      "Epoch 8/20\n",
      "54/54 [==============================] - 1s 11ms/step - loss: 0.3545 - accuracy: 0.8511 - val_loss: 0.2846 - val_accuracy: 0.8821\n",
      "Epoch 9/20\n",
      "54/54 [==============================] - 1s 11ms/step - loss: 0.3397 - accuracy: 0.8574 - val_loss: 0.2812 - val_accuracy: 0.8823\n",
      "Epoch 10/20\n",
      "54/54 [==============================] - 1s 11ms/step - loss: 0.3293 - accuracy: 0.8617 - val_loss: 0.2790 - val_accuracy: 0.8825\n",
      "Epoch 11/20\n",
      "54/54 [==============================] - 1s 11ms/step - loss: 0.3195 - accuracy: 0.8650 - val_loss: 0.2772 - val_accuracy: 0.8828\n",
      "Epoch 12/20\n",
      "54/54 [==============================] - 1s 11ms/step - loss: 0.3133 - accuracy: 0.8669 - val_loss: 0.2759 - val_accuracy: 0.8830\n",
      "Epoch 13/20\n",
      "54/54 [==============================] - 1s 14ms/step - loss: 0.3073 - accuracy: 0.8688 - val_loss: 0.2746 - val_accuracy: 0.8833\n",
      "Epoch 14/20\n",
      "54/54 [==============================] - 1s 11ms/step - loss: 0.3001 - accuracy: 0.8710 - val_loss: 0.2724 - val_accuracy: 0.8838\n",
      "Epoch 15/20\n",
      "54/54 [==============================] - 1s 10ms/step - loss: 0.2966 - accuracy: 0.8720 - val_loss: 0.2719 - val_accuracy: 0.8842\n",
      "Epoch 16/20\n",
      "54/54 [==============================] - 1s 11ms/step - loss: 0.2922 - accuracy: 0.8732 - val_loss: 0.2694 - val_accuracy: 0.8850\n",
      "Epoch 17/20\n",
      "54/54 [==============================] - 1s 11ms/step - loss: 0.2877 - accuracy: 0.8741 - val_loss: 0.2674 - val_accuracy: 0.8857\n",
      "Epoch 18/20\n",
      "54/54 [==============================] - 1s 10ms/step - loss: 0.2833 - accuracy: 0.8754 - val_loss: 0.2659 - val_accuracy: 0.8864\n",
      "Epoch 19/20\n",
      "54/54 [==============================] - 1s 10ms/step - loss: 0.2798 - accuracy: 0.8761 - val_loss: 0.2650 - val_accuracy: 0.8873\n",
      "Epoch 20/20\n",
      "54/54 [==============================] - 1s 10ms/step - loss: 0.2768 - accuracy: 0.8769 - val_loss: 0.2635 - val_accuracy: 0.8882\n"
     ]
    }
   ],
   "source": [
    "# Setup some training parameters\n",
    "batch_size = 10000\n",
    "epochs = 20\n",
    "input_shape = (Xtrain.shape[1],)\n",
    "\n",
    "# Build and train model\n",
    "model9 = build_DNN(input_shape, n_layers=2, n_nodes=20, learning_rate=0.1, use_dropout=True)\n",
    "\n",
    "history9 = model9.fit(Xtrain, Ytrain, batch_size=batch_size, epochs=epochs, verbose=1, validation_data=(Xval, Yval), class_weight=class_weights)\n"
   ]
  },
  {
   "cell_type": "code",
   "execution_count": 154,
   "metadata": {},
   "outputs": [
    {
     "name": "stdout",
     "output_type": "stream",
     "text": [
      "Test loss: 0.2678\n",
      "Test accuracy: 0.8862\n"
     ]
    }
   ],
   "source": [
    "# Evaluate model on test data\n",
    "score = model9.evaluate(Xtest, Ytest, verbose=0)\n",
    "\n",
    "print('Test loss: %.4f' % score[0])\n",
    "print('Test accuracy: %.4f' % score[1])"
   ]
  },
  {
   "cell_type": "code",
   "execution_count": 155,
   "metadata": {},
   "outputs": [
    {
     "data": {
      "image/png": "[encoded data removed]",
      "text/plain": [
       "<Figure size 720x288 with 1 Axes>"
      ]
     },
     "metadata": {
      "needs_background": "light"
     },
     "output_type": "display_data"
    },
    {
     "data": {
      "image/png": "[encoded data removed]",
      "text/plain": [
       "<Figure size 720x288 with 1 Axes>"
      ]
     },
     "metadata": {
      "needs_background": "light"
     },
     "output_type": "display_data"
    }
   ],
   "source": [
    "plot_results(history9)"
   ]
  },
  {
   "cell_type": "markdown",
   "metadata": {},
   "source": [
    "# Part 19: Improving performance\n",
    "\n",
    "Spend some time (30 - 90 minutes) playing with the network architecture (number of layers, number of nodes per layer, activation function) and other hyper parameters (optimizer, learning rate, batch size, number of epochs, degree of regularization). For example, try a much deeper network. How much does the training time increase for a network with 10 layers?\n",
    "\n",
    "Question 17: How high classification accuracy can you achieve for the test data? What is your best configuration?\n",
    "\n",
    "<span style=\"color:blue\"> The highest classification accuracy that you can achieve for the test data depends on various factors including the complexity of your model, the quality of your data, and the appropriateness of your hyperparameters. It’s hard to give a specific number without running the experiments.</span>"
   ]
  },
  {
   "cell_type": "code",
   "execution_count": 173,
   "metadata": {
    "scrolled": true
   },
   "outputs": [
    {
     "name": "stdout",
     "output_type": "stream",
     "text": [
      "Epoch 1/20\n",
      "54/54 [==============================] - 17s 209ms/step - loss: 0.4259 - accuracy: 0.8619 - val_loss: 32.6521 - val_accuracy: 0.4154\n",
      "Epoch 2/20\n",
      "54/54 [==============================] - 10s 193ms/step - loss: 0.1733 - accuracy: 0.9124 - val_loss: 0.2556 - val_accuracy: 0.9155\n",
      "Epoch 3/20\n",
      "54/54 [==============================] - 11s 195ms/step - loss: 0.1668 - accuracy: 0.9155 - val_loss: 0.2507 - val_accuracy: 0.9001\n",
      "Epoch 4/20\n",
      "54/54 [==============================] - 10s 189ms/step - loss: 0.1660 - accuracy: 0.9156 - val_loss: 0.1791 - val_accuracy: 0.9181\n",
      "Epoch 5/20\n",
      "54/54 [==============================] - 10s 193ms/step - loss: 0.1634 - accuracy: 0.9164 - val_loss: 0.1731 - val_accuracy: 0.9203\n",
      "Epoch 6/20\n",
      "54/54 [==============================] - 10s 186ms/step - loss: 0.1620 - accuracy: 0.9175 - val_loss: 0.2131 - val_accuracy: 0.9177\n",
      "Epoch 7/20\n",
      "54/54 [==============================] - 10s 188ms/step - loss: 0.1579 - accuracy: 0.9184 - val_loss: 0.2240 - val_accuracy: 0.9109\n",
      "Epoch 8/20\n",
      "54/54 [==============================] - 10s 187ms/step - loss: 0.1578 - accuracy: 0.9194 - val_loss: 0.2125 - val_accuracy: 0.9169\n",
      "Epoch 9/20\n",
      "54/54 [==============================] - 10s 188ms/step - loss: 0.1535 - accuracy: 0.9215 - val_loss: 0.4722 - val_accuracy: 0.9116\n",
      "Epoch 10/20\n",
      "54/54 [==============================] - 10s 189ms/step - loss: 0.1507 - accuracy: 0.9229 - val_loss: 0.1875 - val_accuracy: 0.9306\n",
      "Epoch 11/20\n",
      "54/54 [==============================] - 10s 188ms/step - loss: 0.1570 - accuracy: 0.9207 - val_loss: 0.6494 - val_accuracy: 0.9142\n",
      "Epoch 12/20\n",
      "54/54 [==============================] - 10s 188ms/step - loss: 0.1526 - accuracy: 0.9215 - val_loss: 0.4209 - val_accuracy: 0.9223\n",
      "Epoch 13/20\n",
      "54/54 [==============================] - 10s 188ms/step - loss: 0.1523 - accuracy: 0.9219 - val_loss: 0.3377 - val_accuracy: 0.9086\n",
      "Epoch 14/20\n",
      "54/54 [==============================] - 10s 188ms/step - loss: 0.1508 - accuracy: 0.9239 - val_loss: 0.4288 - val_accuracy: 0.9184\n",
      "Epoch 15/20\n",
      "54/54 [==============================] - 10s 188ms/step - loss: 0.1398 - accuracy: 0.9292 - val_loss: 0.2838 - val_accuracy: 0.9310\n",
      "Epoch 16/20\n",
      "54/54 [==============================] - 10s 188ms/step - loss: 0.1324 - accuracy: 0.9328 - val_loss: 0.2374 - val_accuracy: 0.9268\n",
      "Epoch 17/20\n",
      "54/54 [==============================] - 10s 188ms/step - loss: 0.1301 - accuracy: 0.9331 - val_loss: 0.1792 - val_accuracy: 0.9351\n",
      "Epoch 18/20\n",
      "54/54 [==============================] - 10s 190ms/step - loss: 0.1279 - accuracy: 0.9341 - val_loss: 0.2083 - val_accuracy: 0.9247\n",
      "Epoch 19/20\n",
      "54/54 [==============================] - 10s 193ms/step - loss: 0.1260 - accuracy: 0.9346 - val_loss: 0.2032 - val_accuracy: 0.9343\n",
      "Epoch 20/20\n",
      "54/54 [==============================] - 10s 188ms/step - loss: 0.1260 - accuracy: 0.9344 - val_loss: 0.2310 - val_accuracy: 0.9310\n"
     ]
    }
   ],
   "source": [
    "# Find your best configuration for the DNN\n",
    "batch_size = 10000\n",
    "epochs = 20\n",
    "input_shape = (Xtrain.shape[1],)\n",
    "\n",
    "best_config = {\n",
    "    'n_layers': 10,  # Number of layers\n",
    "    'n_nodes': 128,  # Number of nodes per layer\n",
    "    'act_fun': 'relu',  # Activation function\n",
    "    'optimizer': 'adam',  # Optimizer\n",
    "    'learning_rate': 0.1,  # Learning rate\n",
    "    'use_dropout': False,  # Use dropout regularization or not\n",
    "    'use_bn': True  # Use bach normalization or not\n",
    "}\n",
    "\n",
    "# Build and train DNN\n",
    "model10 = build_DNN(input_shape, **best_config)\n",
    "\n",
    "history10 = model10.fit(Xtrain, Ytrain, batch_size=batch_size, epochs=epochs, verbose=1, validation_data=(Xval, Yval), class_weight=class_weights)\n"
   ]
  },
  {
   "cell_type": "code",
   "execution_count": 174,
   "metadata": {},
   "outputs": [
    {
     "name": "stdout",
     "output_type": "stream",
     "text": [
      "Test loss: 0.2367\n",
      "Test accuracy: 0.9294\n"
     ]
    }
   ],
   "source": [
    "# Evaluate DNN on test data\n",
    "score = model10.evaluate(Xtest, Ytest, verbose=0)\n",
    "\n",
    "print('Test loss: %.4f' % score[0])\n",
    "print('Test accuracy: %.4f' % score[1])"
   ]
  },
  {
   "cell_type": "markdown",
   "metadata": {},
   "source": [
    "# Part 20: Dropout uncertainty\n",
    "\n",
    "Dropout can also be used during testing, to obtain an estimate of the model uncertainty. Since dropout will randomly remove connections, the network will produce different results every time the same (test) data is put into the network. This technique is called Monte Carlo dropout. For more information, see this paper http://proceedings.mlr.press/v48/gal16.pdf\n",
    "\n",
    "To achieve this, we need to redefine the Keras Dropout call by running the cell below, and use 'myDropout' in each call to Dropout, in the cell that defines the DNN. The `build_DNN` function takes two boolean arguments, use_dropout and use_custom_dropout, add a standard Dropout layer if use_dropout is true, add a myDropout layer if use_custom_dropout is true.\n",
    "\n",
    "Run the same test data through the trained network 100 times, with dropout turned on. \n",
    "\n",
    "Question 18: What is the mean and the standard deviation of the test accuracy?\n",
    "\n",
    "<span style=\"color:blue\"> The mean and standard deviation of the test accuracy are 0.9183 and 0.000106 respectively.</span>"
   ]
  },
  {
   "cell_type": "code",
   "execution_count": 175,
   "metadata": {},
   "outputs": [],
   "source": [
    "import keras.backend as K\n",
    "import keras\n",
    "\n",
    "class myDropout(keras.layers.Dropout):\n",
    "    \"\"\"Applies Dropout to the input.\n",
    "    Dropout consists in randomly setting\n",
    "    a fraction `rate` of input units to 0 at each update during training time,\n",
    "    which helps prevent overfitting.\n",
    "    # Arguments\n",
    "        rate: float between 0 and 1. Fraction of the input units to drop.\n",
    "        noise_shape: 1D integer tensor representing the shape of the\n",
    "            binary dropout mask that will be multiplied with the input.\n",
    "            For instance, if your inputs have shape\n",
    "            `(batch_size, timesteps, features)` and\n",
    "            you want the dropout mask to be the same for all timesteps,\n",
    "            you can use `noise_shape=(batch_size, 1, features)`.\n",
    "        seed: A Python integer to use as random seed.\n",
    "    # References\n",
    "        - [Dropout: A Simple Way to Prevent Neural Networks from Overfitting](\n",
    "           http://www.jmlr.org/papers/volume15/srivastava14a/srivastava14a.pdf)\n",
    "    \"\"\"\n",
    "    def __init__(self, rate, training=True, noise_shape=None, seed=None, **kwargs):\n",
    "        super(myDropout, self).__init__(rate, noise_shape=None, seed=None,**kwargs)\n",
    "        self.training = training\n",
    "\n",
    "        \n",
    "    def call(self, inputs, training=None):\n",
    "        if 0. < self.rate < 1.:\n",
    "            noise_shape = self._get_noise_shape(inputs)\n",
    "\n",
    "            def dropped_inputs():\n",
    "                return K.dropout(inputs, self.rate, noise_shape,\n",
    "                                 seed=self.seed)\n",
    "            if not training: \n",
    "                return K.in_train_phase(dropped_inputs, inputs, training=self.training)\n",
    "            return K.in_train_phase(dropped_inputs, inputs, training=training)\n",
    "        return inputs"
   ]
  },
  {
   "cell_type": "code",
   "execution_count": 176,
   "metadata": {},
   "outputs": [],
   "source": [
    "def build_DNN(input_shape, n_layers, n_nodes, act_fun='sigmoid', optimizer='sgd', learning_rate=0.01, \n",
    "              use_bn=False, use_dropout=False, use_custom_dropout=False, dropout_rate=0.5):\n",
    "    \n",
    "    # Setup optimizer, depending on input parameter string\n",
    "    if optimizer == 'sgd':\n",
    "        optimizer = SGD(learning_rate=learning_rate)\n",
    "    elif optimizer == 'adam':\n",
    "        optimizer = Adam(learning_rate=learning_rate)\n",
    "    \n",
    "    # Setup a sequential model\n",
    "    model = Sequential()\n",
    "\n",
    "    # Add layers to the model, using the input parameters of the build_DNN function\n",
    "    \n",
    "    # Add first layer, requires input shape\n",
    "    model.add(Dense(n_nodes, activation=act_fun, input_shape=input_shape))\n",
    "    if use_bn:\n",
    "        model.add(BatchNormalization())\n",
    "    if use_custom_dropout:\n",
    "        model.add(myDropout(dropout_rate))  # Add custom dropout after the first layer\n",
    "    elif use_dropout:\n",
    "        model.add(Dropout(dropout_rate))\n",
    "    \n",
    "    # Add remaining layers, do not require input shape\n",
    "    for i in range(n_layers-1):\n",
    "        model.add(Dense(n_nodes, activation=act_fun))\n",
    "        if use_bn:\n",
    "            model.add(BatchNormalization())\n",
    "        if use_custom_dropout:\n",
    "            model.add(myDropout(dropout_rate))  # Add custom dropout after each Dense layer\n",
    "        elif use_dropout:\n",
    "            model.add(Dropout(dropout_rate))\n",
    "    \n",
    "    # Add final layer\n",
    "    model.add(Dense(1, activation='sigmoid'))\n",
    "    \n",
    "    # Compile model\n",
    "    model.compile(loss='binary_crossentropy', optimizer=optimizer, metrics=['accuracy'])\n",
    "    \n",
    "    return model\n"
   ]
  },
  {
   "cell_type": "markdown",
   "metadata": {},
   "source": [
    "### Your best config, custom dropout"
   ]
  },
  {
   "cell_type": "code",
   "execution_count": 189,
   "metadata": {
    "scrolled": true
   },
   "outputs": [
    {
     "name": "stdout",
     "output_type": "stream",
     "text": [
      "Epoch 1/20\n",
      "54/54 [==============================] - 21s 280ms/step - loss: 0.3014 - accuracy: 0.8784 - val_loss: 3.4596 - val_accuracy: 0.8521\n",
      "Epoch 2/20\n",
      "54/54 [==============================] - 15s 269ms/step - loss: 0.1878 - accuracy: 0.9109 - val_loss: 0.4067 - val_accuracy: 0.8973\n",
      "Epoch 3/20\n",
      "54/54 [==============================] - 14s 268ms/step - loss: 0.1795 - accuracy: 0.9137 - val_loss: 0.2306 - val_accuracy: 0.9157\n",
      "Epoch 4/20\n",
      "54/54 [==============================] - 15s 268ms/step - loss: 0.1764 - accuracy: 0.9143 - val_loss: 0.1773 - val_accuracy: 0.9161\n",
      "Epoch 5/20\n",
      "54/54 [==============================] - 15s 271ms/step - loss: 0.1750 - accuracy: 0.9148 - val_loss: 0.1831 - val_accuracy: 0.9173\n",
      "Epoch 6/20\n",
      "54/54 [==============================] - 15s 269ms/step - loss: 0.1737 - accuracy: 0.9151 - val_loss: 0.1626 - val_accuracy: 0.9171\n",
      "Epoch 7/20\n",
      "54/54 [==============================] - 15s 271ms/step - loss: 0.1722 - accuracy: 0.9149 - val_loss: 0.1668 - val_accuracy: 0.9174\n",
      "Epoch 8/20\n",
      "54/54 [==============================] - 15s 276ms/step - loss: 0.1718 - accuracy: 0.9151 - val_loss: 0.1706 - val_accuracy: 0.9176\n",
      "Epoch 9/20\n",
      "54/54 [==============================] - 16s 294ms/step - loss: 0.1718 - accuracy: 0.9154 - val_loss: 0.1741 - val_accuracy: 0.9171\n",
      "Epoch 10/20\n",
      "54/54 [==============================] - 16s 287ms/step - loss: 0.1717 - accuracy: 0.9153 - val_loss: 0.1715 - val_accuracy: 0.9172\n",
      "Epoch 11/20\n",
      "54/54 [==============================] - 16s 292ms/step - loss: 0.1711 - accuracy: 0.9155 - val_loss: 0.1780 - val_accuracy: 0.9182\n",
      "Epoch 12/20\n",
      "54/54 [==============================] - 15s 284ms/step - loss: 0.1708 - accuracy: 0.9153 - val_loss: 0.1880 - val_accuracy: 0.9172\n",
      "Epoch 13/20\n",
      "54/54 [==============================] - 15s 270ms/step - loss: 0.1705 - accuracy: 0.9156 - val_loss: 0.2024 - val_accuracy: 0.9177\n",
      "Epoch 14/20\n",
      "54/54 [==============================] - 15s 273ms/step - loss: 0.1714 - accuracy: 0.9154 - val_loss: 0.1948 - val_accuracy: 0.9174\n",
      "Epoch 15/20\n",
      "54/54 [==============================] - 15s 269ms/step - loss: 0.1700 - accuracy: 0.9157 - val_loss: 0.2086 - val_accuracy: 0.9168\n",
      "Epoch 16/20\n",
      "54/54 [==============================] - 15s 271ms/step - loss: 0.1692 - accuracy: 0.9154 - val_loss: 0.1994 - val_accuracy: 0.9167\n",
      "Epoch 17/20\n",
      "54/54 [==============================] - 15s 275ms/step - loss: 0.1691 - accuracy: 0.9159 - val_loss: 0.2008 - val_accuracy: 0.9181\n",
      "Epoch 18/20\n",
      "54/54 [==============================] - 15s 276ms/step - loss: 0.1700 - accuracy: 0.9161 - val_loss: 0.2097 - val_accuracy: 0.9180\n",
      "Epoch 19/20\n",
      "54/54 [==============================] - 15s 270ms/step - loss: 0.1673 - accuracy: 0.9167 - val_loss: 0.1958 - val_accuracy: 0.9203\n",
      "Epoch 20/20\n",
      "54/54 [==============================] - 15s 270ms/step - loss: 0.1675 - accuracy: 0.9171 - val_loss: 0.1984 - val_accuracy: 0.9195\n"
     ]
    }
   ],
   "source": [
    "# Your best training parameters\n",
    "batch_size = 10000\n",
    "epochs = 20\n",
    "input_shape = (Xtrain.shape[1],)\n",
    "\n",
    "best_config = {\n",
    "    'n_layers': 10,  # Number of layers\n",
    "    'n_nodes': 128,  # Number of nodes per layer\n",
    "    'act_fun': 'relu',  # Activation function\n",
    "    'optimizer': 'adam',  # Optimizer\n",
    "    'learning_rate': 0.1,  # Learning rate\n",
    "    'use_dropout': False,  # Use dropout regularization or not\n",
    "    'use_bn': True,  # Use bach normalization or not\n",
    "    'use_custom_dropout': True,  # Use custom dropout regularization or not\n",
    "    'dropout_rate': 0.3\n",
    "}\n",
    "\n",
    "# Build and train model\n",
    "model11 = build_DNN(input_shape, **best_config)\n",
    "\n",
    "history11 = model11.fit(Xtrain, Ytrain, batch_size=batch_size, epochs=epochs, verbose=1, validation_data=(Xval, Yval), class_weight=class_weights)"
   ]
  },
  {
   "cell_type": "code",
   "execution_count": 192,
   "metadata": {},
   "outputs": [
    {
     "name": "stdout",
     "output_type": "stream",
     "text": [
      "Test accuracy: 0.9185\n"
     ]
    }
   ],
   "source": [
    "# Run this cell a few times to evalute the model on test data, \n",
    "# if you get slightly different test accuracy every time, Dropout during testing is working\n",
    "\n",
    "# Evaluate model on test data\n",
    "score = model11.evaluate(Xtest, Ytest, verbose=0)\n",
    "                       \n",
    "print('Test accuracy: %.4f' % score[1])"
   ]
  },
  {
   "cell_type": "code",
   "execution_count": 193,
   "metadata": {},
   "outputs": [
    {
     "name": "stdout",
     "output_type": "stream",
     "text": [
      "Mean accuracy:  0.9183111274242401\n",
      "Standard deviation:  0.00010633079654401448\n"
     ]
    }
   ],
   "source": [
    "# Run the testing 100 times, and save the accuracies in an array\n",
    "# Placeholder for accuracies\n",
    "accuracies = []\n",
    "\n",
    "# Run the testing 100 times\n",
    "for i in range(100):\n",
    "    # Evaluate model on test data\n",
    "    score = model11.evaluate(Xtest, Ytest, verbose=0)\n",
    "    accuracies.append(score[1])\n",
    "    \n",
    "# Calculate and print mean and std of accuracies\n",
    "print('Mean accuracy: ', np.mean(accuracies))\n",
    "print('Standard deviation: ', np.std(accuracies))\n"
   ]
  },
  {
   "cell_type": "markdown",
   "metadata": {},
   "source": [
    "# Part 21: Cross validation uncertainty\n",
    "\n",
    "Cross validation (CV) is often used to evaluate a model, by training and testing using different subsets of the data it is possible to get the uncertainty as the standard deviation over folds. We here use a help function from scikit-learn to setup the CV, see https://scikit-learn.org/stable/modules/generated/sklearn.model_selection.StratifiedKFold.html . Use 10 folds with shuffling, random state 1234. \n",
    "\n",
    "Note: We here assume that you have found the best hyper parameters, so here the data are only split into training and testing, no validation.\n",
    "\n",
    "---\n",
    "\n",
    "Question 19: What is the mean and the standard deviation of the test accuracy?\n",
    "\n",
    "<span style=\"color:blue\"> The mean and standard deviation of the test accuracy are 0.917779 and 0.001635 respectively.</span>\n",
    "\n",
    "Question 20: What is the main advantage of dropout compared to CV for estimating test uncertainty? The difference may not be so large in this notebook, but imagine that you have a network that takes 24 hours to train.\n",
    "\n",
    "<span style=\"color:blue\"> The main advantage of dropout compared to CV for estimating test uncertainty is that dropout is much less computationally expensive. Dropout can be easily parallelized because each dropout mask is independent. On the other hand, CV requires training the model from scratch for each fold, which can be computationally expensive for large models and datasets.</span>"
   ]
  },
  {
   "cell_type": "code",
   "execution_count": 194,
   "metadata": {},
   "outputs": [
    {
     "name": "stdout",
     "output_type": "stream",
     "text": [
      "Epoch 1/20\n",
      "69/69 [==============================] - 24s 266ms/step - loss: 0.3077 - accuracy: 0.8588\n",
      "Epoch 2/20\n",
      "69/69 [==============================] - 18s 256ms/step - loss: 0.2020 - accuracy: 0.8989\n",
      "Epoch 3/20\n",
      "69/69 [==============================] - 18s 260ms/step - loss: 0.1790 - accuracy: 0.9133\n",
      "Epoch 4/20\n",
      "69/69 [==============================] - 18s 258ms/step - loss: 0.1738 - accuracy: 0.9149\n",
      "Epoch 5/20\n",
      "69/69 [==============================] - 18s 255ms/step - loss: 0.1723 - accuracy: 0.9153\n",
      "Epoch 6/20\n",
      "69/69 [==============================] - 17s 241ms/step - loss: 0.1715 - accuracy: 0.9147\n",
      "Epoch 7/20\n",
      "69/69 [==============================] - 17s 245ms/step - loss: 0.1722 - accuracy: 0.9153\n",
      "Epoch 8/20\n",
      "69/69 [==============================] - 17s 250ms/step - loss: 0.1706 - accuracy: 0.9154\n",
      "Epoch 9/20\n",
      "69/69 [==============================] - 17s 248ms/step - loss: 0.1707 - accuracy: 0.9156\n",
      "Epoch 10/20\n",
      "69/69 [==============================] - 17s 250ms/step - loss: 0.1703 - accuracy: 0.9159\n",
      "Epoch 11/20\n",
      "69/69 [==============================] - 17s 249ms/step - loss: 0.1698 - accuracy: 0.9160\n",
      "Epoch 12/20\n",
      "69/69 [==============================] - 17s 249ms/step - loss: 0.1687 - accuracy: 0.9160\n",
      "Epoch 13/20\n",
      "69/69 [==============================] - 17s 250ms/step - loss: 0.1697 - accuracy: 0.9159\n",
      "Epoch 14/20\n",
      "69/69 [==============================] - 17s 250ms/step - loss: 0.1692 - accuracy: 0.9155\n",
      "Epoch 15/20\n",
      "69/69 [==============================] - 17s 250ms/step - loss: 0.1671 - accuracy: 0.9160\n",
      "Epoch 16/20\n",
      "69/69 [==============================] - 18s 257ms/step - loss: 0.1651 - accuracy: 0.9164\n",
      "Epoch 17/20\n",
      "69/69 [==============================] - 18s 258ms/step - loss: 0.1660 - accuracy: 0.9164\n",
      "Epoch 18/20\n",
      "69/69 [==============================] - 19s 276ms/step - loss: 0.1640 - accuracy: 0.9169\n",
      "Epoch 19/20\n",
      "69/69 [==============================] - 18s 267ms/step - loss: 0.1637 - accuracy: 0.9170\n",
      "Epoch 20/20\n",
      "69/69 [==============================] - 18s 259ms/step - loss: 0.1637 - accuracy: 0.9168\n",
      "Epoch 1/20\n",
      "69/69 [==============================] - 23s 252ms/step - loss: 0.3126 - accuracy: 0.8631\n",
      "Epoch 2/20\n",
      "69/69 [==============================] - 18s 266ms/step - loss: 0.1870 - accuracy: 0.9090\n",
      "Epoch 3/20\n",
      "69/69 [==============================] - 17s 250ms/step - loss: 0.1771 - accuracy: 0.9136\n",
      "Epoch 4/20\n",
      "69/69 [==============================] - 17s 254ms/step - loss: 0.1744 - accuracy: 0.9143\n",
      "Epoch 5/20\n",
      "69/69 [==============================] - 18s 254ms/step - loss: 0.1734 - accuracy: 0.9145\n",
      "Epoch 6/20\n",
      "69/69 [==============================] - 18s 258ms/step - loss: 0.1725 - accuracy: 0.9150\n",
      "Epoch 7/20\n",
      "69/69 [==============================] - 18s 256ms/step - loss: 0.1702 - accuracy: 0.9152\n",
      "Epoch 8/20\n",
      "69/69 [==============================] - 18s 255ms/step - loss: 0.1710 - accuracy: 0.9151\n",
      "Epoch 9/20\n",
      "69/69 [==============================] - 17s 252ms/step - loss: 0.1699 - accuracy: 0.9155\n",
      "Epoch 10/20\n",
      "69/69 [==============================] - 17s 252ms/step - loss: 0.1700 - accuracy: 0.9154\n",
      "Epoch 11/20\n",
      "69/69 [==============================] - 18s 256ms/step - loss: 0.1688 - accuracy: 0.9162\n",
      "Epoch 12/20\n",
      "69/69 [==============================] - 18s 264ms/step - loss: 0.1682 - accuracy: 0.9157\n",
      "Epoch 13/20\n",
      "69/69 [==============================] - 17s 253ms/step - loss: 0.1663 - accuracy: 0.9164\n",
      "Epoch 14/20\n",
      "69/69 [==============================] - 18s 254ms/step - loss: 0.1648 - accuracy: 0.9165\n",
      "Epoch 15/20\n",
      "69/69 [==============================] - 18s 255ms/step - loss: 0.1644 - accuracy: 0.9168\n",
      "Epoch 16/20\n",
      "69/69 [==============================] - 18s 255ms/step - loss: 0.1638 - accuracy: 0.9167\n",
      "Epoch 17/20\n",
      "69/69 [==============================] - 18s 262ms/step - loss: 0.1636 - accuracy: 0.9164\n",
      "Epoch 18/20\n",
      "69/69 [==============================] - 18s 258ms/step - loss: 0.1632 - accuracy: 0.9164\n",
      "Epoch 19/20\n",
      "69/69 [==============================] - 18s 253ms/step - loss: 0.1617 - accuracy: 0.9170\n",
      "Epoch 20/20\n",
      "69/69 [==============================] - 18s 254ms/step - loss: 0.1603 - accuracy: 0.9174\n",
      "Epoch 1/20\n",
      "69/69 [==============================] - 25s 248ms/step - loss: 0.3170 - accuracy: 0.8469\n",
      "Epoch 2/20\n",
      "69/69 [==============================] - 17s 250ms/step - loss: 0.1798 - accuracy: 0.9109\n",
      "Epoch 3/20\n",
      "69/69 [==============================] - 18s 257ms/step - loss: 0.1744 - accuracy: 0.9139\n",
      "Epoch 4/20\n",
      "69/69 [==============================] - 23s 331ms/step - loss: 0.1724 - accuracy: 0.9145\n",
      "Epoch 5/20\n",
      "69/69 [==============================] - 22s 317ms/step - loss: 0.1717 - accuracy: 0.9149\n",
      "Epoch 6/20\n",
      "69/69 [==============================] - 18s 261ms/step - loss: 0.1713 - accuracy: 0.9150\n",
      "Epoch 7/20\n",
      "69/69 [==============================] - 18s 256ms/step - loss: 0.1704 - accuracy: 0.9153\n",
      "Epoch 8/20\n",
      "69/69 [==============================] - 18s 254ms/step - loss: 0.1700 - accuracy: 0.9157\n",
      "Epoch 9/20\n",
      "69/69 [==============================] - 18s 258ms/step - loss: 0.1708 - accuracy: 0.9159\n",
      "Epoch 10/20\n",
      "69/69 [==============================] - 17s 250ms/step - loss: 0.1696 - accuracy: 0.9157\n",
      "Epoch 11/20\n",
      "69/69 [==============================] - 16s 238ms/step - loss: 0.1687 - accuracy: 0.9162\n",
      "Epoch 12/20\n",
      "69/69 [==============================] - 17s 246ms/step - loss: 0.1692 - accuracy: 0.9160\n",
      "Epoch 13/20\n",
      "69/69 [==============================] - 17s 249ms/step - loss: 0.1683 - accuracy: 0.9161\n",
      "Epoch 14/20\n",
      "69/69 [==============================] - 17s 248ms/step - loss: 0.1685 - accuracy: 0.9160\n",
      "Epoch 15/20\n",
      "69/69 [==============================] - 17s 244ms/step - loss: 0.1682 - accuracy: 0.9169\n",
      "Epoch 16/20\n",
      "69/69 [==============================] - 17s 247ms/step - loss: 0.1676 - accuracy: 0.9167\n",
      "Epoch 17/20\n",
      "69/69 [==============================] - 17s 246ms/step - loss: 0.1671 - accuracy: 0.9173\n",
      "Epoch 18/20\n",
      "69/69 [==============================] - 17s 244ms/step - loss: 0.1668 - accuracy: 0.9173\n",
      "Epoch 19/20\n",
      "69/69 [==============================] - 17s 245ms/step - loss: 0.1665 - accuracy: 0.9178\n",
      "Epoch 20/20\n",
      "69/69 [==============================] - 17s 246ms/step - loss: 0.1665 - accuracy: 0.9173\n",
      "Epoch 1/20\n",
      "69/69 [==============================] - 348s 5s/step - loss: 0.3691 - accuracy: 0.8167\n",
      "Epoch 2/20\n",
      "69/69 [==============================] - 350s 5s/step - loss: 0.1919 - accuracy: 0.9035\n",
      "Epoch 3/20\n",
      "69/69 [==============================] - 353s 5s/step - loss: 0.1771 - accuracy: 0.9127\n",
      "Epoch 4/20\n",
      "69/69 [==============================] - 646s 9s/step - loss: 0.1738 - accuracy: 0.9134\n",
      "Epoch 5/20\n",
      "69/69 [==============================] - 349s 5s/step - loss: 0.1723 - accuracy: 0.9148\n",
      "Epoch 6/20\n",
      "69/69 [==============================] - 362s 5s/step - loss: 0.1713 - accuracy: 0.9150\n",
      "Epoch 7/20\n",
      "69/69 [==============================] - 64s 935ms/step - loss: 0.1711 - accuracy: 0.9152\n",
      "Epoch 8/20\n",
      "69/69 [==============================] - 24s 350ms/step - loss: 0.1701 - accuracy: 0.9157\n",
      "Epoch 9/20\n",
      "69/69 [==============================] - 30s 430ms/step - loss: 0.1703 - accuracy: 0.9155\n",
      "Epoch 10/20\n",
      "69/69 [==============================] - 28s 399ms/step - loss: 0.1696 - accuracy: 0.9160\n",
      "Epoch 11/20\n",
      "69/69 [==============================] - 30s 428ms/step - loss: 0.1689 - accuracy: 0.9160\n",
      "Epoch 12/20\n",
      "69/69 [==============================] - 322s 5s/step - loss: 0.1688 - accuracy: 0.9162\n",
      "Epoch 13/20\n",
      "69/69 [==============================] - 64s 942ms/step - loss: 0.1691 - accuracy: 0.9162\n",
      "Epoch 14/20\n",
      "69/69 [==============================] - 24s 343ms/step - loss: 0.1684 - accuracy: 0.9159\n",
      "Epoch 15/20\n",
      "69/69 [==============================] - 29s 416ms/step - loss: 0.1686 - accuracy: 0.9161\n",
      "Epoch 16/20\n",
      "69/69 [==============================] - 26s 371ms/step - loss: 0.1676 - accuracy: 0.9163\n",
      "Epoch 17/20\n",
      "69/69 [==============================] - 28s 407ms/step - loss: 0.1647 - accuracy: 0.9174\n",
      "Epoch 18/20\n",
      "69/69 [==============================] - 26s 383ms/step - loss: 0.1643 - accuracy: 0.9172\n",
      "Epoch 19/20\n",
      "69/69 [==============================] - 28s 412ms/step - loss: 0.1634 - accuracy: 0.9173\n",
      "Epoch 20/20\n",
      "69/69 [==============================] - 26s 378ms/step - loss: 0.1636 - accuracy: 0.9172\n",
      "Epoch 1/20\n"
     ]
    },
    {
     "name": "stdout",
     "output_type": "stream",
     "text": [
      "69/69 [==============================] - 30s 351ms/step - loss: 0.3058 - accuracy: 0.8573\n",
      "Epoch 2/20\n",
      "69/69 [==============================] - 26s 372ms/step - loss: 0.1857 - accuracy: 0.9086\n",
      "Epoch 3/20\n",
      "69/69 [==============================] - 31s 447ms/step - loss: 0.1759 - accuracy: 0.9139\n",
      "Epoch 4/20\n",
      "69/69 [==============================] - 27s 384ms/step - loss: 0.1731 - accuracy: 0.9149\n",
      "Epoch 5/20\n",
      "69/69 [==============================] - 27s 394ms/step - loss: 0.1728 - accuracy: 0.9142\n",
      "Epoch 6/20\n",
      "69/69 [==============================] - 27s 397ms/step - loss: 0.1717 - accuracy: 0.9153\n",
      "Epoch 7/20\n",
      "69/69 [==============================] - 27s 394ms/step - loss: 0.1707 - accuracy: 0.9156\n",
      "Epoch 8/20\n",
      "69/69 [==============================] - 28s 409ms/step - loss: 0.1696 - accuracy: 0.9158\n",
      "Epoch 9/20\n",
      "69/69 [==============================] - 29s 426ms/step - loss: 0.1689 - accuracy: 0.9157\n",
      "Epoch 10/20\n",
      "69/69 [==============================] - 27s 395ms/step - loss: 0.1692 - accuracy: 0.9160\n",
      "Epoch 11/20\n",
      "69/69 [==============================] - 32s 470ms/step - loss: 0.1692 - accuracy: 0.9159\n",
      "Epoch 12/20\n",
      "69/69 [==============================] - 34s 490ms/step - loss: 0.1696 - accuracy: 0.9159\n",
      "Epoch 13/20\n",
      "69/69 [==============================] - 33s 484ms/step - loss: 0.1687 - accuracy: 0.9161\n",
      "Epoch 14/20\n",
      "69/69 [==============================] - 35s 501ms/step - loss: 0.1680 - accuracy: 0.9166\n",
      "Epoch 15/20\n",
      "69/69 [==============================] - 35s 500ms/step - loss: 0.1667 - accuracy: 0.9174\n",
      "Epoch 16/20\n",
      "69/69 [==============================] - 33s 481ms/step - loss: 0.1674 - accuracy: 0.9170\n",
      "Epoch 17/20\n",
      "69/69 [==============================] - 34s 487ms/step - loss: 0.1672 - accuracy: 0.9171\n",
      "Epoch 18/20\n",
      "69/69 [==============================] - 33s 481ms/step - loss: 0.1661 - accuracy: 0.9173\n",
      "Epoch 19/20\n",
      "69/69 [==============================] - 35s 507ms/step - loss: 0.1661 - accuracy: 0.9175\n",
      "Epoch 20/20\n",
      "69/69 [==============================] - 35s 500ms/step - loss: 0.1651 - accuracy: 0.9177\n",
      "Epoch 1/20\n",
      "69/69 [==============================] - 55s 685ms/step - loss: 0.2875 - accuracy: 0.8730\n",
      "Epoch 2/20\n",
      "69/69 [==============================] - 33s 477ms/step - loss: 0.1834 - accuracy: 0.9120\n",
      "Epoch 3/20\n",
      "69/69 [==============================] - 34s 493ms/step - loss: 0.1773 - accuracy: 0.9140\n",
      "Epoch 4/20\n",
      "69/69 [==============================] - 34s 499ms/step - loss: 0.1735 - accuracy: 0.9148\n",
      "Epoch 5/20\n",
      "69/69 [==============================] - 33s 474ms/step - loss: 0.1734 - accuracy: 0.9152\n",
      "Epoch 6/20\n",
      "69/69 [==============================] - 33s 474ms/step - loss: 0.1715 - accuracy: 0.9157\n",
      "Epoch 7/20\n",
      "69/69 [==============================] - 33s 479ms/step - loss: 0.1713 - accuracy: 0.9155\n",
      "Epoch 8/20\n",
      "69/69 [==============================] - 34s 499ms/step - loss: 0.1692 - accuracy: 0.9158\n",
      "Epoch 9/20\n",
      "69/69 [==============================] - 35s 504ms/step - loss: 0.1688 - accuracy: 0.9165\n",
      "Epoch 10/20\n",
      "69/69 [==============================] - 34s 499ms/step - loss: 0.1677 - accuracy: 0.9168\n",
      "Epoch 11/20\n",
      "69/69 [==============================] - 33s 475ms/step - loss: 0.1686 - accuracy: 0.9164\n",
      "Epoch 12/20\n",
      "69/69 [==============================] - 34s 493ms/step - loss: 0.1685 - accuracy: 0.9166\n",
      "Epoch 13/20\n",
      "69/69 [==============================] - 33s 475ms/step - loss: 0.1691 - accuracy: 0.9161\n",
      "Epoch 14/20\n",
      "69/69 [==============================] - 34s 493ms/step - loss: 0.1665 - accuracy: 0.9164\n",
      "Epoch 15/20\n",
      "69/69 [==============================] - 33s 481ms/step - loss: 0.1644 - accuracy: 0.9173\n",
      "Epoch 16/20\n",
      "69/69 [==============================] - 33s 484ms/step - loss: 0.1643 - accuracy: 0.9169\n",
      "Epoch 17/20\n",
      "69/69 [==============================] - 33s 482ms/step - loss: 0.1650 - accuracy: 0.9168\n",
      "Epoch 18/20\n",
      "69/69 [==============================] - 33s 484ms/step - loss: 0.1614 - accuracy: 0.9179\n",
      "Epoch 19/20\n",
      "69/69 [==============================] - 34s 495ms/step - loss: 0.1610 - accuracy: 0.9179\n",
      "Epoch 20/20\n",
      "69/69 [==============================] - 34s 493ms/step - loss: 0.1607 - accuracy: 0.9178\n",
      "Epoch 1/20\n",
      "69/69 [==============================] - 49s 633ms/step - loss: 0.2870 - accuracy: 0.8801\n",
      "Epoch 2/20\n",
      "69/69 [==============================] - 35s 510ms/step - loss: 0.1816 - accuracy: 0.9130\n",
      "Epoch 3/20\n",
      "69/69 [==============================] - 33s 477ms/step - loss: 0.1776 - accuracy: 0.9141\n",
      "Epoch 4/20\n",
      "69/69 [==============================] - 34s 500ms/step - loss: 0.1736 - accuracy: 0.9148\n",
      "Epoch 5/20\n",
      "69/69 [==============================] - 34s 488ms/step - loss: 0.1731 - accuracy: 0.9142\n",
      "Epoch 6/20\n",
      "69/69 [==============================] - 34s 490ms/step - loss: 0.1717 - accuracy: 0.9149\n",
      "Epoch 7/20\n",
      "69/69 [==============================] - 33s 485ms/step - loss: 0.1711 - accuracy: 0.9153\n",
      "Epoch 8/20\n",
      "69/69 [==============================] - 34s 496ms/step - loss: 0.1701 - accuracy: 0.9153\n",
      "Epoch 9/20\n",
      "69/69 [==============================] - 34s 498ms/step - loss: 0.1708 - accuracy: 0.9149\n",
      "Epoch 10/20\n",
      "69/69 [==============================] - 35s 505ms/step - loss: 0.1702 - accuracy: 0.9156\n",
      "Epoch 11/20\n",
      "69/69 [==============================] - 34s 499ms/step - loss: 0.1688 - accuracy: 0.9155\n",
      "Epoch 12/20\n",
      "69/69 [==============================] - 34s 490ms/step - loss: 0.1671 - accuracy: 0.9156\n",
      "Epoch 13/20\n",
      "69/69 [==============================] - 34s 499ms/step - loss: 0.1679 - accuracy: 0.9150\n",
      "Epoch 14/20\n",
      "69/69 [==============================] - 35s 505ms/step - loss: 0.1650 - accuracy: 0.9161\n",
      "Epoch 15/20\n",
      "69/69 [==============================] - 35s 512ms/step - loss: 0.1649 - accuracy: 0.9162\n",
      "Epoch 16/20\n",
      "69/69 [==============================] - 35s 508ms/step - loss: 0.1630 - accuracy: 0.9169\n",
      "Epoch 17/20\n",
      "69/69 [==============================] - 35s 505ms/step - loss: 0.1621 - accuracy: 0.9168\n",
      "Epoch 18/20\n",
      "69/69 [==============================] - 34s 493ms/step - loss: 0.1622 - accuracy: 0.9164\n",
      "Epoch 19/20\n",
      "69/69 [==============================] - 34s 497ms/step - loss: 0.1602 - accuracy: 0.9171\n",
      "Epoch 20/20\n",
      "69/69 [==============================] - 34s 492ms/step - loss: 0.1603 - accuracy: 0.9169\n",
      "Epoch 1/20\n",
      "69/69 [==============================] - 58s 767ms/step - loss: 0.3129 - accuracy: 0.8452\n",
      "Epoch 2/20\n",
      "69/69 [==============================] - 36s 519ms/step - loss: 0.1833 - accuracy: 0.9083\n",
      "Epoch 3/20\n",
      "69/69 [==============================] - 34s 500ms/step - loss: 0.1733 - accuracy: 0.9138\n",
      "Epoch 4/20\n",
      "69/69 [==============================] - 33s 482ms/step - loss: 0.1744 - accuracy: 0.9146\n",
      "Epoch 5/20\n",
      "69/69 [==============================] - 34s 486ms/step - loss: 0.1719 - accuracy: 0.9149\n",
      "Epoch 6/20\n",
      "69/69 [==============================] - 33s 481ms/step - loss: 0.1708 - accuracy: 0.9149\n",
      "Epoch 7/20\n",
      "69/69 [==============================] - 34s 491ms/step - loss: 0.1699 - accuracy: 0.9155\n",
      "Epoch 8/20\n",
      "69/69 [==============================] - 34s 498ms/step - loss: 0.1694 - accuracy: 0.9157\n",
      "Epoch 9/20\n",
      "69/69 [==============================] - 34s 487ms/step - loss: 0.1693 - accuracy: 0.9158\n",
      "Epoch 10/20\n",
      "69/69 [==============================] - 33s 485ms/step - loss: 0.1698 - accuracy: 0.9159\n",
      "Epoch 11/20\n",
      "69/69 [==============================] - 34s 487ms/step - loss: 0.1689 - accuracy: 0.9159\n",
      "Epoch 12/20\n",
      "69/69 [==============================] - 33s 480ms/step - loss: 0.1685 - accuracy: 0.9165\n",
      "Epoch 13/20\n",
      "69/69 [==============================] - 35s 510ms/step - loss: 0.1690 - accuracy: 0.9161\n",
      "Epoch 14/20\n",
      "69/69 [==============================] - 34s 499ms/step - loss: 0.1673 - accuracy: 0.9168\n",
      "Epoch 15/20\n",
      "69/69 [==============================] - 35s 507ms/step - loss: 0.1679 - accuracy: 0.9171\n",
      "Epoch 16/20\n",
      "69/69 [==============================] - 35s 508ms/step - loss: 0.1679 - accuracy: 0.9167\n",
      "Epoch 17/20\n",
      "69/69 [==============================] - 35s 500ms/step - loss: 0.1664 - accuracy: 0.9175\n",
      "Epoch 18/20\n",
      "69/69 [==============================] - 35s 504ms/step - loss: 0.1665 - accuracy: 0.9175\n",
      "Epoch 19/20\n",
      "69/69 [==============================] - 34s 498ms/step - loss: 0.1667 - accuracy: 0.9172\n",
      "Epoch 20/20\n",
      "69/69 [==============================] - 35s 499ms/step - loss: 0.1669 - accuracy: 0.9173\n",
      "Epoch 1/20\n"
     ]
    },
    {
     "name": "stdout",
     "output_type": "stream",
     "text": [
      "69/69 [==============================] - 52s 688ms/step - loss: 0.3094 - accuracy: 0.8549\n",
      "Epoch 2/20\n",
      "69/69 [==============================] - 35s 508ms/step - loss: 0.1838 - accuracy: 0.9104\n",
      "Epoch 3/20\n",
      "69/69 [==============================] - 34s 495ms/step - loss: 0.1751 - accuracy: 0.9141\n",
      "Epoch 4/20\n",
      "69/69 [==============================] - 34s 495ms/step - loss: 0.1737 - accuracy: 0.9147\n",
      "Epoch 5/20\n",
      "69/69 [==============================] - 36s 525ms/step - loss: 0.1714 - accuracy: 0.9152\n",
      "Epoch 6/20\n",
      "69/69 [==============================] - 36s 518ms/step - loss: 0.1704 - accuracy: 0.9155\n",
      "Epoch 7/20\n",
      "69/69 [==============================] - 34s 494ms/step - loss: 0.1713 - accuracy: 0.9150\n",
      "Epoch 8/20\n",
      "69/69 [==============================] - 34s 489ms/step - loss: 0.1709 - accuracy: 0.9155\n",
      "Epoch 9/20\n",
      "69/69 [==============================] - 34s 488ms/step - loss: 0.1689 - accuracy: 0.9161\n",
      "Epoch 10/20\n",
      "69/69 [==============================] - 33s 484ms/step - loss: 0.1692 - accuracy: 0.9157\n",
      "Epoch 11/20\n",
      "69/69 [==============================] - 34s 489ms/step - loss: 0.1665 - accuracy: 0.9159\n",
      "Epoch 12/20\n",
      "69/69 [==============================] - 34s 490ms/step - loss: 0.1652 - accuracy: 0.9169\n",
      "Epoch 13/20\n",
      "69/69 [==============================] - 34s 488ms/step - loss: 0.1635 - accuracy: 0.9176\n",
      "Epoch 14/20\n",
      "69/69 [==============================] - 33s 479ms/step - loss: 0.1630 - accuracy: 0.9175\n",
      "Epoch 15/20\n",
      "69/69 [==============================] - 34s 496ms/step - loss: 0.1625 - accuracy: 0.9180\n",
      "Epoch 16/20\n",
      "69/69 [==============================] - 34s 494ms/step - loss: 0.1608 - accuracy: 0.9188\n",
      "Epoch 17/20\n",
      "69/69 [==============================] - 34s 489ms/step - loss: 0.1605 - accuracy: 0.9189\n",
      "Epoch 18/20\n",
      "69/69 [==============================] - 34s 497ms/step - loss: 0.1630 - accuracy: 0.9180\n",
      "Epoch 19/20\n",
      "69/69 [==============================] - 34s 492ms/step - loss: 0.1605 - accuracy: 0.9189\n",
      "Epoch 20/20\n",
      "69/69 [==============================] - 34s 500ms/step - loss: 0.1589 - accuracy: 0.9195\n",
      "Epoch 1/20\n",
      "69/69 [==============================] - 350s 5s/step - loss: 0.3292 - accuracy: 0.8422\n",
      "Epoch 2/20\n",
      "69/69 [==============================] - 31s 428ms/step - loss: 0.2004 - accuracy: 0.8981\n",
      "Epoch 3/20\n",
      "69/69 [==============================] - 29s 418ms/step - loss: 0.1751 - accuracy: 0.9137\n",
      "Epoch 4/20\n",
      "69/69 [==============================] - 27s 385ms/step - loss: 0.1737 - accuracy: 0.9148\n",
      "Epoch 5/20\n",
      "69/69 [==============================] - 28s 413ms/step - loss: 0.1718 - accuracy: 0.9150\n",
      "Epoch 6/20\n",
      "69/69 [==============================] - 27s 387ms/step - loss: 0.1716 - accuracy: 0.9155\n",
      "Epoch 7/20\n",
      "69/69 [==============================] - 1033s 15s/step - loss: 0.1693 - accuracy: 0.9159\n",
      "Epoch 8/20\n",
      "69/69 [==============================] - 51s 723ms/step - loss: 0.1698 - accuracy: 0.9157\n",
      "Epoch 9/20\n",
      "69/69 [==============================] - 29s 421ms/step - loss: 0.1701 - accuracy: 0.9158\n",
      "Epoch 10/20\n",
      "69/69 [==============================] - 18s 266ms/step - loss: 0.1701 - accuracy: 0.9158\n",
      "Epoch 11/20\n",
      "69/69 [==============================] - 18s 258ms/step - loss: 0.1684 - accuracy: 0.9166\n",
      "Epoch 12/20\n",
      "69/69 [==============================] - 18s 261ms/step - loss: 0.1678 - accuracy: 0.9170\n",
      "Epoch 13/20\n",
      "69/69 [==============================] - 18s 257ms/step - loss: 0.1684 - accuracy: 0.9171\n",
      "Epoch 14/20\n",
      "69/69 [==============================] - 18s 257ms/step - loss: 0.1665 - accuracy: 0.9176\n",
      "Epoch 15/20\n",
      "69/69 [==============================] - 17s 249ms/step - loss: 0.1666 - accuracy: 0.9177\n",
      "Epoch 16/20\n",
      "69/69 [==============================] - 17s 252ms/step - loss: 0.1658 - accuracy: 0.9176\n",
      "Epoch 17/20\n",
      "69/69 [==============================] - 17s 248ms/step - loss: 0.1662 - accuracy: 0.9176\n",
      "Epoch 18/20\n",
      "69/69 [==============================] - 17s 250ms/step - loss: 0.1668 - accuracy: 0.9174\n",
      "Epoch 19/20\n",
      "69/69 [==============================] - 17s 250ms/step - loss: 0.1673 - accuracy: 0.9175\n",
      "Epoch 20/20\n",
      "69/69 [==============================] - 17s 249ms/step - loss: 0.1656 - accuracy: 0.9181\n",
      "Mean accuracy:  0.917779141664505\n",
      "Standard deviation:  0.001635062007989379\n"
     ]
    }
   ],
   "source": [
    "from sklearn.model_selection import StratifiedKFold\n",
    "\n",
    "# Define 10-fold cross validation\n",
    "kfold = StratifiedKFold(n_splits=10, shuffle=True, random_state=1234)\n",
    "\n",
    "# Placeholder for accuracies\n",
    "cv_accuracies = []\n",
    "\n",
    "batch_size = 10000\n",
    "epochs = 20\n",
    "input_shape = (Xtrain.shape[1],)\n",
    "\n",
    "# best training parameters\n",
    "best_config = {\n",
    "    'n_layers': 10,  # Number of layers\n",
    "    'n_nodes': 128,  # Number of nodes per layer\n",
    "    'act_fun': 'relu',  # Activation function\n",
    "    'optimizer': 'adam',  # Optimizer\n",
    "    'learning_rate': 0.1,  # Learning rate\n",
    "    'use_dropout': False,  # Use dropout regularization or not\n",
    "    'use_bn': True,  # Use bach normalization or not\n",
    "    'use_custom_dropout': True,  # Use custom dropout regularization or not\n",
    "    'dropout_rate': 0.3\n",
    "}\n",
    "\n",
    "# Loop over cross validation folds\n",
    "for train, test in kfold.split(X, Y):\n",
    "    # Calculate class weights for current split\n",
    "    class_weights = class_weight.compute_class_weight('balanced', np.unique(Y[train]), Y[train])\n",
    "    class_weights = dict(enumerate(class_weights))\n",
    "\n",
    "    # Rebuild the DNN model, to not continue training on the previously trained model\n",
    "    model = build_DNN(input_shape, **best_config)\n",
    "\n",
    "    # Fit the model with training set and class weights for this fold\n",
    "    model.fit(X[train], Y[train], batch_size=batch_size, epochs=epochs, verbose=1, class_weight=class_weights)\n",
    "\n",
    "    # Evaluate the model using the test set for this fold\n",
    "    score = model.evaluate(X[test], Y[test], verbose=0)\n",
    "\n",
    "    # Save the test accuracy in an array\n",
    "    cv_accuracies.append(score[1])\n",
    "\n",
    "# Calculate and print mean and std of accuracies\n",
    "print('Mean accuracy: ', np.mean(cv_accuracies))\n",
    "print('Standard deviation: ', np.std(cv_accuracies))\n"
   ]
  },
  {
   "cell_type": "markdown",
   "metadata": {},
   "source": [
    "# Part 22: DNN regression\n",
    "\n",
    "A similar DNN can be used for regression, instead of classification.\n",
    "\n",
    "Question 21: How would you change the DNN used in this lab in order to use it for regression instead?\n",
    "\n",
    "<span style=\"color:blue\"> To change the DNN used in this lab for regression instead of classification, you would need to make the following changes:</span>\n",
    "\n",
    "<span style=\"color:blue\">Change the activation function of the output layer to linear, i.e., no activation function. This is because the output for regression is a continuous value, while the output for classification is a discrete class label.</span>\n",
    "\n",
    "<span style=\"color:blue\">Change the loss function to a regression loss such as Mean Squared Error (MSE) or Mean Absolute Error (MAE), instead of a classification loss such as cross-entropy.</span>"
   ]
  },
  {
   "cell_type": "markdown",
   "metadata": {},
   "source": [
    "## Report\n",
    "\n",
    "Send in this jupyter notebook, with answers to all questions."
   ]
  }
 ],
 "metadata": {
  "kernelspec": {
   "display_name": "Python 3",
   "language": "python",
   "name": "python3"
  },
  "language_info": {
   "codemirror_mode": {
    "name": "ipython",
    "version": 3
   },
   "file_extension": ".py",
   "mimetype": "text/x-python",
   "name": "python",
   "nbconvert_exporter": "python",
   "pygments_lexer": "ipython3",
   "version": "3.8.0"
  }
 },
 "nbformat": 4,
 "nbformat_minor": 4
}
