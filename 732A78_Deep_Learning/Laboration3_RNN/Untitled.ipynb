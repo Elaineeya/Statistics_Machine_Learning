{
 "cells": [
  {
   "cell_type": "code",
   "execution_count": 1,
   "id": "87508f79",
   "metadata": {},
   "outputs": [
    {
     "data": {
      "text/plain": [
       "1372888800.0"
      ]
     },
     "execution_count": 1,
     "metadata": {},
     "output_type": "execute_result"
    }
   ],
   "source": [
    "from datetime import datetime\n",
    "\n",
    "date_string = \"2013-07-04\"\n",
    "date_object = datetime.strptime(date_string, \"%Y-%m-%d\")\n",
    "timestamp = date_object.timestamp()\n",
    "timestamp"
   ]
  },
  {
   "cell_type": "code",
   "execution_count": 2,
   "id": "1919c8ab",
   "metadata": {},
   "outputs": [
    {
     "data": {
      "text/plain": [
       "datetime.datetime(2013, 7, 4, 0, 0)"
      ]
     },
     "execution_count": 2,
     "metadata": {},
     "output_type": "execute_result"
    }
   ],
   "source": [
    "date_object"
   ]
  },
  {
   "cell_type": "code",
   "execution_count": 3,
   "id": "5b33c29d",
   "metadata": {},
   "outputs": [],
   "source": [
    "def normalize_date(date):\n",
    "    date_object = datetime.strptime(date, \"%Y-%m-%d\")\n",
    "    start_of_year = datetime(date_object.year, 1, 1).timestamp()\n",
    "    end_of_year = datetime(date_object.year, 12, 31).timestamp()\n",
    "    date_float = (date_object.timestamp() - start_of_year) / (end_of_year - start_of_year) * 100\n",
    "    return date_float"
   ]
  },
  {
   "cell_type": "code",
   "execution_count": 5,
   "id": "bede483e",
   "metadata": {},
   "outputs": [
    {
     "data": {
      "text/plain": [
       "84.34065934065934"
      ]
     },
     "execution_count": 5,
     "metadata": {},
     "output_type": "execute_result"
    }
   ],
   "source": [
    "normalize_date(\"2014-11-04\")"
   ]
  },
  {
   "cell_type": "code",
   "execution_count": 6,
   "id": "7efa8bed",
   "metadata": {},
   "outputs": [],
   "source": [
    "def normalize_time(time):\n",
    "    time_object = datetime.strptime(time, \"%H:%M:%S\")\n",
    "    time_float = (time_object.hour * 3600 + time_object.minute * 60 + time_object.second) / 86400 * 100\n",
    "    return time_float"
   ]
  },
  {
   "cell_type": "code",
   "execution_count": 9,
   "id": "75f87714",
   "metadata": {},
   "outputs": [
    {
     "data": {
      "text/plain": [
       "95.83333333333334"
      ]
     },
     "execution_count": 9,
     "metadata": {},
     "output_type": "execute_result"
    }
   ],
   "source": [
    "normalize_time(\"23:00:00\")"
   ]
  },
  {
   "cell_type": "code",
   "execution_count": 10,
   "id": "1f0da4cd",
   "metadata": {},
   "outputs": [
    {
     "name": "stdout",
     "output_type": "stream",
     "text": [
      "[(1, 'a'), (2, 'b'), (3, 'c'), (4, 'd')]\n"
     ]
    }
   ],
   "source": [
    "list1 = [1, 2, 3, 4]\n",
    "list2 = ['a', 'b', 'c', 'd']\n",
    "\n",
    "# 使用 zip 函数合并\n",
    "combined_list = list(zip(list1, list2))\n",
    "\n",
    "print(combined_list)"
   ]
  },
  {
   "cell_type": "code",
   "execution_count": null,
   "id": "7131e807",
   "metadata": {},
   "outputs": [],
   "source": []
  }
 ],
 "metadata": {
  "kernelspec": {
   "display_name": "Python 3",
   "language": "python",
   "name": "python3"
  },
  "language_info": {
   "codemirror_mode": {
    "name": "ipython",
    "version": 3
   },
   "file_extension": ".py",
   "mimetype": "text/x-python",
   "name": "python",
   "nbconvert_exporter": "python",
   "pygments_lexer": "ipython3",
   "version": "3.8.0"
  }
 },
 "nbformat": 4,
 "nbformat_minor": 5
}
